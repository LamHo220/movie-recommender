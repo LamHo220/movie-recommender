{
 "cells": [
  {
   "cell_type": "markdown",
   "metadata": {},
   "source": [
    "# SVD"
   ]
  },
  {
   "cell_type": "markdown",
   "metadata": {},
   "source": [
    "## Import libraries"
   ]
  },
  {
   "cell_type": "code",
   "execution_count": 6,
   "metadata": {},
   "outputs": [],
   "source": [
    "from lib.models import RecommendSystemModel\n",
    "\n",
    "from typing import List, Any, Tuple,Union\n",
    "from numpy.typing import NDArray\n",
    "import pandas as pd\n",
    "import numpy as np\n",
    "\n",
    "import matplotlib.pyplot as plt\n",
    "import seaborn as sns"
   ]
  },
  {
   "cell_type": "markdown",
   "metadata": {},
   "source": [
    "## update class \n",
    "https://stackoverflow.com/questions/45161393/jupyter-split-classes-in-multiple-cells"
   ]
  },
  {
   "cell_type": "code",
   "execution_count": 2,
   "metadata": {},
   "outputs": [],
   "source": [
    "import functools\n",
    "def update_class(\n",
    "    main_class=None, exclude=(\"__module__\", \"__name__\", \"__dict__\", \"__weakref__\")\n",
    "):\n",
    "    \"\"\"Class decorator. Adds all methods and members from the wrapped class to main_class\n",
    "\n",
    "    Args:\n",
    "    - main_class: class to which to append members. Defaults to the class with the same name as the wrapped class\n",
    "    - exclude: black-list of members which should not be copied\n",
    "    \"\"\"\n",
    "\n",
    "    def decorates(main_class, exclude, appended_class):\n",
    "        if main_class is None:\n",
    "            main_class = globals()[appended_class.__name__]\n",
    "        for k, v in appended_class.__dict__.items():\n",
    "            if k not in exclude:\n",
    "                setattr(main_class, k, v)\n",
    "        return main_class\n",
    "\n",
    "    return functools.partial(decorates, main_class, exclude)"
   ]
  },
  {
   "cell_type": "code",
   "execution_count": 3,
   "metadata": {},
   "outputs": [],
   "source": [
    "class MyClass:\n",
    "    def method1(self):\n",
    "        print(\"method1\")\n",
    "me = MyClass()\n"
   ]
  },
  {
   "cell_type": "code",
   "execution_count": 4,
   "metadata": {},
   "outputs": [
    {
     "name": "stdout",
     "output_type": "stream",
     "text": [
      "method1\n",
      "method2\n"
     ]
    }
   ],
   "source": [
    "@update_class()\n",
    "class MyClass:\n",
    "    def method2(self):\n",
    "        print(\"method2\")\n",
    "me.method1()\n",
    "me.method2()"
   ]
  },
  {
   "cell_type": "markdown",
   "metadata": {},
   "source": [
    "## The ML model"
   ]
  },
  {
   "cell_type": "code",
   "execution_count": 3,
   "metadata": {},
   "outputs": [],
   "source": [
    "class SVDModel(RecommendSystemModel):\n",
    "    def __init__(self) -> None:\n",
    "        self.data:pd.DataFrame \n",
    "        self.train:pd.DataFrame\n",
    "        self.valid:pd.DataFrame\n",
    "        super().__init__()"
   ]
  },
  {
   "cell_type": "code",
   "execution_count": 4,
   "metadata": {},
   "outputs": [],
   "source": [
    "@update_class()\n",
    "class SVDModel(RecommendSystemModel):\n",
    "    def split(self,ratio: float, tensor: bool = False) -> List[NDArray]:\n",
    "        self.train = np.zeros((len(self.data), len(self.data[0]))).tolist()\n",
    "        self.valid = np.zeros((len(self.data), len(self.data[0]))).tolist()\n",
    "\n",
    "        for i in range(len(self.data)):\n",
    "            for j in range(len(self.data[i])):\n",
    "                if self.data[i][j] > 0:\n",
    "                    if np.random.binomial(1, ratio, 1):\n",
    "                        self.train[i][j] = self.data[i][j]\n",
    "                    else:\n",
    "                        self.valid[i][j] = self.data[i][j]\n"
   ]
  },
  {
   "cell_type": "code",
   "execution_count": 8,
   "metadata": {},
   "outputs": [],
   "source": [
    "@update_class()\n",
    "class SVDModel(RecommendSystemModel):\n",
    "    def data_loader(self, path:str, nrows:int=None, skiprows=None) -> None:\n",
    "        print(\"Dataloader\")\n",
    "        self.data = pd.read_csv(path,low_memory=False,nrows=nrows,skiprows=skiprows)\n",
    "        # return super().data_loader()"
   ]
  },
  {
   "cell_type": "code",
   "execution_count": 8,
   "metadata": {},
   "outputs": [],
   "source": [
    "@update_class()\n",
    "class SVDModel(RecommendSystemModel):\n",
    "    def learn_to_recommend(self,features: int = 10, lr: float = 0.0002, epochs: int = 101, weight_decay: float = 0.02, stopping: float = 0.001) -> Tuple[NDArray, NDArray, float, float]:\n",
    "        print(789)\n",
    "        # return super().learn_to_recommend(data, features, lr, epochs, weight_decay, stopping)"
   ]
  },
  {
   "cell_type": "code",
   "execution_count": 9,
   "metadata": {},
   "outputs": [],
   "source": [
    "@update_class()\n",
    "class SVDModel(RecommendSystemModel):\n",
    "    def prediction(P: NDArray, Q: NDArray, u: int, i: int) -> float:\n",
    "        print(321)\n",
    "        # return super().prediction(P, Q, u, i)"
   ]
  },
  {
   "cell_type": "code",
   "execution_count": 10,
   "metadata": {},
   "outputs": [],
   "source": [
    "@update_class()\n",
    "class SVDModel(RecommendSystemModel):\n",
    "    def loss(data: Any, P: NDArray, Q: NDArray) -> float:\n",
    "        print(654)\n",
    "        # return super().loss(data, P, Q)"
   ]
  },
  {
   "cell_type": "code",
   "execution_count": 22,
   "metadata": {},
   "outputs": [],
   "source": [
    "@update_class()\n",
    "class SVDModel(RecommendSystemModel):\n",
    "    def svd(self):\n",
    "        print(987)\n",
    "        # return super().svd()"
   ]
  },
  {
   "cell_type": "code",
   "execution_count": 23,
   "metadata": {},
   "outputs": [
    {
     "name": "stdout",
     "output_type": "stream",
     "text": [
      "987\n",
      "789\n"
     ]
    }
   ],
   "source": [
    "svd = SVDModel()\n",
    "\n",
    "svd.svd()\n",
    "svd.learn_to_recommend(2)"
   ]
  }
 ],
 "metadata": {
  "kernelspec": {
   "display_name": "Python 3 (ipykernel)",
   "language": "python",
   "name": "python3"
  },
  "language_info": {
   "codemirror_mode": {
    "name": "ipython",
    "version": 3
   },
   "file_extension": ".py",
   "mimetype": "text/x-python",
   "name": "python",
   "nbconvert_exporter": "python",
   "pygments_lexer": "ipython3",
   "version": "3.9.13"
  },
  "orig_nbformat": 4
 },
 "nbformat": 4,
 "nbformat_minor": 2
}
