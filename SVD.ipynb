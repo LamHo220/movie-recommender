{
 "cells": [
  {
   "cell_type": "code",
   "execution_count": null,
   "metadata": {},
   "outputs": [],
   "source": [
    "from lib.models import RecommendSystemModel\n",
    "\n",
    "from typing import List, Any, Tuple\n",
    "from numpy.typing import NDArray"
   ]
  },
  {
   "cell_type": "code",
   "execution_count": 1,
   "metadata": {},
   "outputs": [],
   "source": [
    "import functools\n",
    "def update_class(\n",
    "    main_class=None, exclude=(\"__module__\", \"__name__\", \"__dict__\", \"__weakref__\")\n",
    "):\n",
    "    \"\"\"Class decorator. Adds all methods and members from the wrapped class to main_class\n",
    "\n",
    "    Args:\n",
    "    - main_class: class to which to append members. Defaults to the class with the same name as the wrapped class\n",
    "    - exclude: black-list of members which should not be copied\n",
    "    \"\"\"\n",
    "\n",
    "    def decorates(main_class, exclude, appended_class):\n",
    "        if main_class is None:\n",
    "            main_class = globals()[appended_class.__name__]\n",
    "        for k, v in appended_class.__dict__.items():\n",
    "            if k not in exclude:\n",
    "                setattr(main_class, k, v)\n",
    "        return main_class\n",
    "\n",
    "    return functools.partial(decorates, main_class, exclude)"
   ]
  },
  {
   "cell_type": "code",
   "execution_count": 2,
   "metadata": {},
   "outputs": [],
   "source": [
    "class MyClass:\n",
    "    def method1(self):\n",
    "        print(\"method1\")\n",
    "me = MyClass()\n"
   ]
  },
  {
   "cell_type": "code",
   "execution_count": 3,
   "metadata": {},
   "outputs": [
    {
     "name": "stdout",
     "output_type": "stream",
     "text": [
      "method1\n",
      "method2\n"
     ]
    }
   ],
   "source": [
    "@update_class()\n",
    "class MyClass:\n",
    "    def method2(self):\n",
    "        print(\"method2\")\n",
    "me.method1()\n",
    "me.method2()"
   ]
  },
  {
   "cell_type": "code",
   "execution_count": 4,
   "metadata": {},
   "outputs": [
    {
     "ename": "ModuleNotFoundError",
     "evalue": "No module named 'lib.utils.decorator'",
     "output_type": "error",
     "traceback": [
      "\u001b[0;31m---------------------------------------------------------------------------\u001b[0m",
      "\u001b[0;31mModuleNotFoundError\u001b[0m                       Traceback (most recent call last)",
      "\u001b[1;32m/Users/stellalam/Projects/movie-recommender/SVD.ipynb Cell 5\u001b[0m in \u001b[0;36m<cell line: 3>\u001b[0;34m()\u001b[0m\n\u001b[1;32m      <a href='vscode-notebook-cell:/Users/stellalam/Projects/movie-recommender/SVD.ipynb#X20sZmlsZQ%3D%3D?line=0'>1</a>\u001b[0m \u001b[39m# from lib.utils.decorator import update_class\u001b[39;00m\n\u001b[1;32m      <a href='vscode-notebook-cell:/Users/stellalam/Projects/movie-recommender/SVD.ipynb#X20sZmlsZQ%3D%3D?line=1'>2</a>\u001b[0m \u001b[39mimport\u001b[39;00m \u001b[39mfunctools\u001b[39;00m\n\u001b[0;32m----> <a href='vscode-notebook-cell:/Users/stellalam/Projects/movie-recommender/SVD.ipynb#X20sZmlsZQ%3D%3D?line=2'>3</a>\u001b[0m \u001b[39mfrom\u001b[39;00m \u001b[39mlib\u001b[39;00m\u001b[39m.\u001b[39;00m\u001b[39mmodels\u001b[39;00m \u001b[39mimport\u001b[39;00m RecommendSystemModel\n\u001b[1;32m      <a href='vscode-notebook-cell:/Users/stellalam/Projects/movie-recommender/SVD.ipynb#X20sZmlsZQ%3D%3D?line=4'>5</a>\u001b[0m \u001b[39mfrom\u001b[39;00m \u001b[39mtyping\u001b[39;00m \u001b[39mimport\u001b[39;00m List, Any, Tuple\n\u001b[1;32m      <a href='vscode-notebook-cell:/Users/stellalam/Projects/movie-recommender/SVD.ipynb#X20sZmlsZQ%3D%3D?line=5'>6</a>\u001b[0m \u001b[39mfrom\u001b[39;00m \u001b[39mnumpy\u001b[39;00m\u001b[39m.\u001b[39;00m\u001b[39mtyping\u001b[39;00m \u001b[39mimport\u001b[39;00m NDArray\n",
      "File \u001b[0;32m~/Projects/movie-recommender/lib/__init__.py:2\u001b[0m, in \u001b[0;36m<module>\u001b[0;34m\u001b[0m\n\u001b[1;32m      1\u001b[0m \u001b[39mfrom\u001b[39;00m \u001b[39m.\u001b[39;00m\u001b[39mmodels\u001b[39;00m \u001b[39mimport\u001b[39;00m \u001b[39m*\u001b[39m\n\u001b[0;32m----> 2\u001b[0m \u001b[39mfrom\u001b[39;00m \u001b[39m.\u001b[39;00m\u001b[39mutils\u001b[39;00m \u001b[39mimport\u001b[39;00m \u001b[39m*\u001b[39m\n",
      "File \u001b[0;32m~/Projects/movie-recommender/lib/utils/__init__.py:1\u001b[0m, in \u001b[0;36m<module>\u001b[0;34m\u001b[0m\n\u001b[0;32m----> 1\u001b[0m \u001b[39mfrom\u001b[39;00m \u001b[39m.\u001b[39;00m\u001b[39mdecorator\u001b[39;00m \u001b[39mimport\u001b[39;00m \u001b[39m*\u001b[39m\n\u001b[1;32m      2\u001b[0m \u001b[39mfrom\u001b[39;00m \u001b[39m.\u001b[39;00m\u001b[39mutils\u001b[39;00m \u001b[39mimport\u001b[39;00m \u001b[39m*\u001b[39m\n",
      "\u001b[0;31mModuleNotFoundError\u001b[0m: No module named 'lib.utils.decorator'"
     ]
    }
   ],
   "source": [
    "# from lib.utils.decorator import update_class\n",
    "import functools\n",
    "from lib.models import RecommendSystemModel\n",
    "\n",
    "from typing import List, Any, Tuple\n",
    "from numpy.typing import NDArray"
   ]
  },
  {
   "cell_type": "code",
   "execution_count": null,
   "metadata": {},
   "outputs": [],
   "source": [
    "class SVDModel(RecommendSystemModel):\n",
    "    def __init__(self) -> None:\n",
    "        super().__init__()\n",
    "svd = SVDModel()"
   ]
  },
  {
   "cell_type": "code",
   "execution_count": null,
   "metadata": {},
   "outputs": [],
   "source": [
    "@update_class()\n",
    "class SVDModel(RecommendSystemModel):\n",
    "    def split(ratio: float, tensor: bool = False) -> List[NDArray]:\n",
    "        print(123)\n",
    "        # return super().split(ratio, tensor)"
   ]
  },
  {
   "cell_type": "code",
   "execution_count": null,
   "metadata": {},
   "outputs": [],
   "source": [
    "@update_class()\n",
    "class SVDModel(RecommendSystemModel):\n",
    "    def data_loader(self) -> None:\n",
    "        print(456)\n",
    "        # return super().data_loader()"
   ]
  },
  {
   "cell_type": "code",
   "execution_count": null,
   "metadata": {},
   "outputs": [],
   "source": [
    "@update_class()\n",
    "class SVDModel(RecommendSystemModel):\n",
    "    def learn_to_recommend(self, data: Any, features: int = 10, lr: float = 0.0002, epochs: int = 101, weight_decay: float = 0.02, stopping: float = 0.001) -> Tuple[NDArray, NDArray, float, float]:\n",
    "        print(789)\n",
    "        # return super().learn_to_recommend(data, features, lr, epochs, weight_decay, stopping)"
   ]
  },
  {
   "cell_type": "code",
   "execution_count": null,
   "metadata": {},
   "outputs": [],
   "source": [
    "@update_class()\n",
    "class SVDModel(RecommendSystemModel):\n",
    "    def prediction(P: NDArray, Q: NDArray, u: int, i: int) -> float:\n",
    "        print(321)\n",
    "        # return super().prediction(P, Q, u, i)"
   ]
  },
  {
   "cell_type": "code",
   "execution_count": null,
   "metadata": {},
   "outputs": [],
   "source": [
    "@update_class()\n",
    "class SVDModel(RecommendSystemModel):\n",
    "    def loss(data: Any, P: NDArray, Q: NDArray) -> float:\n",
    "        print(654)\n",
    "        # return super().loss(data, P, Q)"
   ]
  },
  {
   "cell_type": "code",
   "execution_count": null,
   "metadata": {},
   "outputs": [],
   "source": [
    "@update_class()\n",
    "class SVDModel(RecommendSystemModel):\n",
    "    def svd(self):\n",
    "        print(987)\n",
    "        # return super().svd()"
   ]
  }
 ],
 "metadata": {
  "kernelspec": {
   "display_name": "Python 3",
   "language": "python",
   "name": "python3"
  },
  "orig_nbformat": 4
 },
 "nbformat": 4,
 "nbformat_minor": 2
}
