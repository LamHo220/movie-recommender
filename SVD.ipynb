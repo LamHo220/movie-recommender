{
 "cells": [
  {
   "cell_type": "markdown",
   "metadata": {},
   "source": [
    "# SVD"
   ]
  },
  {
   "cell_type": "markdown",
   "metadata": {},
   "source": [
    "## Import libraries"
   ]
  },
  {
   "cell_type": "code",
   "execution_count": 286,
   "metadata": {},
   "outputs": [],
   "source": [
    "from lib.models import RecommendSystemModel\n",
    "\n",
    "from typing import List, Any, Tuple,Union\n",
    "from numpy.typing import NDArray\n",
    "import pandas as pd\n",
    "import numpy as np\n",
    "\n",
    "import matplotlib.pyplot as plt\n",
    "import seaborn as sns\n",
    "\n",
    "# import tensorflow as tf"
   ]
  },
  {
   "cell_type": "markdown",
   "metadata": {},
   "source": [
    "## Function to update class in Jupyter Notebook \n",
    "https://stackoverflow.com/questions/45161393/jupyter-split-classes-in-multiple-cells"
   ]
  },
  {
   "cell_type": "code",
   "execution_count": 287,
   "metadata": {},
   "outputs": [],
   "source": [
    "import functools\n",
    "def update_class(\n",
    "    main_class=None, exclude=(\"__module__\", \"__name__\", \"__dict__\", \"__weakref__\")\n",
    "):\n",
    "    \"\"\"Class decorator. Adds all methods and members from the wrapped class to main_class\n",
    "\n",
    "    Args:\n",
    "    - main_class: class to which to append members. Defaults to the class with the same name as the wrapped class\n",
    "    - exclude: black-list of members which should not be copied\n",
    "    \"\"\"\n",
    "\n",
    "    def decorates(main_class, exclude, appended_class):\n",
    "        if main_class is None:\n",
    "            main_class = globals()[appended_class.__name__]\n",
    "        for k, v in appended_class.__dict__.items():\n",
    "            if k not in exclude:\n",
    "                setattr(main_class, k, v)\n",
    "        return main_class\n",
    "\n",
    "    return functools.partial(decorates, main_class, exclude)"
   ]
  },
  {
   "cell_type": "markdown",
   "metadata": {},
   "source": [
    "### Example"
   ]
  },
  {
   "cell_type": "code",
   "execution_count": 288,
   "metadata": {},
   "outputs": [],
   "source": [
    "class MyClass:\n",
    "    def method1(self):\n",
    "        print(\"method1\")\n",
    "me = MyClass()\n"
   ]
  },
  {
   "cell_type": "code",
   "execution_count": 289,
   "metadata": {},
   "outputs": [
    {
     "name": "stdout",
     "output_type": "stream",
     "text": [
      "method1\n",
      "method2\n"
     ]
    }
   ],
   "source": [
    "@update_class()\n",
    "class MyClass:\n",
    "    def method2(self):\n",
    "        print(\"method2\")\n",
    "me.method1()\n",
    "me.method2()"
   ]
  },
  {
   "cell_type": "markdown",
   "metadata": {},
   "source": [
    "## The ML model"
   ]
  },
  {
   "cell_type": "code",
   "execution_count": 290,
   "metadata": {},
   "outputs": [],
   "source": [
    "class SVDModel(RecommendSystemModel):\n",
    "    def __init__(self, mode:str=None, features: int = None, lr: float = None, epochs: int = None, weight_decay: float = None, stopping: float = None, momentum: float = None) -> None:\n",
    "        # Data frame\n",
    "        self.data:pd.DataFrame\n",
    "        # # Training data \n",
    "        self.train:NDArray\n",
    "        # # Validating Data\n",
    "        self.valid:NDArray\n",
    "        self.test:NDArray\n",
    "        # SVD mode \n",
    "        self.mode: str = mode or 'funk'\n",
    "        # Number of features\n",
    "        self.features: int = features or 5\n",
    "        # Learning rate\n",
    "        self.lr: float = lr or 0.01\n",
    "        # Number of total epochs\n",
    "        self.epochs: int = epochs or 101\n",
    "        # the weight decay \n",
    "        self.weight_decay: float = weight_decay or 0.02\n",
    "        self.stopping: float = stopping or 0.001\n",
    "        self.momentum: float = momentum or 0.0\n",
    "        # Tensor SGD optimizer\n",
    "        # self.optimizer = tf.keras.optimizers.SGD(learning_rate=self.lr, momentum=self.momentum,)\n",
    "        \n",
    "        # # Rating matrix\n",
    "        # self.R: NDArray\n",
    "        # # User matrix\n",
    "        # self.P: NDArray\n",
    "        # # Item matrix\n",
    "        # self.Q: NDArray\n",
    "        \n",
    "        # Rating matrix\n",
    "        # self._R = self.R.copy()\n",
    "        # User latent matrix\n",
    "        self._P: NDArray# = np.random.rand(self.n_users, features) * 0.1\n",
    "        # Item latent matrix\n",
    "        self._Q: NDArray # = np.random.rand(self.n_items, features) * 0.1\n",
    "        \n",
    "        \n",
    "        super().__init__()"
   ]
  },
  {
   "cell_type": "code",
   "execution_count": 291,
   "metadata": {},
   "outputs": [],
   "source": [
    "@update_class()\n",
    "class SVDModel(RecommendSystemModel):\n",
    "    def split(self, ratio_train_test: float, ratio_train_valid: float, tensor: bool = False) -> List[NDArray]:\n",
    "        userItemMatrix = self.convertToUserItemMatrix(self.data, self.n_users, self.n_items)\n",
    "        \n",
    "        trainBeforeSplit = np.zeros((len(userItemMatrix), len(userItemMatrix[0]))).tolist()\n",
    "        self.train = np.zeros((len(userItemMatrix), len(userItemMatrix[0]))).tolist()\n",
    "        self.valid = np.zeros((len(userItemMatrix), len(userItemMatrix[0]))).tolist()\n",
    "        self.test = np.zeros((len(userItemMatrix), len(userItemMatrix[0]))).tolist()\n",
    "\n",
    "        for i in range(len(userItemMatrix)):\n",
    "            for j in range(len(userItemMatrix[i])):\n",
    "                if userItemMatrix[i][j] > 0:\n",
    "                    if np.random.binomial(1, ratio_train_test, 1):\n",
    "                        trainBeforeSplit[i][j] = userItemMatrix[i][j]\n",
    "                    else:\n",
    "                        self.test[i][j] = userItemMatrix[i][j]\n",
    "        \n",
    "        for i in range(len(trainBeforeSplit)):\n",
    "            for j in range(len(trainBeforeSplit[i])):\n",
    "                if trainBeforeSplit[i][j] > 0:\n",
    "                    if np.random.binomial(1, ratio_train_valid, 1):\n",
    "                        self.train[i][j] = trainBeforeSplit[i][j]\n",
    "                    else:\n",
    "                        self.valid[i][j] = trainBeforeSplit[i][j]\n"
   ]
  },
  {
   "cell_type": "code",
   "execution_count": 292,
   "metadata": {},
   "outputs": [],
   "source": [
    "@update_class()\n",
    "class SVDModel(RecommendSystemModel):\n",
    "    def data_loader(self, path:str=None, nrows:int=None, skiprows=None, data:pd.DataFrame=None, n_users: int = None, n_items = None) -> None:\n",
    "        if not path and data.empty:\n",
    "            raise 'Error: one of path or data frame should be provided'\n",
    "        if data.empty:\n",
    "            self.data = pd.read_csv(path,low_memory=False,nrows=nrows,skiprows=skiprows)\n",
    "        elif not path:\n",
    "            self.data = data\n",
    "        self.n_users = n_users\n",
    "        self.n_items = n_items"
   ]
  },
  {
   "cell_type": "code",
   "execution_count": 326,
   "metadata": {},
   "outputs": [],
   "source": [
    "@update_class()\n",
    "class SVDModel(RecommendSystemModel):\n",
    "    def training(self) -> Tuple[NDArray, NDArray, float, float]:\n",
    "        loss_train = []\n",
    "        loss_valid = []\n",
    "        errors = []\n",
    "\n",
    "        # self.n_users = len(self.train)\n",
    "        # self.n_items = len(self.valid)\n",
    "        self._P = np.random.rand(self.n_users, self.features) * 0.1\n",
    "        self._Q = np.random.rand(self.n_items, self.features) * 0.1\n",
    "        # print(np.shape(self._P))\n",
    "        # print(np.shape(self._Q))\n",
    "\n",
    "        # Johnny\n",
    "        for e in range(self.epochs):\n",
    "            for id_user in range(self.n_users):\n",
    "                for id_item in range(self.n_items):\n",
    "                    if self.train[id_user][id_item] > 0:\n",
    "                        \n",
    "                        predict = self.prediction(self._P, self._Q, id_user, id_item)\n",
    "                        \n",
    "                        error = self.train[id_user][id_item] - predict\n",
    "                        errors.append(error)\n",
    "                        \n",
    "                        self.optimize(error, id_user, id_item, self.weight_decay)\n",
    "            trainLoss = self.loss(self.train, self._P, self._Q)\n",
    "            validLoss = self.loss(self.valid, self._P, self._Q)\n",
    "            loss_train.append(trainLoss)\n",
    "            loss_valid.append(validLoss)\n",
    "            if e % 10 == 0:\n",
    "                print('Epoch : ', \"{:3.0f}\".format(e+1), ' | Train :', \"{:3.3f}\".format(trainLoss), \n",
    "                    ' | Valid :', \"{:3.3f}\".format(validLoss))\n",
    "                \n",
    "            if e > 1:\n",
    "                if validLoss - loss_valid[-2] < self.stopping:\n",
    "                    print('Training stopped:')\n",
    "                    print('Epoch : ', \"{:3.0f}\".format(e+1), ' | Train :', \"{:3.3f}\".format(trainLoss), \n",
    "                    ' | Valid :', \"{:3.3f}\".format(validLoss))\n",
    "                    break\n",
    "        return loss_train, loss_valid, errors\n",
    "        # return super().learn_to_recommend(data, features, lr, epochs, weight_decay, stopping)"
   ]
  },
  {
   "cell_type": "code",
   "execution_count": 294,
   "metadata": {},
   "outputs": [],
   "source": [
    "@update_class()\n",
    "class SVDModel(RecommendSystemModel):\n",
    "    def convertToUserItemMatrix(self, data, n_users, n_movies):\n",
    "        data = np.array(data,dtype=int)\n",
    "        userItemMatrix = []\n",
    "        for id_user in range(1, n_users + 1):\n",
    "            if id_user % 1000 == 0: print('{}/{}'.format(id_user, n_users))\n",
    "            # id_movies = np.array([ratingRecord[1] for ratingRecord in data if ratingRecord[0] == id_user],dtype=int)\n",
    "            # # print(id_movies.dtype)\n",
    "            # id_ratings = [ratingRecord[2] for ratingRecord in data if ratingRecord[0] == id_user]\n",
    "            id_movies = data[:, 1][data[:, 0] == id_user]\n",
    "            id_ratings = data[:, 2][data[:, 0] == id_user]\n",
    "            ratings = np.zeros(n_movies)\n",
    "            ratings[id_movies - 1] = id_ratings\n",
    "            # try:\n",
    "            #     ratings[id_movies - 1] = id_ratings\n",
    "            # except:\n",
    "            #     print(id_user)\n",
    "            #     raise 'Error:'\n",
    "            userItemMatrix.append(list(ratings))\n",
    "        return userItemMatrix"
   ]
  },
  {
   "cell_type": "code",
   "execution_count": 295,
   "metadata": {},
   "outputs": [],
   "source": [
    "@update_class()\n",
    "class SVDModel(RecommendSystemModel):\n",
    "    def prediction(self, P: NDArray, Q: NDArray, u: int, i: int) -> float:\n",
    "        # Woody\n",
    "        # print(P[u: ])\n",
    "        return np.dot(P[u, : ], Q[i, : ])\n",
    "        # print(321)\n",
    "        # return super().prediction(P, Q, u, i)"
   ]
  },
  {
   "cell_type": "code",
   "execution_count": 296,
   "metadata": {},
   "outputs": [],
   "source": [
    "@update_class()\n",
    "class SVDModel(RecommendSystemModel):\n",
    "    def loss(self, groundTruthData, P: NDArray, Q: NDArray) -> float:\n",
    "        # Woody\n",
    "        squaredErrors = 0.0\n",
    "        numOfPrediction = 0\n",
    "        # nb_users, nb_items = len(data), len(data[0])\n",
    "\n",
    "        for u in range(self.n_users):\n",
    "            for i in range(self.n_items):\n",
    "                if groundTruthData[u][i] > 0:\n",
    "                    squaredErrors += pow(groundTruthData[u][i] - self.prediction(P, Q, u, i), 2)\n",
    "                    numOfPrediction += 1\n",
    "                    \n",
    "        return squaredErrors / numOfPrediction\n",
    "        print(654)\n",
    "        # return super().loss(data, P, Q)"
   ]
  },
  {
   "cell_type": "code",
   "execution_count": 297,
   "metadata": {},
   "outputs": [],
   "source": [
    "@update_class()\n",
    "class SVDModel(RecommendSystemModel):\n",
    "    def optimize(self, error:float, id_user:int, id_item:int,weight_decay):\n",
    "        # Johnny\n",
    "        # P[id_user] = self.optimizer.minimize(P[id_user], [error])\n",
    "        # Q[id_item] = self.optimizer.minimize()\n",
    "        # return super().svd()\n",
    "\n",
    "        # self._P[:, id_user] += self.lr * (error * self._Q[:, id_item] - weight_decay * self._P[:, id_user])\n",
    "        # self._Q[:, id_item] += self.lr * (error * self._P[:, id_user] - weight_decay * self._Q[:, id_item])\n",
    "\n",
    "        for feature in range(self.features):\n",
    "            self._P[id_user, feature] = self.lr * (2*self._Q[id_item, feature] * error - 2*self.weight_decay*self._P[id_user, feature]) + self._P[id_user, feature]\n",
    "            self._Q[id_item, feature] = self.lr * (2*self._P[id_user, feature] * error - 2*self.weight_decay*self._Q[id_item, feature]) + self._Q[id_item, feature]"
   ]
  },
  {
   "cell_type": "code",
   "execution_count": 298,
   "metadata": {},
   "outputs": [],
   "source": [
    "# define the paths\n",
    "data_path = './data/ml-latest-small/'\n",
    "df_rating = pd.read_csv(data_path+'ratings.csv')\n",
    "df_movies = pd.read_csv(data_path+'movies.csv')\n",
    "m_movies = df_movies['movieId'].nunique()\n",
    "n_users = df_rating['userId'].nunique()\n",
    "n_ratings = len(df_rating)"
   ]
  },
  {
   "cell_type": "code",
   "execution_count": 299,
   "metadata": {},
   "outputs": [
    {
     "name": "stdout",
     "output_type": "stream",
     "text": [
      "9742\n",
      "610\n",
      "        userId  movieId  rating   timestamp\n",
      "0            1        1     4.0   964982703\n",
      "1            1        3     4.0   964981247\n",
      "2            1        6     4.0   964982224\n",
      "3            1       47     5.0   964983815\n",
      "4            1       50     5.0   964982931\n",
      "...        ...      ...     ...         ...\n",
      "100831     610   166534     4.0  1493848402\n",
      "100832     610   168248     5.0  1493850091\n",
      "100833     610   168250     5.0  1494273047\n",
      "100834     610   168252     5.0  1493846352\n",
      "100835     610   170875     3.0  1493846415\n",
      "\n",
      "[100836 rows x 4 columns]\n",
      "      movieId                                      title  \\\n",
      "0           1                           Toy Story (1995)   \n",
      "1           2                             Jumanji (1995)   \n",
      "2           3                    Grumpier Old Men (1995)   \n",
      "3           4                   Waiting to Exhale (1995)   \n",
      "4           5         Father of the Bride Part II (1995)   \n",
      "...       ...                                        ...   \n",
      "9737   193581  Black Butler: Book of the Atlantic (2017)   \n",
      "9738   193583               No Game No Life: Zero (2017)   \n",
      "9739   193585                               Flint (2017)   \n",
      "9740   193587        Bungo Stray Dogs: Dead Apple (2018)   \n",
      "9741   193609        Andrew Dice Clay: Dice Rules (1991)   \n",
      "\n",
      "                                           genres  \n",
      "0     Adventure|Animation|Children|Comedy|Fantasy  \n",
      "1                      Adventure|Children|Fantasy  \n",
      "2                                  Comedy|Romance  \n",
      "3                            Comedy|Drama|Romance  \n",
      "4                                          Comedy  \n",
      "...                                           ...  \n",
      "9737              Action|Animation|Comedy|Fantasy  \n",
      "9738                     Animation|Comedy|Fantasy  \n",
      "9739                                        Drama  \n",
      "9740                             Action|Animation  \n",
      "9741                                       Comedy  \n",
      "\n",
      "[9742 rows x 3 columns]\n"
     ]
    }
   ],
   "source": [
    "print(m_movies)\n",
    "print(n_users)\n",
    "print(df_rating)\n",
    "print(df_movies)"
   ]
  },
  {
   "cell_type": "code",
   "execution_count": 300,
   "metadata": {},
   "outputs": [
    {
     "data": {
      "text/plain": [
       "193609"
      ]
     },
     "execution_count": 300,
     "metadata": {},
     "output_type": "execute_result"
    }
   ],
   "source": [
    "df_movies['movieId'].max()"
   ]
  },
  {
   "cell_type": "code",
   "execution_count": 301,
   "metadata": {},
   "outputs": [
    {
     "data": {
      "text/plain": [
       "610"
      ]
     },
     "execution_count": 301,
     "metadata": {},
     "output_type": "execute_result"
    }
   ],
   "source": [
    "df_rating['userId'].max()"
   ]
  },
  {
   "cell_type": "code",
   "execution_count": 302,
   "metadata": {},
   "outputs": [],
   "source": [
    "df_movies.insert(1, 'newMovieId', value=range(1,len(df_movies)+1))"
   ]
  },
  {
   "cell_type": "code",
   "execution_count": 303,
   "metadata": {},
   "outputs": [],
   "source": [
    "newMovieIdDict = {}\n",
    "for index, movie in df_movies.iterrows():\n",
    "  newMovieIdDict[movie['movieId']] = movie['newMovieId']"
   ]
  },
  {
   "cell_type": "code",
   "execution_count": 304,
   "metadata": {},
   "outputs": [
    {
     "data": {
      "text/plain": [
       "9739"
      ]
     },
     "execution_count": 304,
     "metadata": {},
     "output_type": "execute_result"
    }
   ],
   "source": [
    "newMovieIdDict[193583]"
   ]
  },
  {
   "cell_type": "code",
   "execution_count": 305,
   "metadata": {},
   "outputs": [],
   "source": [
    "df_rating.replace({\"movieId\": newMovieIdDict}, inplace=True)"
   ]
  },
  {
   "cell_type": "code",
   "execution_count": 306,
   "metadata": {},
   "outputs": [],
   "source": [
    "# for index, rating in df_rating.iterrows():\n",
    "#   if index % 100000 == 0: print('{}/{}'.format(index, len(df_rating)))\n",
    "#   rating['movieId'] = newMovieIdDict[rating['movieId']]"
   ]
  },
  {
   "cell_type": "code",
   "execution_count": 307,
   "metadata": {},
   "outputs": [],
   "source": [
    "# for index, movie in df_movies.iterrows():\n",
    "#   for index, rating in df_rating.iterrows():\n",
    "#     if rating['movieId'] == movie['movieId']:\n",
    "#       rating['movieId'] = index+1"
   ]
  },
  {
   "cell_type": "code",
   "execution_count": 308,
   "metadata": {},
   "outputs": [],
   "source": [
    "# for index, movie in df_movies.iterrows():\n",
    "#   c = df_rating['movieId'].eq(movie['movieId'])\n",
    "#   df_rating.loc[c,'movieId']=index+1"
   ]
  },
  {
   "cell_type": "code",
   "execution_count": null,
   "metadata": {},
   "outputs": [],
   "source": []
  },
  {
   "cell_type": "code",
   "execution_count": 309,
   "metadata": {},
   "outputs": [],
   "source": [
    "# data = np.array(df_rating,dtype=int)\n",
    "# u3 = data[:, 1][data[:, 0] == 3]\n",
    "# print(len(u3))\n",
    "# print(u3)"
   ]
  },
  {
   "cell_type": "code",
   "execution_count": null,
   "metadata": {},
   "outputs": [],
   "source": []
  },
  {
   "cell_type": "code",
   "execution_count": 310,
   "metadata": {},
   "outputs": [
    {
     "name": "stdout",
     "output_type": "stream",
     "text": [
      "<class 'pandas.core.frame.DataFrame'>\n",
      "RangeIndex: 100836 entries, 0 to 100835\n",
      "Data columns (total 4 columns):\n",
      " #   Column     Non-Null Count   Dtype\n",
      "---  ------     --------------   -----\n",
      " 0   userId     100836 non-null  int64\n",
      " 1   movieId    100836 non-null  int64\n",
      " 2   rating     100836 non-null  int64\n",
      " 3   timestamp  100836 non-null  int64\n",
      "dtypes: int64(4)\n",
      "memory usage: 3.1 MB\n"
     ]
    }
   ],
   "source": [
    "\n",
    "df_rating['rating'] = df_rating['rating'].astype(np.int64)\n",
    "df_rating.info()\n"
   ]
  },
  {
   "cell_type": "code",
   "execution_count": 311,
   "metadata": {},
   "outputs": [
    {
     "data": {
      "text/plain": [
       "False"
      ]
     },
     "execution_count": 311,
     "metadata": {},
     "output_type": "execute_result"
    }
   ],
   "source": [
    "df_rating.empty"
   ]
  },
  {
   "cell_type": "code",
   "execution_count": 319,
   "metadata": {},
   "outputs": [],
   "source": [
    "features = 5\n",
    "lr = 0.01\n",
    "epochs = 101\n",
    "weight_decay = 0.02\n",
    "stopping = 0.001\n",
    "\n",
    "svd = SVDModel(features=features, lr=lr, epochs=epochs, weight_decay=weight_decay, stopping=stopping)"
   ]
  },
  {
   "cell_type": "code",
   "execution_count": 320,
   "metadata": {},
   "outputs": [],
   "source": [
    "svd.data_loader(data=df_rating, n_items = m_movies, n_users=n_users)"
   ]
  },
  {
   "cell_type": "code",
   "execution_count": 321,
   "metadata": {},
   "outputs": [
    {
     "name": "stdout",
     "output_type": "stream",
     "text": [
      "9742\n",
      "{'mode': 'funk', 'features': 5, 'lr': 0.01, 'epochs': 101, 'weight_decay': 0.02, 'stopping': 0.001, 'momentum': 0.0, 'data':         userId  movieId  rating   timestamp\n",
      "0            1        1       4   964982703\n",
      "1            1        3       4   964981247\n",
      "2            1        6       4   964982224\n",
      "3            1       44       5   964983815\n",
      "4            1       47       5   964982931\n",
      "...        ...      ...     ...         ...\n",
      "100831     610     9435       4  1493848402\n",
      "100832     610     9462       5  1493850091\n",
      "100833     610     9463       5  1494273047\n",
      "100834     610     9464       5  1493846352\n",
      "100835     610     9504       3  1493846415\n",
      "\n",
      "[100836 rows x 4 columns], 'valid': None, 'train': None, 'test': None, 'n_users': 610, 'n_items': 9742}\n"
     ]
    }
   ],
   "source": [
    "print(svd.n_items)\n",
    "print(svd.__dict__)\n",
    "# svd.n_items = 10"
   ]
  },
  {
   "cell_type": "code",
   "execution_count": 322,
   "metadata": {},
   "outputs": [],
   "source": [
    "svd.split(0.6,0.8)"
   ]
  },
  {
   "cell_type": "code",
   "execution_count": 324,
   "metadata": {},
   "outputs": [
    {
     "name": "stdout",
     "output_type": "stream",
     "text": [
      "610 9742\n"
     ]
    }
   ],
   "source": [
    "print(len(svd.test), len(svd.test[0]))"
   ]
  },
  {
   "cell_type": "code",
   "execution_count": 327,
   "metadata": {},
   "outputs": [
    {
     "name": "stdout",
     "output_type": "stream",
     "text": [
      "Epoch :    1  | Train : 4.682  | Valid : 5.176\n",
      "Epoch :   11  | Train : 0.586  | Valid : 1.333\n",
      "Epoch :   21  | Train : 0.435  | Valid : 1.361\n",
      "Epoch :   31  | Train : 0.384  | Valid : 1.408\n",
      "Epoch :   41  | Train : 0.361  | Valid : 1.445\n",
      "Epoch :   51  | Train : 0.348  | Valid : 1.474\n",
      "Epoch :   61  | Train : 0.340  | Valid : 1.497\n",
      "Epoch :   71  | Train : 0.334  | Valid : 1.515\n",
      "Epoch :   81  | Train : 0.330  | Valid : 1.531\n",
      "Epoch :   91  | Train : 0.327  | Valid : 1.544\n",
      "Epoch :  101  | Train : 0.325  | Valid : 1.555\n"
     ]
    }
   ],
   "source": [
    "\n",
    "loss_train, loss_valid, errors = svd.training()"
   ]
  },
  {
   "cell_type": "code",
   "execution_count": 328,
   "metadata": {},
   "outputs": [
    {
     "data": {
      "image/png": "[encoded data removed]",
      "text/plain": [
       "<Figure size 1200x800 with 1 Axes>"
      ]
     },
     "metadata": {},
     "output_type": "display_data"
    }
   ],
   "source": [
    "x = list(range(len(loss_train)))\n",
    "k=0\n",
    "\n",
    "sns.set(rc={'figure.figsize':(12,8)})\n",
    "sns.set(font_scale = 1.5)\n",
    "\n",
    "plt.plot(x[-k:], loss_train[-k:], 'r', label=\"Train\")\n",
    "plt.plot(x[-k:], loss_valid[-k:], 'g', label=\"Validation\")\n",
    "plt.title('Learning curves')\n",
    "plt.xlabel('Epoch')\n",
    "plt.ylabel('MSE')\n",
    "leg = plt.legend(loc='best', shadow=True, fancybox=True)"
   ]
  }
 ],
 "metadata": {
  "kernelspec": {
   "display_name": "Python 3 (ipykernel)",
   "language": "python",
   "name": "python3"
  },
  "language_info": {
   "codemirror_mode": {
    "name": "ipython",
    "version": 3
   },
   "file_extension": ".py",
   "mimetype": "text/x-python",
   "name": "python",
   "nbconvert_exporter": "python",
   "pygments_lexer": "ipython3",
   "version": "3.9.13"
  },
  "orig_nbformat": 4,
  "vscode": {
   "interpreter": {
    "hash": "700a48a79e01336b565934c39e82c651368cb6d560b25f670fa29b80c90d337c"
   }
  }
 },
 "nbformat": 4,
 "nbformat_minor": 2
}
