{
 "cells": [
  {
   "cell_type": "markdown",
   "metadata": {},
   "source": [
    "# SVD"
   ]
  },
  {
   "cell_type": "markdown",
   "metadata": {},
   "source": [
    "## Import libraries"
   ]
  },
  {
   "cell_type": "code",
   "execution_count": 1,
   "metadata": {},
   "outputs": [],
   "source": [
    "from lib.models import RecommendSystemModel\n",
    "\n",
    "from typing import List, Any, Tuple,Union\n",
    "from numpy.typing import NDArray\n",
    "import pandas as pd\n",
    "import numpy as np\n",
    "\n",
    "import matplotlib.pyplot as plt\n",
    "import seaborn as sns\n",
    "\n",
    "# import tensorflow as tf"
   ]
  },
  {
   "cell_type": "markdown",
   "metadata": {},
   "source": [
    "## Function to update class in Jupyter Notebook \n",
    "https://stackoverflow.com/questions/45161393/jupyter-split-classes-in-multiple-cells"
   ]
  },
  {
   "cell_type": "code",
   "execution_count": 2,
   "metadata": {},
   "outputs": [],
   "source": [
    "import functools\n",
    "def update_class(\n",
    "    main_class=None, exclude=(\"__module__\", \"__name__\", \"__dict__\", \"__weakref__\")\n",
    "):\n",
    "    \"\"\"Class decorator. Adds all methods and members from the wrapped class to main_class\n",
    "\n",
    "    Args:\n",
    "    - main_class: class to which to append members. Defaults to the class with the same name as the wrapped class\n",
    "    - exclude: black-list of members which should not be copied\n",
    "    \"\"\"\n",
    "\n",
    "    def decorates(main_class, exclude, appended_class):\n",
    "        if main_class is None:\n",
    "            main_class = globals()[appended_class.__name__]\n",
    "        for k, v in appended_class.__dict__.items():\n",
    "            if k not in exclude:\n",
    "                setattr(main_class, k, v)\n",
    "        return main_class\n",
    "\n",
    "    return functools.partial(decorates, main_class, exclude)"
   ]
  },
  {
   "cell_type": "markdown",
   "metadata": {},
   "source": [
    "### Example"
   ]
  },
  {
   "cell_type": "code",
   "execution_count": 3,
   "metadata": {},
   "outputs": [],
   "source": [
    "class MyClass:\n",
    "    def method1(self):\n",
    "        print(\"method1\")\n",
    "me = MyClass()\n"
   ]
  },
  {
   "cell_type": "code",
   "execution_count": 5,
   "metadata": {},
   "outputs": [
    {
     "name": "stdout",
     "output_type": "stream",
     "text": [
      "method1\n",
      "method2\n"
     ]
    }
   ],
   "source": [
    "@update_class()\n",
    "class MyClass:\n",
    "    def method2(self):\n",
    "        print(\"method2\")\n",
    "me.method1()\n",
    "me.method2()"
   ]
  },
  {
   "cell_type": "markdown",
   "metadata": {},
   "source": [
    "## The ML model"
   ]
  },
  {
   "cell_type": "code",
   "execution_count": 6,
   "metadata": {},
   "outputs": [],
   "source": [
    "class SVDModel(RecommendSystemModel):\n",
    "    def __init__(self, mode:str=None, features: int = None, lr: float = None, epochs: int = None, weight_decay: float = None, stopping: float = None, momentum: float = None) -> None:\n",
    "        # Data frame\n",
    "        self.data:pd.DataFrame\n",
    "        # # Training data \n",
    "        self.train:NDArray\n",
    "        # # Validating Data\n",
    "        self.valid:NDArray\n",
    "        self.test:NDArray\n",
    "        # SVD mode \n",
    "        self.mode: str = mode or 'funk'\n",
    "        # Number of features\n",
    "        self.features: int = features or 10\n",
    "        # Learning rate\n",
    "        self.lr: float = lr or 0.0002\n",
    "        # Number of total epochs\n",
    "        self.epochs: int = epochs or 101\n",
    "        # the weight decay \n",
    "        self.weight_decay: float = weight_decay or 0.02\n",
    "        self.stopping: float = stopping or 0.001\n",
    "        self.momentum: float = momentum or 0.0\n",
    "        # Tensor SGD optimizer\n",
    "        # self.optimizer = tf.keras.optimizers.SGD(learning_rate=self.lr, momentum=self.momentum,)\n",
    "        \n",
    "        # # Rating matrix\n",
    "        # self.R: NDArray\n",
    "        # # User matrix\n",
    "        # self.P: NDArray\n",
    "        # # Item matrix\n",
    "        # self.Q: NDArray\n",
    "        \n",
    "        # Rating matrix\n",
    "        # self._R = self.R.copy()\n",
    "        # User latent matrix\n",
    "        self._P: NDArray# = np.random.rand(self.n_users, features) * 0.1\n",
    "        # Item latent matrix\n",
    "        self._Q: NDArray # = np.random.rand(self.n_items, features) * 0.1\n",
    "        \n",
    "        \n",
    "        super().__init__()"
   ]
  },
  {
   "cell_type": "code",
   "execution_count": 7,
   "metadata": {},
   "outputs": [],
   "source": [
    "@update_class()\n",
    "class SVDModel(RecommendSystemModel):\n",
    "    def split(self, ratio_train_test: float, ratio_train_valid: float, tensor: bool = False) -> List[NDArray]:\n",
    "        userItemMatrix = self.convertToUserItemMatrix(self.data, self.n_users, self.n_items)\n",
    "        \n",
    "        trainBeforeSplit = np.zeros((len(userItemMatrix), len(userItemMatrix[0]))).tolist()\n",
    "        self.train = np.zeros((len(userItemMatrix), len(userItemMatrix[0]))).tolist()\n",
    "        self.valid = np.zeros((len(userItemMatrix), len(userItemMatrix[0]))).tolist()\n",
    "        self.test = np.zeros((len(userItemMatrix), len(userItemMatrix[0]))).tolist()\n",
    "\n",
    "        for i in range(len(userItemMatrix)):\n",
    "            for j in range(len(userItemMatrix[i])):\n",
    "                if userItemMatrix[i][j] > 0:\n",
    "                    if np.random.binomial(1, ratio_train_test, 1):\n",
    "                        trainBeforeSplit[i][j] = userItemMatrix[i][j]\n",
    "                    else:\n",
    "                        self.test[i][j] = userItemMatrix[i][j]\n",
    "        \n",
    "        for i in range(len(trainBeforeSplit)):\n",
    "            for j in range(len(trainBeforeSplit[i])):\n",
    "                if trainBeforeSplit[i][j] > 0:\n",
    "                    if np.random.binomial(1, ratio_train_valid, 1):\n",
    "                        self.train[i][j] = trainBeforeSplit[i][j]\n",
    "                    else:\n",
    "                        self.valid[i][j] = trainBeforeSplit[i][j]\n"
   ]
  },
  {
   "cell_type": "code",
   "execution_count": 8,
   "metadata": {},
   "outputs": [],
   "source": [
    "@update_class()\n",
    "class SVDModel(RecommendSystemModel):\n",
    "    def data_loader(self, path:str=None, nrows:int=None, skiprows=None, data:pd.DataFrame=None, n_users: int = None, n_items = None) -> None:\n",
    "        if not path and data.empty:\n",
    "            raise 'Error: one of path or data frame should be provided'\n",
    "        if data.empty:\n",
    "            self.data = pd.read_csv(path,low_memory=False,nrows=nrows,skiprows=skiprows)\n",
    "        elif not path:\n",
    "            self.data = data\n",
    "        self.n_users = n_users\n",
    "        self.n_items = n_items"
   ]
  },
  {
   "cell_type": "code",
   "execution_count": 9,
   "metadata": {},
   "outputs": [],
   "source": [
    "@update_class()\n",
    "class SVDModel(RecommendSystemModel):\n",
    "    def train(self) -> Tuple[NDArray, NDArray, float, float]:\n",
    "        loss_train = []\n",
    "        loss_valid = []\n",
    "        errors = []\n",
    "\n",
    "        # self.n_users = len(self.train)\n",
    "        # self.n_items = len(self.valid)\n",
    "        self._P = np.random.rand(self.n_users, self.features) * 0.1\n",
    "        self._Q = np.random.rand(self.n_items, self.features) * 0.1\n",
    "\n",
    "        # Johnny\n",
    "        for e in range(self.epochs):\n",
    "            for id_user in range(self.n_users):\n",
    "                for id_item in range(self.n_items):\n",
    "                    if self.train[id_user][id_item] > 0:\n",
    "                        \n",
    "                        predict = self.prediction(self._P, self._Q, id_user, id_item)\n",
    "                        \n",
    "                        error = self.train[id_user][id_item] - predict\n",
    "                        errors.append(error)\n",
    "                        \n",
    "                        self.optimize(error, id_user, id_item, self.weight_decay)\n",
    "            trainLoss = self.loss(self.train, self._P, self._Q)\n",
    "            validLoss = self.loss(self.valid, self._P, self._Q)\n",
    "            loss_train.append(trainLoss)\n",
    "            loss_valid.append(validLoss)\n",
    "            if e % 10 == 0:\n",
    "                print('Epoch : ', \"{:3.0f}\".format(e+1), ' | Train :', \"{:3.3f}\".format(trainLoss), \n",
    "                    ' | Valid :', \"{:3.3f}\".format(validLoss))\n",
    "                \n",
    "            # TODO stopping criterion\n",
    "            if (trainLoss - loss_train[-2]) < self.stopping:\n",
    "                break\n",
    "        return loss_train, loss_valid, errors\n",
    "        # return super().learn_to_recommend(data, features, lr, epochs, weight_decay, stopping)"
   ]
  },
  {
   "cell_type": "code",
   "execution_count": 33,
   "metadata": {},
   "outputs": [],
   "source": [
    "@update_class()\n",
    "class SVDModel(RecommendSystemModel):\n",
    "    def convertToUserItemMatrix(self, data, n_users, n_movies):\n",
    "        data = np.array(data,dtype=int)\n",
    "        userItemMatrix = []\n",
    "        for id_user in range(1, n_users + 1):\n",
    "            if id_user % 1000 == 0: print('{}/{}'.format(id_user, n_users))\n",
    "            # id_movies = np.array([ratingRecord[1] for ratingRecord in data if ratingRecord[0] == id_user],dtype=int)\n",
    "            # # print(id_movies.dtype)\n",
    "            # id_ratings = [ratingRecord[2] for ratingRecord in data if ratingRecord[0] == id_user]\n",
    "            id_movies = data[:, 1][data[:, 0] == id_user]\n",
    "            id_ratings = data[:, 2][data[:, 0] == id_user]\n",
    "            ratings = np.zeros(n_movies)\n",
    "            ratings[id_movies - 1] = id_ratings\n",
    "            # try:\n",
    "            #     ratings[id_movies - 1] = id_ratings\n",
    "            # except:\n",
    "            #     print(id_user)\n",
    "            #     raise 'Error:'\n",
    "            userItemMatrix.append(list(ratings))\n",
    "        return userItemMatrix"
   ]
  },
  {
   "cell_type": "code",
   "execution_count": 11,
   "metadata": {},
   "outputs": [],
   "source": [
    "@update_class()\n",
    "class SVDModel(RecommendSystemModel):\n",
    "    def prediction(self, P: NDArray, Q: NDArray, u: int, i: int) -> float:\n",
    "        # Woody\n",
    "        return np.dot(P[u: ], Q[ :i])\n",
    "        # print(321)\n",
    "        # return super().prediction(P, Q, u, i)"
   ]
  },
  {
   "cell_type": "code",
   "execution_count": 12,
   "metadata": {},
   "outputs": [],
   "source": [
    "@update_class()\n",
    "class SVDModel(RecommendSystemModel):\n",
    "    def loss(self, groundTruthData, P: NDArray, Q: NDArray) -> float:\n",
    "        # Woody\n",
    "        squaredErrors = 0.0\n",
    "        numOfPrediction = 0\n",
    "        # nb_users, nb_items = len(data), len(data[0])\n",
    "\n",
    "        for u in range(self.n_users):\n",
    "            for i in range(self.n_items):\n",
    "                if groundTruthData[u][i] > 0:\n",
    "                    squaredErrors += pow(groundTruthData[u][i] - self.prediction(P, Q, u, i), 2)\n",
    "                    numOfPrediction += 1\n",
    "                    \n",
    "        return squaredErrors / numOfPrediction\n",
    "        print(654)\n",
    "        # return super().loss(data, P, Q)"
   ]
  },
  {
   "cell_type": "code",
   "execution_count": 13,
   "metadata": {},
   "outputs": [],
   "source": [
    "@update_class()\n",
    "class SVDModel(RecommendSystemModel):\n",
    "    def optimize(self, error:float, id_user:int, id_item:int,weight_decay):\n",
    "        # Johnny\n",
    "        # P[id_user] = self.optimizer.minimize(P[id_user], [error])\n",
    "        # Q[id_item] = self.optimizer.minimize()\n",
    "        # return super().svd()\n",
    "        \n",
    "        self._P[:, id_user] += self.lr * (error * self._Q[:, id_item] - weight_decay * self._P[:, id_user])\n",
    "        self._Q[:, id_item] += self.lr * (error * self._P[:, id_user] - weight_decay * self._Q[:, id_item])"
   ]
  },
  {
   "cell_type": "code",
   "execution_count": 37,
   "metadata": {},
   "outputs": [],
   "source": [
    "svd = SVDModel()\n",
    "# svd.svd()\n",
    "# svd.learn_to_recommend(2)"
   ]
  },
  {
   "cell_type": "code",
   "execution_count": 4,
   "metadata": {},
   "outputs": [],
   "source": [
    "# define the paths\n",
    "data_path = './data/MovieLens25M/'\n",
    "df_rating = pd.read_csv(data_path+'ratings.csv')\n",
    "df_movies = pd.read_csv(data_path+'movies.csv')\n",
    "m_movies = df_movies['movieId'].nunique()\n",
    "n_users = df_rating['userId'].nunique()\n",
    "n_ratings = len(df_rating)"
   ]
  },
  {
   "cell_type": "code",
   "execution_count": 5,
   "metadata": {},
   "outputs": [
    {
     "name": "stdout",
     "output_type": "stream",
     "text": [
      "62423\n",
      "162541\n",
      "          userId  movieId  rating   timestamp\n",
      "0              1      296     5.0  1147880044\n",
      "1              1      306     3.5  1147868817\n",
      "2              1      307     5.0  1147868828\n",
      "3              1      665     5.0  1147878820\n",
      "4              1      899     3.5  1147868510\n",
      "...          ...      ...     ...         ...\n",
      "25000090  162541    50872     4.5  1240953372\n",
      "25000091  162541    55768     2.5  1240951998\n",
      "25000092  162541    56176     2.0  1240950697\n",
      "25000093  162541    58559     4.0  1240953434\n",
      "25000094  162541    63876     5.0  1240952515\n",
      "\n",
      "[25000095 rows x 4 columns]\n",
      "       movieId                               title  \\\n",
      "0            1                    Toy Story (1995)   \n",
      "1            2                      Jumanji (1995)   \n",
      "2            3             Grumpier Old Men (1995)   \n",
      "3            4            Waiting to Exhale (1995)   \n",
      "4            5  Father of the Bride Part II (1995)   \n",
      "...        ...                                 ...   \n",
      "62418   209157                           We (2018)   \n",
      "62419   209159           Window of the Soul (2001)   \n",
      "62420   209163                    Bad Poems (2018)   \n",
      "62421   209169                 A Girl Thing (2001)   \n",
      "62422   209171      Women of Devil's Island (1962)   \n",
      "\n",
      "                                            genres  \n",
      "0      Adventure|Animation|Children|Comedy|Fantasy  \n",
      "1                       Adventure|Children|Fantasy  \n",
      "2                                   Comedy|Romance  \n",
      "3                             Comedy|Drama|Romance  \n",
      "4                                           Comedy  \n",
      "...                                            ...  \n",
      "62418                                        Drama  \n",
      "62419                                  Documentary  \n",
      "62420                                 Comedy|Drama  \n",
      "62421                           (no genres listed)  \n",
      "62422                       Action|Adventure|Drama  \n",
      "\n",
      "[62423 rows x 3 columns]\n"
     ]
    }
   ],
   "source": [
    "print(m_movies)\n",
    "print(n_users)\n",
    "print(df_rating)\n",
    "print(df_movies)"
   ]
  },
  {
   "cell_type": "code",
   "execution_count": 6,
   "metadata": {},
   "outputs": [
    {
     "data": {
      "text/plain": [
       "209171"
      ]
     },
     "execution_count": 6,
     "metadata": {},
     "output_type": "execute_result"
    }
   ],
   "source": [
    "df_movies['movieId'].max()"
   ]
  },
  {
   "cell_type": "code",
   "execution_count": 7,
   "metadata": {},
   "outputs": [
    {
     "data": {
      "text/plain": [
       "162541"
      ]
     },
     "execution_count": 7,
     "metadata": {},
     "output_type": "execute_result"
    }
   ],
   "source": [
    "df_rating['userId'].max()"
   ]
  },
  {
   "cell_type": "code",
   "execution_count": 8,
   "metadata": {},
   "outputs": [],
   "source": [
    "df_movies.insert(1, 'newMovieId', value=range(1,len(df_movies)+1))"
   ]
  },
  {
   "cell_type": "code",
   "execution_count": 9,
   "metadata": {},
   "outputs": [],
   "source": [
    "newMovieIdDict = {}\n",
    "for index, movie in df_movies.iterrows():\n",
    "  newMovieIdDict[movie['movieId']] = movie['newMovieId']"
   ]
  },
  {
   "cell_type": "code",
   "execution_count": 10,
   "metadata": {},
   "outputs": [
    {
     "data": {
      "text/plain": [
       "62420"
      ]
     },
     "execution_count": 10,
     "metadata": {},
     "output_type": "execute_result"
    }
   ],
   "source": [
    "newMovieIdDict[209159]"
   ]
  },
  {
   "cell_type": "code",
   "execution_count": 102,
   "metadata": {},
   "outputs": [
    {
     "ename": "",
     "evalue": "",
     "output_type": "error",
     "traceback": [
      "\u001b[1;31mThe Kernel crashed while executing code in the the current cell or a previous cell. Please review the code in the cell(s) to identify a possible cause of the failure. Click <a href='https://aka.ms/vscodeJupyterKernelCrash'>here</a> for more info. View Jupyter <a href='command:jupyter.viewOutput'>log</a> for further details."
     ]
    },
    {
     "ename": "",
     "evalue": "",
     "output_type": "error",
     "traceback": [
      "\u001b[1;31mCanceled future for execute_request message before replies were done"
     ]
    }
   ],
   "source": [
    "df_rating.replace({\"movieId\": newMovieIdDict}, inplace=True)"
   ]
  },
  {
   "cell_type": "code",
   "execution_count": 11,
   "metadata": {},
   "outputs": [
    {
     "name": "stdout",
     "output_type": "stream",
     "text": [
      "0/25000095\n",
      "100000/25000095\n",
      "200000/25000095\n",
      "300000/25000095\n",
      "400000/25000095\n",
      "500000/25000095\n",
      "600000/25000095\n",
      "700000/25000095\n",
      "800000/25000095\n",
      "900000/25000095\n",
      "1000000/25000095\n",
      "1100000/25000095\n",
      "1200000/25000095\n",
      "1300000/25000095\n",
      "1400000/25000095\n",
      "1500000/25000095\n",
      "1600000/25000095\n",
      "1700000/25000095\n",
      "1800000/25000095\n",
      "1900000/25000095\n",
      "2000000/25000095\n",
      "2100000/25000095\n",
      "2200000/25000095\n",
      "2300000/25000095\n",
      "2400000/25000095\n",
      "2500000/25000095\n",
      "2600000/25000095\n",
      "2700000/25000095\n",
      "2800000/25000095\n",
      "2900000/25000095\n",
      "3000000/25000095\n",
      "3100000/25000095\n",
      "3200000/25000095\n",
      "3300000/25000095\n",
      "3400000/25000095\n",
      "3500000/25000095\n",
      "3600000/25000095\n",
      "3700000/25000095\n",
      "3800000/25000095\n",
      "3900000/25000095\n",
      "4000000/25000095\n",
      "4100000/25000095\n",
      "4200000/25000095\n",
      "4300000/25000095\n"
     ]
    },
    {
     "ename": "KeyboardInterrupt",
     "evalue": "",
     "output_type": "error",
     "traceback": [
      "\u001b[0;31m---------------------------------------------------------------------------\u001b[0m",
      "\u001b[0;31mKeyboardInterrupt\u001b[0m                         Traceback (most recent call last)",
      "\u001b[1;32m/Users/woody/HKUProject/HOAI/movie-recommender/SVD.ipynb Cell 27\u001b[0m in \u001b[0;36m<cell line: 1>\u001b[0;34m()\u001b[0m\n\u001b[0;32m----> <a href='vscode-notebook-cell:/Users/woody/HKUProject/HOAI/movie-recommender/SVD.ipynb#X55sZmlsZQ%3D%3D?line=0'>1</a>\u001b[0m \u001b[39mfor\u001b[39;00m index, rating \u001b[39min\u001b[39;00m df_rating\u001b[39m.\u001b[39miterrows():\n\u001b[1;32m      <a href='vscode-notebook-cell:/Users/woody/HKUProject/HOAI/movie-recommender/SVD.ipynb#X55sZmlsZQ%3D%3D?line=1'>2</a>\u001b[0m   \u001b[39mif\u001b[39;00m index \u001b[39m%\u001b[39m \u001b[39m100000\u001b[39m \u001b[39m==\u001b[39m \u001b[39m0\u001b[39m: \u001b[39mprint\u001b[39m(\u001b[39m'\u001b[39m\u001b[39m{}\u001b[39;00m\u001b[39m/\u001b[39m\u001b[39m{}\u001b[39;00m\u001b[39m'\u001b[39m\u001b[39m.\u001b[39mformat(index, \u001b[39mlen\u001b[39m(df_rating)))\n\u001b[1;32m      <a href='vscode-notebook-cell:/Users/woody/HKUProject/HOAI/movie-recommender/SVD.ipynb#X55sZmlsZQ%3D%3D?line=2'>3</a>\u001b[0m   rating[\u001b[39m'\u001b[39m\u001b[39mmovieId\u001b[39m\u001b[39m'\u001b[39m] \u001b[39m=\u001b[39m newMovieIdDict[rating[\u001b[39m'\u001b[39m\u001b[39mmovieId\u001b[39m\u001b[39m'\u001b[39m]]\n",
      "File \u001b[0;32m~/opt/anaconda3/envs/hoai_gp/lib/python3.9/site-packages/pandas/core/frame.py:1071\u001b[0m, in \u001b[0;36mDataFrame.iterrows\u001b[0;34m(self)\u001b[0m\n\u001b[1;32m   1069\u001b[0m klass \u001b[39m=\u001b[39m \u001b[39mself\u001b[39m\u001b[39m.\u001b[39m_constructor_sliced\n\u001b[1;32m   1070\u001b[0m \u001b[39mfor\u001b[39;00m k, v \u001b[39min\u001b[39;00m \u001b[39mzip\u001b[39m(\u001b[39mself\u001b[39m\u001b[39m.\u001b[39mindex, \u001b[39mself\u001b[39m\u001b[39m.\u001b[39mvalues):\n\u001b[0;32m-> 1071\u001b[0m     s \u001b[39m=\u001b[39m klass(v, index\u001b[39m=\u001b[39;49mcolumns, name\u001b[39m=\u001b[39;49mk)\n\u001b[1;32m   1072\u001b[0m     \u001b[39myield\u001b[39;00m k, s\n",
      "File \u001b[0;32m~/opt/anaconda3/envs/hoai_gp/lib/python3.9/site-packages/pandas/core/series.py:364\u001b[0m, in \u001b[0;36mSeries.__init__\u001b[0;34m(self, data, index, dtype, name, copy, fastpath)\u001b[0m\n\u001b[1;32m    362\u001b[0m             data \u001b[39m=\u001b[39m data\u001b[39m.\u001b[39mcopy()\n\u001b[1;32m    363\u001b[0m     \u001b[39melse\u001b[39;00m:\n\u001b[0;32m--> 364\u001b[0m         data \u001b[39m=\u001b[39m sanitize_array(data, index, dtype, copy, raise_cast_failure\u001b[39m=\u001b[39;49m\u001b[39mTrue\u001b[39;49;00m)\n\u001b[1;32m    366\u001b[0m         data \u001b[39m=\u001b[39m SingleBlockManager\u001b[39m.\u001b[39mfrom_array(data, index)\n\u001b[1;32m    368\u001b[0m generic\u001b[39m.\u001b[39mNDFrame\u001b[39m.\u001b[39m\u001b[39m__init__\u001b[39m(\u001b[39mself\u001b[39m, data)\n",
      "File \u001b[0;32m~/opt/anaconda3/envs/hoai_gp/lib/python3.9/site-packages/pandas/core/construction.py:461\u001b[0m, in \u001b[0;36msanitize_array\u001b[0;34m(data, index, dtype, copy, raise_cast_failure)\u001b[0m\n\u001b[1;32m    458\u001b[0m                 subarr \u001b[39m=\u001b[39m np\u001b[39m.\u001b[39marray(data, copy\u001b[39m=\u001b[39m\u001b[39mFalse\u001b[39;00m)\n\u001b[1;32m    459\u001b[0m     \u001b[39melse\u001b[39;00m:\n\u001b[1;32m    460\u001b[0m         \u001b[39m# we will try to copy be-definition here\u001b[39;00m\n\u001b[0;32m--> 461\u001b[0m         subarr \u001b[39m=\u001b[39m _try_cast(data, dtype, copy, raise_cast_failure)\n\u001b[1;32m    463\u001b[0m \u001b[39melif\u001b[39;00m \u001b[39misinstance\u001b[39m(data, ABCExtensionArray):\n\u001b[1;32m    464\u001b[0m     \u001b[39m# it is already ensured above this is not a PandasArray\u001b[39;00m\n\u001b[1;32m    465\u001b[0m     subarr \u001b[39m=\u001b[39m data\n",
      "File \u001b[0;32m~/opt/anaconda3/envs/hoai_gp/lib/python3.9/site-packages/pandas/core/construction.py:571\u001b[0m, in \u001b[0;36m_try_cast\u001b[0;34m(arr, dtype, copy, raise_cast_failure)\u001b[0m\n\u001b[1;32m    569\u001b[0m \u001b[39m# perf shortcut as this is the most common case\u001b[39;00m\n\u001b[1;32m    570\u001b[0m \u001b[39mif\u001b[39;00m \u001b[39misinstance\u001b[39m(arr, np\u001b[39m.\u001b[39mndarray):\n\u001b[0;32m--> 571\u001b[0m     \u001b[39mif\u001b[39;00m maybe_castable(arr) \u001b[39mand\u001b[39;00m \u001b[39mnot\u001b[39;00m copy \u001b[39mand\u001b[39;00m dtype \u001b[39mis\u001b[39;00m \u001b[39mNone\u001b[39;00m:\n\u001b[1;32m    572\u001b[0m         \u001b[39mreturn\u001b[39;00m arr\n\u001b[1;32m    574\u001b[0m \u001b[39mif\u001b[39;00m \u001b[39misinstance\u001b[39m(dtype, ExtensionDtype) \u001b[39mand\u001b[39;00m (dtype\u001b[39m.\u001b[39mkind \u001b[39m!=\u001b[39m \u001b[39m\"\u001b[39m\u001b[39mM\u001b[39m\u001b[39m\"\u001b[39m \u001b[39mor\u001b[39;00m is_sparse(dtype)):\n\u001b[1;32m    575\u001b[0m     \u001b[39m# create an extension array from its dtype\u001b[39;00m\n\u001b[1;32m    576\u001b[0m     \u001b[39m# DatetimeTZ case needs to go through maybe_cast_to_datetime but\u001b[39;00m\n\u001b[1;32m    577\u001b[0m     \u001b[39m# SparseDtype does not\u001b[39;00m\n",
      "File \u001b[0;32m~/opt/anaconda3/envs/hoai_gp/lib/python3.9/site-packages/pandas/core/dtypes/cast.py:1270\u001b[0m, in \u001b[0;36mmaybe_castable\u001b[0;34m(arr)\u001b[0m\n\u001b[1;32m   1267\u001b[0m \u001b[39melif\u001b[39;00m kind \u001b[39m==\u001b[39m \u001b[39m\"\u001b[39m\u001b[39mm\u001b[39m\u001b[39m\"\u001b[39m:\n\u001b[1;32m   1268\u001b[0m     \u001b[39mreturn\u001b[39;00m is_timedelta64_ns_dtype(arr\u001b[39m.\u001b[39mdtype)\n\u001b[0;32m-> 1270\u001b[0m \u001b[39mreturn\u001b[39;00m arr\u001b[39m.\u001b[39;49mdtype\u001b[39m.\u001b[39;49mname \u001b[39mnot\u001b[39;00m \u001b[39min\u001b[39;00m POSSIBLY_CAST_DTYPES\n",
      "File \u001b[0;32m~/opt/anaconda3/envs/hoai_gp/lib/python3.9/site-packages/numpy/core/_dtype.py:339\u001b[0m, in \u001b[0;36m_name_get\u001b[0;34m(dtype)\u001b[0m\n\u001b[1;32m    336\u001b[0m     name \u001b[39m+\u001b[39m\u001b[39m=\u001b[39m \u001b[39m\"\u001b[39m\u001b[39m{}\u001b[39;00m\u001b[39m\"\u001b[39m\u001b[39m.\u001b[39mformat(dtype\u001b[39m.\u001b[39mitemsize \u001b[39m*\u001b[39m \u001b[39m8\u001b[39m)\n\u001b[1;32m    338\u001b[0m \u001b[39m# append metadata to datetimes\u001b[39;00m\n\u001b[0;32m--> 339\u001b[0m \u001b[39mif\u001b[39;00m dtype\u001b[39m.\u001b[39mtype \u001b[39min\u001b[39;00m (np\u001b[39m.\u001b[39;49mdatetime64, np\u001b[39m.\u001b[39mtimedelta64):\n\u001b[1;32m    340\u001b[0m     name \u001b[39m+\u001b[39m\u001b[39m=\u001b[39m _datetime_metadata_str(dtype)\n\u001b[1;32m    342\u001b[0m \u001b[39mreturn\u001b[39;00m name\n",
      "\u001b[0;31mKeyboardInterrupt\u001b[0m: "
     ]
    }
   ],
   "source": [
    "for index, rating in df_rating.iterrows():\n",
    "  if index % 100000 == 0: print('{}/{}'.format(index, len(df_rating)))\n",
    "  rating['movieId'] = newMovieIdDict[rating['movieId']]"
   ]
  },
  {
   "cell_type": "code",
   "execution_count": null,
   "metadata": {},
   "outputs": [],
   "source": [
    "for index, movie in df_movies.iterrows():\n",
    "  for index, rating in df_rating.iterrows():\n",
    "    if rating['movieId'] == movie['movieId']:\n",
    "      rating['movieId'] = index+1"
   ]
  },
  {
   "cell_type": "code",
   "execution_count": 62,
   "metadata": {},
   "outputs": [],
   "source": [
    "for index, movie in df_movies.iterrows():\n",
    "  c = df_rating['movieId'].eq(movie['movieId'])\n",
    "  df_rating.loc[c,'movieId']=index+1"
   ]
  },
  {
   "cell_type": "code",
   "execution_count": null,
   "metadata": {},
   "outputs": [],
   "source": []
  },
  {
   "cell_type": "code",
   "execution_count": 32,
   "metadata": {},
   "outputs": [
    {
     "name": "stdout",
     "output_type": "stream",
     "text": [
      "656\n",
      "[     1     29     32     50    111    172    173    214    260    293\n",
      "    296    318    356    442    480    527    541    589    593    741\n",
      "    745    778    780    858    912    913    924   1089   1127   1148\n",
      "   1196   1198   1200   1201   1206   1208   1210   1213   1214   1217\n",
      "   1221   1222   1240   1252   1270   1274   1320   1356   1527   1584\n",
      "   1653   1676   1682   1732   1748   1882   1909   1960   2019   2021\n",
      "   2105   2329   2542   2571   2628   2641   2858   2938   2959   3091\n",
      "   3156   3285   3300   3301   3328   3408   3452   3471   3484   3527\n",
      "   3534   3535   3578   3646   3702   3730   3744   3745   3751   3753\n",
      "   3755   3785   3793   3798   3825   3827   3863   3879   3948   3968\n",
      "   3969   3977   3979   3980   3986   3988   3991   3993   3994   3996\n",
      "   3999   4011   4018   4019   4022   4023   4025   4027   4034   4069\n",
      "   4148   4167   4226   4232   4234   4246   4262   4306   4308   4340\n",
      "   4343   4344   4366   4367   4368   4369   4383   4388   4447   4448\n",
      "   4571   4643   4701   4718   4776   4816   4844   4866   4874   4886\n",
      "   4887   4901   4958   4963   4975   4979   4992   4993   4995   5004\n",
      "   5013   5014   5108   5218   5219   5225   5254   5266   5291   5293\n",
      "   5313   5349   5364   5377   5378   5388   5400   5418   5445   5449\n",
      "   5459   5479   5502   5507   5528   5574   5630   5669   5679   5782\n",
      "   5785   5810   5816   5853   5872   5900   5903   5944   5945   5952\n",
      "   5954   5956   5959   5989   5991   6016   6059   6155   6156   6213\n",
      "   6281   6283   6287   6323   6333   6365   6373   6377   6378   6383\n",
      "   6440   6482   6502   6534   6535   6537   6539   6541   6548   6550\n",
      "   6564   6586   6595   6708   6711   6754   6863   6870   6873   6874\n",
      "   6879   6934   6952   7090   7143   7147   7149   7153   7154   7163\n",
      "   7293   7325   7346   7347   7361   7373   7438   7439   7445   7454\n",
      "   7458   8360   8361   8368   8370   8371   8528   8529   8641   8644\n",
      "   8665   8666   8781   8783   8798   8810   8861   8865   8874   8958\n",
      "   8961   8965   8969   8983   8984   8985  27134  27660  27706  27728\n",
      "  27773  27793  27803  27808  30707  30793  30825  31184  31221  31685\n",
      "  31696  31804  31878  32587  33004  33166  33493  33615  33679  33794\n",
      "  34048  34150  34162  34319  34405  34437  35836  36519  36529  37386\n",
      "  37727  37729  37741  39435  40583  40815  40819  41566  41569  42738\n",
      "  43928  44022  44191  45186  45447  45499  45501  45517  45666  45672\n",
      "  45722  46335  46578  46965  46970  46972  47200  47610  48385  48394\n",
      "  48516  48738  48774  48780  49272  49274  49278  49530  49822  50068\n",
      "  50872  51255  51662  51935  52604  52722  52950  53121  53125  53129\n",
      "  53464  53972  53996  54001  54286  54503  54648  54997  55232  55765\n",
      "  55805  55820  56145  56156  56171  56174  56587  56782  56949  57368\n",
      "  57528  57640  57669  58025  58559  59315  59369  59501  59615  59784\n",
      "  59900  60040  60069  60072  60074  60126  60684  60756  60760  61132\n",
      "  61160  61248  61323  61350  62849  62999  63062  63072  63113  63859\n",
      "  63876  64030  64614  64839  64957  65514  65682  66097  67255  67923\n",
      "  68157  68319  68358  68554  68791  68793  68952  69122  69481  69526\n",
      "  69640  69844  70286  70293  70305  70336  71057  71156  71464  71530\n",
      "  71535  72011  72209  72378  72641  72701  72998  73017  73268  73321\n",
      "  73323  74458  74789  76077  76093  76251  77561  78469  78499  79091\n",
      "  79132  79224  79293  79695  80363  80463  81229  81537  81564  81591\n",
      "  81834  81845  82095  82202  82461  83349  83613  84152  84772  84954\n",
      "  85020  85056  85131  85261  85414  86332  86644  86880  86911  87232\n",
      "  87306  87430  87520  87876  88125  88140  88405  88744  89492  89745\n",
      "  89753  90249  90866  91500  91529  91542  91630  91658  91974  91976\n",
      "  93363  93805  94018  94677  94777  94864  95441  95510  95875  96079\n",
      "  96610  96691  96737  96861  97225  97306  97921  97923  98809  99112\n",
      "  99114 101864 102125 102407 102445 102686 102716 102880 102903 103075\n",
      " 103141 103228 103249 103253 103384 103772 103810 104241 104243 104841\n",
      " 105213 106002 106072 106100 106487 106489 106782 106920 107348 107406\n",
      " 108190 108932 108945 109374 109487 109578 110102 110407 110730 111113\n",
      " 111360 111362 111443 111659 111759 112138 112171 112370 112552 112556\n",
      " 112623 112852 113345 114180 114847 114935 115569 115617 115713 116797\n",
      " 116823 116897 117529 117533 120466 122882 122886 122892 122896 122900\n",
      " 122906 122912 122914 122918 122920 122922 122924 129354 130490 130634\n",
      " 132046 134130 134853 135133 135143 135536 135569 136020 136449 136469\n",
      " 136864 139385 139644 140956 142509 143385 148626 148855 149406 151763\n",
      " 158238 158966 159093 164179 166528 166635 168252 168612 171763 175197\n",
      " 176101 176371 179819 182823 187541 187593]\n"
     ]
    }
   ],
   "source": [
    "data = np.array(df_rating,dtype=int)\n",
    "u3 = data[:, 1][data[:, 0] == 3]\n",
    "print(len(u3))\n",
    "print(u3)"
   ]
  },
  {
   "cell_type": "code",
   "execution_count": null,
   "metadata": {},
   "outputs": [],
   "source": []
  },
  {
   "cell_type": "code",
   "execution_count": 38,
   "metadata": {},
   "outputs": [
    {
     "name": "stdout",
     "output_type": "stream",
     "text": [
      "<class 'pandas.core.frame.DataFrame'>\n",
      "RangeIndex: 25000095 entries, 0 to 25000094\n",
      "Data columns (total 4 columns):\n",
      " #   Column     Dtype\n",
      "---  ------     -----\n",
      " 0   userId     int64\n",
      " 1   movieId    int64\n",
      " 2   rating     int64\n",
      " 3   timestamp  int64\n",
      "dtypes: int64(4)\n",
      "memory usage: 762.9 MB\n"
     ]
    }
   ],
   "source": [
    "\n",
    "df_rating['rating'] = df_rating['rating'].astype(np.int64)\n",
    "df_rating.info()\n"
   ]
  },
  {
   "cell_type": "code",
   "execution_count": 17,
   "metadata": {},
   "outputs": [
    {
     "data": {
      "text/plain": [
       "False"
      ]
     },
     "execution_count": 17,
     "metadata": {},
     "output_type": "execute_result"
    }
   ],
   "source": [
    "df_rating.empty"
   ]
  },
  {
   "cell_type": "code",
   "execution_count": 39,
   "metadata": {},
   "outputs": [],
   "source": [
    "svd.data_loader(data=df_rating, n_items = m_movies, n_users=n_users)"
   ]
  },
  {
   "cell_type": "code",
   "execution_count": 40,
   "metadata": {},
   "outputs": [
    {
     "name": "stdout",
     "output_type": "stream",
     "text": [
      "62423\n",
      "{'mode': 'funk', 'features': 10, 'lr': 0.0002, 'epochs': 101, 'weight_decay': 0.02, 'stopping': 0.001, 'momentum': 0.0, 'data':           userId  movieId  rating   timestamp\n",
      "0              1      296       5  1147880044\n",
      "1              1      306       3  1147868817\n",
      "2              1      307       5  1147868828\n",
      "3              1      665       5  1147878820\n",
      "4              1      899       3  1147868510\n",
      "...          ...      ...     ...         ...\n",
      "25000090  162541    50872       4  1240953372\n",
      "25000091  162541    55768       2  1240951998\n",
      "25000092  162541    56176       2  1240950697\n",
      "25000093  162541    58559       4  1240953434\n",
      "25000094  162541    63876       5  1240952515\n",
      "\n",
      "[25000095 rows x 4 columns], 'valid': None, 'train': None, 'test': None, 'n_users': 162541, 'n_items': 62423}\n"
     ]
    }
   ],
   "source": [
    "print(svd.n_items)\n",
    "print(svd.__dict__)\n",
    "# svd.n_items = 10"
   ]
  },
  {
   "cell_type": "code",
   "execution_count": 41,
   "metadata": {},
   "outputs": [
    {
     "ename": "IndexError",
     "evalue": "index 62848 is out of bounds for axis 0 with size 62423",
     "output_type": "error",
     "traceback": [
      "\u001b[0;31m---------------------------------------------------------------------------\u001b[0m",
      "\u001b[0;31mIndexError\u001b[0m                                Traceback (most recent call last)",
      "\u001b[1;32m/Users/woody/HKUProject/HOAI/movie-recommender/SVD.ipynb Cell 27\u001b[0m in \u001b[0;36m<cell line: 1>\u001b[0;34m()\u001b[0m\n\u001b[0;32m----> <a href='vscode-notebook-cell:/Users/woody/HKUProject/HOAI/movie-recommender/SVD.ipynb#X30sZmlsZQ%3D%3D?line=0'>1</a>\u001b[0m svd\u001b[39m.\u001b[39;49msplit(\u001b[39m0.6\u001b[39;49m,\u001b[39m0.8\u001b[39;49m)\n",
      "\u001b[1;32m/Users/woody/HKUProject/HOAI/movie-recommender/SVD.ipynb Cell 27\u001b[0m in \u001b[0;36mSVDModel.split\u001b[0;34m(self, ratio_train_test, ratio_train_valid, tensor)\u001b[0m\n\u001b[1;32m      <a href='vscode-notebook-cell:/Users/woody/HKUProject/HOAI/movie-recommender/SVD.ipynb#X30sZmlsZQ%3D%3D?line=2'>3</a>\u001b[0m \u001b[39mdef\u001b[39;00m \u001b[39msplit\u001b[39m(\u001b[39mself\u001b[39m, ratio_train_test: \u001b[39mfloat\u001b[39m, ratio_train_valid: \u001b[39mfloat\u001b[39m, tensor: \u001b[39mbool\u001b[39m \u001b[39m=\u001b[39m \u001b[39mFalse\u001b[39;00m) \u001b[39m-\u001b[39m\u001b[39m>\u001b[39m List[NDArray]:\n\u001b[0;32m----> <a href='vscode-notebook-cell:/Users/woody/HKUProject/HOAI/movie-recommender/SVD.ipynb#X30sZmlsZQ%3D%3D?line=3'>4</a>\u001b[0m     userItemMatrix \u001b[39m=\u001b[39m \u001b[39mself\u001b[39;49m\u001b[39m.\u001b[39;49mconvertToUserItemMatrix(\u001b[39mself\u001b[39;49m\u001b[39m.\u001b[39;49mdata, \u001b[39mself\u001b[39;49m\u001b[39m.\u001b[39;49mn_users, \u001b[39mself\u001b[39;49m\u001b[39m.\u001b[39;49mn_items)\n\u001b[1;32m      <a href='vscode-notebook-cell:/Users/woody/HKUProject/HOAI/movie-recommender/SVD.ipynb#X30sZmlsZQ%3D%3D?line=5'>6</a>\u001b[0m     trainBeforeSplit \u001b[39m=\u001b[39m np\u001b[39m.\u001b[39mzeros((\u001b[39mlen\u001b[39m(userItemMatrix), \u001b[39mlen\u001b[39m(userItemMatrix[\u001b[39m0\u001b[39m])))\u001b[39m.\u001b[39mtolist()\n\u001b[1;32m      <a href='vscode-notebook-cell:/Users/woody/HKUProject/HOAI/movie-recommender/SVD.ipynb#X30sZmlsZQ%3D%3D?line=6'>7</a>\u001b[0m     \u001b[39mself\u001b[39m\u001b[39m.\u001b[39mtrain \u001b[39m=\u001b[39m np\u001b[39m.\u001b[39mzeros((\u001b[39mlen\u001b[39m(userItemMatrix), \u001b[39mlen\u001b[39m(userItemMatrix[\u001b[39m0\u001b[39m])))\u001b[39m.\u001b[39mtolist()\n",
      "\u001b[1;32m/Users/woody/HKUProject/HOAI/movie-recommender/SVD.ipynb Cell 27\u001b[0m in \u001b[0;36mSVDModel.convertToUserItemMatrix\u001b[0;34m(self, data, n_users, n_movies)\u001b[0m\n\u001b[1;32m     <a href='vscode-notebook-cell:/Users/woody/HKUProject/HOAI/movie-recommender/SVD.ipynb#X30sZmlsZQ%3D%3D?line=11'>12</a>\u001b[0m id_ratings \u001b[39m=\u001b[39m data[:, \u001b[39m2\u001b[39m][data[:, \u001b[39m0\u001b[39m] \u001b[39m==\u001b[39m id_user]\n\u001b[1;32m     <a href='vscode-notebook-cell:/Users/woody/HKUProject/HOAI/movie-recommender/SVD.ipynb#X30sZmlsZQ%3D%3D?line=12'>13</a>\u001b[0m ratings \u001b[39m=\u001b[39m np\u001b[39m.\u001b[39mzeros(n_movies)\n\u001b[0;32m---> <a href='vscode-notebook-cell:/Users/woody/HKUProject/HOAI/movie-recommender/SVD.ipynb#X30sZmlsZQ%3D%3D?line=13'>14</a>\u001b[0m ratings[id_movies \u001b[39m-\u001b[39m \u001b[39m1\u001b[39m] \u001b[39m=\u001b[39m id_ratings\n\u001b[1;32m     <a href='vscode-notebook-cell:/Users/woody/HKUProject/HOAI/movie-recommender/SVD.ipynb#X30sZmlsZQ%3D%3D?line=14'>15</a>\u001b[0m \u001b[39m# try:\u001b[39;00m\n\u001b[1;32m     <a href='vscode-notebook-cell:/Users/woody/HKUProject/HOAI/movie-recommender/SVD.ipynb#X30sZmlsZQ%3D%3D?line=15'>16</a>\u001b[0m \u001b[39m#     ratings[id_movies - 1] = id_ratings\u001b[39;00m\n\u001b[1;32m     <a href='vscode-notebook-cell:/Users/woody/HKUProject/HOAI/movie-recommender/SVD.ipynb#X30sZmlsZQ%3D%3D?line=16'>17</a>\u001b[0m \u001b[39m# except:\u001b[39;00m\n\u001b[1;32m     <a href='vscode-notebook-cell:/Users/woody/HKUProject/HOAI/movie-recommender/SVD.ipynb#X30sZmlsZQ%3D%3D?line=17'>18</a>\u001b[0m \u001b[39m#     print(id_user)\u001b[39;00m\n\u001b[1;32m     <a href='vscode-notebook-cell:/Users/woody/HKUProject/HOAI/movie-recommender/SVD.ipynb#X30sZmlsZQ%3D%3D?line=18'>19</a>\u001b[0m \u001b[39m#     raise 'Error:'\u001b[39;00m\n\u001b[1;32m     <a href='vscode-notebook-cell:/Users/woody/HKUProject/HOAI/movie-recommender/SVD.ipynb#X30sZmlsZQ%3D%3D?line=19'>20</a>\u001b[0m userItemMatrix\u001b[39m.\u001b[39mappend(\u001b[39mlist\u001b[39m(ratings))\n",
      "\u001b[0;31mIndexError\u001b[0m: index 62848 is out of bounds for axis 0 with size 62423"
     ]
    }
   ],
   "source": [
    "svd.split(0.6,0.8)"
   ]
  },
  {
   "cell_type": "code",
   "execution_count": null,
   "metadata": {},
   "outputs": [
    {
     "ename": "AttributeError",
     "evalue": "'SVDModel' object has no attribute 'test'",
     "output_type": "error",
     "traceback": [
      "\u001b[0;31m---------------------------------------------------------------------------\u001b[0m",
      "\u001b[0;31mAttributeError\u001b[0m                            Traceback (most recent call last)",
      "\u001b[1;32m/Users/woody/HKUProject/HOAI/movie-recommender/SVD.ipynb Cell 23\u001b[0m in \u001b[0;36m<cell line: 1>\u001b[0;34m()\u001b[0m\n\u001b[0;32m----> <a href='vscode-notebook-cell:/Users/woody/HKUProject/HOAI/movie-recommender/SVD.ipynb#X34sZmlsZQ%3D%3D?line=0'>1</a>\u001b[0m \u001b[39mprint\u001b[39m(svd\u001b[39m.\u001b[39;49mtest)\n",
      "\u001b[0;31mAttributeError\u001b[0m: 'SVDModel' object has no attribute 'test'"
     ]
    }
   ],
   "source": [
    "print(len(svd.test), len(svd.test[0]))"
   ]
  },
  {
   "cell_type": "code",
   "execution_count": null,
   "metadata": {},
   "outputs": [],
   "source": []
  }
 ],
 "metadata": {
  "kernelspec": {
   "display_name": "Python 3 (ipykernel)",
   "language": "python",
   "name": "python3"
  },
  "language_info": {
   "codemirror_mode": {
    "name": "ipython",
    "version": 3
   },
   "file_extension": ".py",
   "mimetype": "text/x-python",
   "name": "python",
   "nbconvert_exporter": "python",
   "pygments_lexer": "ipython3",
   "version": "3.9.13"
  },
  "orig_nbformat": 4,
  "vscode": {
   "interpreter": {
    "hash": "700a48a79e01336b565934c39e82c651368cb6d560b25f670fa29b80c90d337c"
   }
  }
 },
 "nbformat": 4,
 "nbformat_minor": 2
}
