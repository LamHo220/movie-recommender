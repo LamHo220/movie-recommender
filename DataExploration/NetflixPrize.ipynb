{
 "cells": [
  {
   "cell_type": "markdown",
   "metadata": {},
   "source": [
    "# Data Exploration on Netflix Prize Data"
   ]
  },
  {
   "cell_type": "markdown",
   "metadata": {},
   "source": [
    "## Initialize"
   ]
  },
  {
   "cell_type": "markdown",
   "metadata": {},
   "source": [
    "### Import Libraries"
   ]
  },
  {
   "cell_type": "code",
   "execution_count": 1,
   "metadata": {
    "vscode": {
     "languageId": "python"
    }
   },
   "outputs": [],
   "source": [
    "import pandas as pd\n",
    "import numpy as np\n",
    "import matplotlib.pyplot as plt\n",
    "import seaborn as sns\n",
    "%matplotlib inline"
   ]
  },
  {
   "cell_type": "code",
   "execution_count": 2,
   "metadata": {
    "vscode": {
     "languageId": "python"
    }
   },
   "outputs": [],
   "source": [
    "# define the paths\n",
    "data_path = '../data/NetflixPrize/'"
   ]
  },
  {
   "cell_type": "markdown",
   "metadata": {},
   "source": [
    "### Read Data"
   ]
  },
  {
   "cell_type": "code",
   "execution_count": 3,
   "metadata": {
    "vscode": {
     "languageId": "python"
    }
   },
   "outputs": [
    {
     "name": "stderr",
     "output_type": "stream",
     "text": [
      "/Users/stellalam/opt/anaconda3/envs/project3362/lib/python3.6/site-packages/IPython/core/interactiveshell.py:3072: DtypeWarning: Columns (0) have mixed types.Specify dtype option on import or set low_memory=False.\n",
      "  interactivity=interactivity, compiler=compiler, result=result)\n"
     ]
    },
    {
     "data": {
      "text/html": [
       "<div>\n",
       "<style scoped>\n",
       "    .dataframe tbody tr th:only-of-type {\n",
       "        vertical-align: middle;\n",
       "    }\n",
       "\n",
       "    .dataframe tbody tr th {\n",
       "        vertical-align: top;\n",
       "    }\n",
       "\n",
       "    .dataframe thead th {\n",
       "        text-align: right;\n",
       "    }\n",
       "</style>\n",
       "<table border=\"1\" class=\"dataframe\">\n",
       "  <thead>\n",
       "    <tr style=\"text-align: right;\">\n",
       "      <th></th>\n",
       "      <th>user_id</th>\n",
       "      <th>rating</th>\n",
       "      <th>date</th>\n",
       "      <th>movie_id</th>\n",
       "    </tr>\n",
       "  </thead>\n",
       "  <tbody>\n",
       "    <tr>\n",
       "      <th>0</th>\n",
       "      <td>1:</td>\n",
       "      <td>NaN</td>\n",
       "      <td>NaN</td>\n",
       "      <td>NaN</td>\n",
       "    </tr>\n",
       "    <tr>\n",
       "      <th>1</th>\n",
       "      <td>1488844</td>\n",
       "      <td>3.0</td>\n",
       "      <td>2005-09-06</td>\n",
       "      <td>NaN</td>\n",
       "    </tr>\n",
       "    <tr>\n",
       "      <th>2</th>\n",
       "      <td>822109</td>\n",
       "      <td>5.0</td>\n",
       "      <td>2005-05-13</td>\n",
       "      <td>NaN</td>\n",
       "    </tr>\n",
       "    <tr>\n",
       "      <th>3</th>\n",
       "      <td>885013</td>\n",
       "      <td>4.0</td>\n",
       "      <td>2005-10-19</td>\n",
       "      <td>NaN</td>\n",
       "    </tr>\n",
       "    <tr>\n",
       "      <th>4</th>\n",
       "      <td>30878</td>\n",
       "      <td>4.0</td>\n",
       "      <td>2005-12-26</td>\n",
       "      <td>NaN</td>\n",
       "    </tr>\n",
       "  </tbody>\n",
       "</table>\n",
       "</div>"
      ],
      "text/plain": [
       "   user_id  rating        date  movie_id\n",
       "0       1:     NaN         NaN       NaN\n",
       "1  1488844     3.0  2005-09-06       NaN\n",
       "2   822109     5.0  2005-05-13       NaN\n",
       "3   885013     4.0  2005-10-19       NaN\n",
       "4    30878     4.0  2005-12-26       NaN"
      ]
     },
     "execution_count": 3,
     "metadata": {},
     "output_type": "execute_result"
    }
   ],
   "source": [
    "df_test = pd.read_csv(data_path+'combined_data_1.txt',names=['user_id', 'rating', 'date', 'movie_id'])\n",
    "# df_test_2 = pd.read_csv(data_path+'combined_data_1.txt',names=['user_id', 'rating', 'date', 'movie_id'])\n",
    "# df_test_3 = pd.read_csv(data_path+'combined_data_1.txt',names=['user_id', 'rating', 'date', 'movie_id'])\n",
    "# df_test_4 = pd.read_csv(data_path+'combined_data_1.txt',names=['user_id', 'rating', 'date', 'movie_id'])\n",
    "# df_test = pd.concat([df_test,df_test_2,df_test_3,df_test_4])\n",
    "df_test.head()"
   ]
  },
  {
   "cell_type": "markdown",
   "metadata": {},
   "source": [
    "### Clean up data\n",
    "From `df.head()`, we can see that the movies id are converted as `uid: '1:'` with `rating: NaN`, `date: NaN`, and `movie_id: NaN`, and the date haven't appeared. Therefore, we will modify the it to be 4 columns: `movie`, `uid`, `rating`, `date`."
   ]
  },
  {
   "cell_type": "code",
   "execution_count": 4,
   "metadata": {
    "vscode": {
     "languageId": "python"
    }
   },
   "outputs": [],
   "source": [
    "# # Lets make a copy of them first\n",
    "# import shutil\n",
    "# for i in range(1,5):\n",
    "#   shutil.copyfile(data_path+f'combined_data_{i}.txt',data_path+f'data_{i}.txt')\n",
    "# print('done')"
   ]
  },
  {
   "cell_type": "code",
   "execution_count": 5,
   "metadata": {
    "vscode": {
     "languageId": "python"
    }
   },
   "outputs": [],
   "source": [
    "# # Modify the the first row to NaN NaN NaN 1\n",
    "# import re\n",
    "\n",
    "# pat = r'\\d+:'\n",
    "# def func(s):\n",
    "#   if s.group():\n",
    "#     return ',,,'+ s.group()[:-1]\n",
    "#   else:\n",
    "#     ''\n",
    "\n",
    "# for i in range(1,5): \n",
    "#   with open(data_path+f\"data_{i}.txt\", mode=\"r+\") as f:\n",
    "#     content = f.read()\n",
    "#     content = re.sub(pat,func,content)\n",
    "#     f.seek(0)\n",
    "#     f.write(content)\n",
    "#     f.truncate()\n",
    "    \n",
    "# print('done')"
   ]
  },
  {
   "cell_type": "code",
   "execution_count": 6,
   "metadata": {
    "vscode": {
     "languageId": "python"
    }
   },
   "outputs": [],
   "source": [
    "# load data (comment df_2, df_3, df_4 and last line if you want to reduce the loading time)\n",
    "df = pd.read_csv(data_path+'data_1.txt',names=['user_id', 'rating', 'date', 'movie_id'])\n",
    "df_2 = pd.read_csv(data_path+'data_2.txt',names=['user_id', 'rating', 'date', 'movie_id'])\n",
    "df_3 = pd.read_csv(data_path+'data_3.txt',names=['user_id', 'rating', 'date', 'movie_id'])\n",
    "df_4 = pd.read_csv(data_path+'data_4.txt',names=['user_id', 'rating', 'date', 'movie_id'])\n",
    "df = pd.concat([df,df_2,df_3,df_4])"
   ]
  },
  {
   "cell_type": "code",
   "execution_count": 52,
   "metadata": {
    "vscode": {
     "languageId": "python"
    }
   },
   "outputs": [
    {
     "data": {
      "text/html": [
       "<div>\n",
       "<style scoped>\n",
       "    .dataframe tbody tr th:only-of-type {\n",
       "        vertical-align: middle;\n",
       "    }\n",
       "\n",
       "    .dataframe tbody tr th {\n",
       "        vertical-align: top;\n",
       "    }\n",
       "\n",
       "    .dataframe thead th {\n",
       "        text-align: right;\n",
       "    }\n",
       "</style>\n",
       "<table border=\"1\" class=\"dataframe\">\n",
       "  <thead>\n",
       "    <tr style=\"text-align: right;\">\n",
       "      <th></th>\n",
       "      <th>user_id</th>\n",
       "      <th>rating</th>\n",
       "      <th>date</th>\n",
       "      <th>movie_id</th>\n",
       "    </tr>\n",
       "  </thead>\n",
       "  <tbody>\n",
       "    <tr>\n",
       "      <th>1</th>\n",
       "      <td>1488844</td>\n",
       "      <td>3</td>\n",
       "      <td>2005-09-06</td>\n",
       "      <td>1</td>\n",
       "    </tr>\n",
       "    <tr>\n",
       "      <th>2</th>\n",
       "      <td>822109</td>\n",
       "      <td>5</td>\n",
       "      <td>2005-05-13</td>\n",
       "      <td>1</td>\n",
       "    </tr>\n",
       "    <tr>\n",
       "      <th>3</th>\n",
       "      <td>885013</td>\n",
       "      <td>4</td>\n",
       "      <td>2005-10-19</td>\n",
       "      <td>1</td>\n",
       "    </tr>\n",
       "    <tr>\n",
       "      <th>4</th>\n",
       "      <td>30878</td>\n",
       "      <td>4</td>\n",
       "      <td>2005-12-26</td>\n",
       "      <td>1</td>\n",
       "    </tr>\n",
       "    <tr>\n",
       "      <th>5</th>\n",
       "      <td>823519</td>\n",
       "      <td>3</td>\n",
       "      <td>2004-05-03</td>\n",
       "      <td>1</td>\n",
       "    </tr>\n",
       "    <tr>\n",
       "      <th>...</th>\n",
       "      <td>...</td>\n",
       "      <td>...</td>\n",
       "      <td>...</td>\n",
       "      <td>...</td>\n",
       "    </tr>\n",
       "    <tr>\n",
       "      <th>26851921</th>\n",
       "      <td>1790158</td>\n",
       "      <td>4</td>\n",
       "      <td>2005-11-01</td>\n",
       "      <td>17770</td>\n",
       "    </tr>\n",
       "    <tr>\n",
       "      <th>26851922</th>\n",
       "      <td>1608708</td>\n",
       "      <td>3</td>\n",
       "      <td>2005-07-19</td>\n",
       "      <td>17770</td>\n",
       "    </tr>\n",
       "    <tr>\n",
       "      <th>26851923</th>\n",
       "      <td>234275</td>\n",
       "      <td>1</td>\n",
       "      <td>2004-08-07</td>\n",
       "      <td>17770</td>\n",
       "    </tr>\n",
       "    <tr>\n",
       "      <th>26851924</th>\n",
       "      <td>255278</td>\n",
       "      <td>4</td>\n",
       "      <td>2004-05-28</td>\n",
       "      <td>17770</td>\n",
       "    </tr>\n",
       "    <tr>\n",
       "      <th>26851925</th>\n",
       "      <td>453585</td>\n",
       "      <td>2</td>\n",
       "      <td>2005-03-10</td>\n",
       "      <td>17770</td>\n",
       "    </tr>\n",
       "  </tbody>\n",
       "</table>\n",
       "<p>100480507 rows × 4 columns</p>\n",
       "</div>"
      ],
      "text/plain": [
       "          user_id  rating        date  movie_id\n",
       "1         1488844       3  2005-09-06         1\n",
       "2          822109       5  2005-05-13         1\n",
       "3          885013       4  2005-10-19         1\n",
       "4           30878       4  2005-12-26         1\n",
       "5          823519       3  2004-05-03         1\n",
       "...           ...     ...         ...       ...\n",
       "26851921  1790158       4  2005-11-01     17770\n",
       "26851922  1608708       3  2005-07-19     17770\n",
       "26851923   234275       1  2004-08-07     17770\n",
       "26851924   255278       4  2004-05-28     17770\n",
       "26851925   453585       2  2005-03-10     17770\n",
       "\n",
       "[100480507 rows x 4 columns]"
      ]
     },
     "execution_count": 52,
     "metadata": {},
     "output_type": "execute_result"
    }
   ],
   "source": [
    "df['movie_id'] = df['movie_id'].fillna(method='ffill')\n",
    "df['rating'] = df['rating'].astype(int)\n",
    "df['movie_id'] = df['movie_id'].astype(int)\n",
    "# drop the rows with NaN \n",
    "df = df.dropna()\n",
    "df['user_id'] = df['user_id'].astype(int)\n",
    "df"
   ]
  },
  {
   "cell_type": "markdown",
   "metadata": {},
   "source": [
    "Now, there is no `user_id` with expression `r'\\d+:'`, and all `NaN` values are dropped."
   ]
  },
  {
   "cell_type": "markdown",
   "metadata": {},
   "source": [
    "## Start Exploration"
   ]
  },
  {
   "cell_type": "markdown",
   "metadata": {},
   "source": [
    "### General Simple Details\n",
    "In this section, we will find the number of users, ratings, unique dates and movies in the dataset"
   ]
  },
  {
   "cell_type": "code",
   "execution_count": 41,
   "metadata": {
    "vscode": {
     "languageId": "python"
    }
   },
   "outputs": [],
   "source": [
    "m_movies = df['movie_id'].nunique()\n",
    "n_users = df['user_id'].nunique()\n",
    "n_ratings = len(df)\n",
    "n_unique_dates = df['date'].nunique()"
   ]
  },
  {
   "cell_type": "code",
   "execution_count": 42,
   "metadata": {
    "vscode": {
     "languageId": "python"
    }
   },
   "outputs": [
    {
     "name": "stdout",
     "output_type": "stream",
     "text": [
      "Nnumber of movies: 17770\n",
      "Number of users: 480189\n",
      "Number of ratings: 100480507\n",
      "Number of unique dates: 2182\n"
     ]
    }
   ],
   "source": [
    "print(f\"Nnumber of movies: {m_movies}\")\n",
    "print(f\"Number of users: {n_users}\")\n",
    "print(f\"Number of ratings: {n_ratings}\")\n",
    "print(f\"Number of unique dates: {n_unique_dates}\")"
   ]
  },
  {
   "cell_type": "markdown",
   "metadata": {},
   "source": [
    "### Variables Studies\n",
    "In this section, we try to find the details of the rating variable."
   ]
  },
  {
   "cell_type": "code",
   "execution_count": 71,
   "metadata": {
    "vscode": {
     "languageId": "python"
    }
   },
   "outputs": [
    {
     "name": "stdout",
     "output_type": "stream",
     "text": [
      "         user_id      date  movie_id\n",
      "rating                              \n",
      "1        4617990   4617990   4617990\n",
      "2       10132080  10132080  10132080\n",
      "3       28811247  28811247  28811247\n",
      "4       33750958  33750958  33750958\n",
      "5       23168232  23168232  23168232\n",
      "rating\n",
      "1     4617990\n",
      "2    10132080\n",
      "3    28811247\n",
      "4    33750958\n",
      "5    23168232\n",
      "Name: movie_id, dtype: int64\n"
     ]
    },
    {
     "data": {
      "text/plain": [
       "count    5.000000e+00\n",
       "mean     2.009610e+07\n",
       "std      1.235618e+07\n",
       "min      4.617990e+06\n",
       "25%      1.013208e+07\n",
       "50%      2.316823e+07\n",
       "75%      2.881125e+07\n",
       "max      3.375096e+07\n",
       "Name: movie_id, dtype: float64"
      ]
     },
     "execution_count": 71,
     "metadata": {},
     "output_type": "execute_result"
    }
   ],
   "source": [
    "group_by_rating = df.groupby('rating')\n",
    "rating_counts = group_by_rating.count()\n",
    "print(rating_counts)\n",
    "ratings = rating_counts['movie_id']\n",
    "print(ratings)\n",
    "ratings.describe()"
   ]
  },
  {
   "cell_type": "code",
   "execution_count": 64,
   "metadata": {
    "vscode": {
     "languageId": "python"
    }
   },
   "outputs": [
    {
     "name": "stdout",
     "output_type": "stream",
     "text": [
      "rating\n",
      "1     4.595906\n",
      "2    10.083627\n",
      "3    28.673469\n",
      "4    33.589558\n",
      "5    23.057439\n",
      "Name: movie_id, dtype: float64\n"
     ]
    },
    {
     "data": {
      "text/plain": [
       "<AxesSubplot:title={'center':'Percentage of each rating'}, xlabel='rating', ylabel='Percentage'>"
      ]
     },
     "execution_count": 64,
     "metadata": {},
     "output_type": "execute_result"
    },
    {
     "data": {
      "image/png": "[encoded data removed]",
      "text/plain": [
       "<Figure size 432x288 with 1 Axes>"
      ]
     },
     "metadata": {
      "needs_background": "light"
     },
     "output_type": "display_data"
    }
   ],
   "source": [
    "percentage = ratings/n_ratings*100\n",
    "print(percentage)\n",
    "percentage.plot.bar(color=['green','red','blue','orange','purple'], title='Percentage of each rating', ylabel='Percentage', rot=1)"
   ]
  },
  {
   "cell_type": "markdown",
   "metadata": {},
   "source": [
    "We can see that most users rate the movie with score 3 and 4 with total around 61%."
   ]
  },
  {
   "cell_type": "code",
   "execution_count": 75,
   "metadata": {
    "vscode": {
     "languageId": "python"
    }
   },
   "outputs": [
    {
     "name": "stdout",
     "output_type": "stream",
     "text": [
      "          user_id  rating  date\n",
      "movie_id                       \n",
      "1             547     547   547\n",
      "2             145     145   145\n",
      "3            2012    2012  2012\n",
      "4             142     142   142\n",
      "5            1140    1140  1140\n",
      "...           ...     ...   ...\n",
      "17766         605     605   605\n",
      "17767         204     204   204\n",
      "17768        1362    1362  1362\n",
      "17769        6749    6749  6749\n",
      "17770         921     921   921\n",
      "\n",
      "[17770 rows x 3 columns]\n",
      "movie_id\n",
      "1         547\n",
      "2         145\n",
      "3        2012\n",
      "4         142\n",
      "5        1140\n",
      "         ... \n",
      "17766     605\n",
      "17767     204\n",
      "17768    1362\n",
      "17769    6749\n",
      "17770     921\n",
      "Name: rating, Length: 17770, dtype: int64\n"
     ]
    },
    {
     "data": {
      "text/plain": [
       "count     17770.000000\n",
       "mean       5654.502364\n",
       "std       16909.673269\n",
       "min           3.000000\n",
       "25%         192.000000\n",
       "50%         561.000000\n",
       "75%        2667.750000\n",
       "max      232944.000000\n",
       "Name: rating, dtype: float64"
      ]
     },
     "execution_count": 75,
     "metadata": {},
     "output_type": "execute_result"
    }
   ],
   "source": [
    "group_by_movies = df.groupby('movie_id')\n",
    "movies_counts = group_by_movies.count()\n",
    "print(movies_counts)\n",
    "movies = movies_counts['rating']\n",
    "print(movies)\n",
    "movies.describe()"
   ]
  }
 ],
 "metadata": {
  "kernelspec": {
   "display_name": "Python 3",
   "language": "python",
   "name": "python3"
  },
  "orig_nbformat": 4,
  "vscode": {
   "interpreter": {
    "hash": "6bae7812109505dd537f5ac07f9300cb92c5d94be55a376fd67dc03225820874"
   }
  }
 },
 "nbformat": 4,
 "nbformat_minor": 2
}
