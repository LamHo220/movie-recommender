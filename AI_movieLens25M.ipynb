{
 "cells": [
  {
   "cell_type": "code",
   "execution_count": 1,
   "metadata": {},
   "outputs": [],
   "source": [
    "from SVDModel import SVDModel\n",
    "import pandas as pd\n",
    "import numpy as np\n",
    "import seaborn as sns\n",
    "import matplotlib.pyplot as plt\n",
    "import time\n",
    "from joblib import Parallel, delayed\n",
    "import pickle\n",
    "import os.path\n",
    "from pathlib import Path\n",
    "\n",
    "np.random.seed(3362)"
   ]
  },
  {
   "cell_type": "code",
   "execution_count": 33,
   "metadata": {},
   "outputs": [],
   "source": [
    "PARAM = dict()\n",
    "PARAM['features'] = 300\n",
    "PARAM['lr'] = 0.01\n",
    "PARAM['epochs'] = 301\n",
    "PARAM['weight_decay'] = 0.02\n",
    "PARAM['stopping'] = 0.001\n",
    "PARAM['mode'] = 'svd++'\n",
    "\n",
    "PARAM['path'] = {\n",
    "  'ml':'./data/MovieLens25M/'\n",
    "}"
   ]
  },
  {
   "cell_type": "code",
   "execution_count": 3,
   "metadata": {},
   "outputs": [],
   "source": [
    "ML_25M = {}\n",
    "hasReindex = True\n",
    "try:\n",
    "  ML_25M['ratings'] = pd.read_csv(PARAM['path']['ml']+'ratings_newMovieId_no_index.csv')\n",
    "except:\n",
    "  hasReindex = False\n",
    "  ML_25M['ratings'] = pd.read_csv(PARAM['path']['ml']+'ratings.csv')\n",
    "\n",
    "ML_25M['movies'] = pd.read_csv(PARAM['path']['ml']+'movies.csv')\n",
    "\n",
    "ML_25M['movies'].insert(1, 'newMovieId', value=range(1,len(ML_25M['movies'])+1))\n",
    "newMovieIdDict = {}\n",
    "for index, movie in ML_25M['movies'].iterrows():\n",
    "    newMovieIdDict[movie['movieId']] = movie['newMovieId']\n",
    "\n",
    "if not hasReindex:\n",
    "  ML_25M['ratings_reindex'] = ML_25M['ratings']\n",
    "\n",
    "  for index, rating in ML_25M['ratings'].iterrows():\n",
    "    if index % 1000000 == 0: print('{}/{}'.format(index, len(ML_25M['ratings'])))\n",
    "    ML_25M['ratings_reindex'].at[index, 'movieId'] = newMovieIdDict[rating['movieId']]\n",
    "\n",
    "  ML_25M['ratings_reindex'].to_csv(PARAM['path']['ml']+'ratings_newMovieId_no_index.csv', index = False)\n",
    "\n",
    "  ML_25M['ratings'] = ML_25M['ratings_reindex']\n",
    "\n",
    "ML_25M['movies'].drop(columns=['movieId'], inplace=True)\n",
    "ML_25M['movies'].rename(columns={\"newMovieId\": \"movieId\"}, inplace=True)\n",
    "\n",
    "ML_25M['ratings'] = ML_25M['ratings'].sort_values(by=['userId'])\n",
    "ML_25M['movies'] = ML_25M['movies'].sort_values(by=['movieId'])"
   ]
  },
  {
   "cell_type": "code",
   "execution_count": 4,
   "metadata": {},
   "outputs": [
    {
     "data": {
      "text/plain": [
       "{'ratings':          userId  movieId  rating\n",
       " 0             1      293     5.0\n",
       " 1             3      293     5.0\n",
       " 2             4      293     4.0\n",
       " 3             5      293     4.0\n",
       " 4             7      293     4.0\n",
       " ...         ...      ...     ...\n",
       " 7213863   49403     5033     0.5\n",
       " 7213864   49631    19610     4.0\n",
       " 7213865   49879    19188     0.5\n",
       " 7213866   49901    19862     1.0\n",
       " 7213867   49901    17840     1.0\n",
       " \n",
       " [7213868 rows x 3 columns],\n",
       " 'movies':        movieId                                        title  \\\n",
       " 0            1                             Toy Story (1995)   \n",
       " 1            2                               Jumanji (1995)   \n",
       " 2            3                      Grumpier Old Men (1995)   \n",
       " 3            4                     Waiting to Exhale (1995)   \n",
       " 4            5           Father of the Bride Part II (1995)   \n",
       " ...        ...                                          ...   \n",
       " 19995    19996                                 Joker (2012)   \n",
       " 19996    19997                                 Gitmo (2005)   \n",
       " 19997    19998  My Avatar and Me (Min Avatar og mig) (2010)   \n",
       " 19998    19999               Blood Beast Terror, The (1968)   \n",
       " 19999    20000                               Othello (1981)   \n",
       " \n",
       "                                             genres  \n",
       " 0      Adventure|Animation|Children|Comedy|Fantasy  \n",
       " 1                       Adventure|Children|Fantasy  \n",
       " 2                                   Comedy|Romance  \n",
       " 3                             Comedy|Drama|Romance  \n",
       " 4                                           Comedy  \n",
       " ...                                            ...  \n",
       " 19995                                       Comedy  \n",
       " 19996                                  Documentary  \n",
       " 19997                                  Documentary  \n",
       " 19998                         Crime|Horror|Mystery  \n",
       " 19999                                        Drama  \n",
       " \n",
       " [20000 rows x 3 columns],\n",
       " 'm_movies': 20000,\n",
       " 'n_users': 49994,\n",
       " 'n_ratings': 7213868}"
      ]
     },
     "execution_count": 4,
     "metadata": {},
     "output_type": "execute_result"
    }
   ],
   "source": [
    "maxNumberOfUser = 50000\n",
    "maxNumberOfMovie = 20000\n",
    "\n",
    "maxNumberOfReview = ML_25M['ratings'][ML_25M['ratings']['userId'] == maxNumberOfUser].index[-1]\n",
    "ML_25M['ratings'] = ML_25M['ratings'][:maxNumberOfReview]\n",
    "\n",
    "ML_25M['movies'] = ML_25M['movies'][:maxNumberOfMovie]\n",
    "\n",
    "# inner join by movieId\n",
    "ML_25M['ratings'] = ML_25M['ratings'].merge(ML_25M['movies'], on='movieId')[['userId', 'movieId', 'rating']]\n",
    "ML_25M['ratings']\n",
    "\n",
    "ML_25M['m_movies'] = ML_25M['movies']['movieId'].nunique()\n",
    "ML_25M['n_users'] = ML_25M['ratings']['userId'].nunique()\n",
    "ML_25M['n_ratings'] = len(ML_25M['ratings'])\n",
    "\n",
    "ML_25M['ratings']['userId'] = ML_25M['ratings']['userId'].astype(np.int32)\n",
    "ML_25M['ratings']['movieId'] = ML_25M['ratings']['movieId'].astype(np.int32)\n",
    "ML_25M['ratings']['rating'] = ML_25M['ratings']['rating'].astype(np.float32)\n",
    "\n",
    "ML_25M"
   ]
  },
  {
   "cell_type": "code",
   "execution_count": 5,
   "metadata": {},
   "outputs": [
    {
     "name": "stdout",
     "output_type": "stream",
     "text": [
      "(7213868, 3)\n",
      "(20000, 3)\n"
     ]
    }
   ],
   "source": [
    "print(ML_25M['ratings'].shape)\n",
    "print(ML_25M['movies'].shape)"
   ]
  },
  {
   "cell_type": "code",
   "execution_count": 8,
   "metadata": {},
   "outputs": [
    {
     "name": "stdout",
     "output_type": "stream",
     "text": [
      "Creating SVD Model\n",
      "Created\n",
      "Loading Data\n",
      "Loaded Data\n",
      "Spliting Data\n",
      "User Item Matrix Shape: (49994, 18904)\n",
      "User Reference length: 49994\n",
      "Item Reference length: 18904\n",
      "Splitted Data\n"
     ]
    }
   ],
   "source": [
    "print('Creating SVD Model')\n",
    "svd = SVDModel()\n",
    "print(\"Created\\nLoading Data\")\n",
    "svd.data_loader(data=ML_25M['ratings'], \n",
    "                n_items = ML_25M['m_movies'], \n",
    "                n_users= ML_25M['n_users'])\n",
    "\n",
    "print(\"Loaded Data\\nSpliting Data\")\n",
    "svd.split(0.8,0.8)\n",
    "print(\"Splitted Data\")"
   ]
  },
  {
   "cell_type": "code",
   "execution_count": 10,
   "metadata": {},
   "outputs": [
    {
     "data": {
      "text/html": [
       "<div>\n",
       "<style scoped>\n",
       "    .dataframe tbody tr th:only-of-type {\n",
       "        vertical-align: middle;\n",
       "    }\n",
       "\n",
       "    .dataframe tbody tr th {\n",
       "        vertical-align: top;\n",
       "    }\n",
       "\n",
       "    .dataframe thead th {\n",
       "        text-align: right;\n",
       "    }\n",
       "</style>\n",
       "<table border=\"1\" class=\"dataframe\">\n",
       "  <thead>\n",
       "    <tr style=\"text-align: right;\">\n",
       "      <th></th>\n",
       "      <th>userId</th>\n",
       "      <th>movieId</th>\n",
       "      <th>rating</th>\n",
       "    </tr>\n",
       "  </thead>\n",
       "  <tbody>\n",
       "    <tr>\n",
       "      <th>0</th>\n",
       "      <td>1</td>\n",
       "      <td>293</td>\n",
       "      <td>5.0</td>\n",
       "    </tr>\n",
       "    <tr>\n",
       "      <th>1</th>\n",
       "      <td>3</td>\n",
       "      <td>293</td>\n",
       "      <td>5.0</td>\n",
       "    </tr>\n",
       "    <tr>\n",
       "      <th>2</th>\n",
       "      <td>4</td>\n",
       "      <td>293</td>\n",
       "      <td>4.0</td>\n",
       "    </tr>\n",
       "    <tr>\n",
       "      <th>3</th>\n",
       "      <td>5</td>\n",
       "      <td>293</td>\n",
       "      <td>4.0</td>\n",
       "    </tr>\n",
       "    <tr>\n",
       "      <th>4</th>\n",
       "      <td>7</td>\n",
       "      <td>293</td>\n",
       "      <td>4.0</td>\n",
       "    </tr>\n",
       "    <tr>\n",
       "      <th>5</th>\n",
       "      <td>8</td>\n",
       "      <td>293</td>\n",
       "      <td>5.0</td>\n",
       "    </tr>\n",
       "    <tr>\n",
       "      <th>6</th>\n",
       "      <td>10</td>\n",
       "      <td>293</td>\n",
       "      <td>4.5</td>\n",
       "    </tr>\n",
       "    <tr>\n",
       "      <th>7</th>\n",
       "      <td>12</td>\n",
       "      <td>293</td>\n",
       "      <td>5.0</td>\n",
       "    </tr>\n",
       "    <tr>\n",
       "      <th>8</th>\n",
       "      <td>13</td>\n",
       "      <td>293</td>\n",
       "      <td>5.0</td>\n",
       "    </tr>\n",
       "    <tr>\n",
       "      <th>9</th>\n",
       "      <td>14</td>\n",
       "      <td>293</td>\n",
       "      <td>5.0</td>\n",
       "    </tr>\n",
       "  </tbody>\n",
       "</table>\n",
       "</div>"
      ],
      "text/plain": [
       "   userId  movieId  rating\n",
       "0       1      293     5.0\n",
       "1       3      293     5.0\n",
       "2       4      293     4.0\n",
       "3       5      293     4.0\n",
       "4       7      293     4.0\n",
       "5       8      293     5.0\n",
       "6      10      293     4.5\n",
       "7      12      293     5.0\n",
       "8      13      293     5.0\n",
       "9      14      293     5.0"
      ]
     },
     "execution_count": 10,
     "metadata": {},
     "output_type": "execute_result"
    }
   ],
   "source": [
    "ML_25M['ratings'][:10]"
   ]
  },
  {
   "cell_type": "code",
   "execution_count": 11,
   "metadata": {},
   "outputs": [
    {
     "data": {
      "text/plain": [
       "array([[0. , 0. , 0. , ..., 0. , 0. , 0. ],\n",
       "       [3.5, 0. , 0. , ..., 0. , 0. , 0. ],\n",
       "       [4. , 0. , 0. , ..., 0. , 0. , 0. ],\n",
       "       ...,\n",
       "       [4. , 0. , 4. , ..., 0. , 0. , 0. ],\n",
       "       [0. , 5. , 0. , ..., 0. , 0. , 0. ],\n",
       "       [0. , 0. , 0. , ..., 0. , 0. , 0. ]], dtype=float32)"
      ]
     },
     "execution_count": 11,
     "metadata": {},
     "output_type": "execute_result"
    }
   ],
   "source": [
    "svd.train[:10]"
   ]
  },
  {
   "cell_type": "code",
   "execution_count": 34,
   "metadata": {},
   "outputs": [],
   "source": [
    "def train_model(features, lr, epochs, weight_decay, mode):\n",
    "    print(\"Training\")\n",
    "    # if os.path.isfile(f'./model_movielens/svdpp/result/{features}_{lr}_{epochs}_{weight_decay}_0.001.pkl'):\n",
    "    #     return\n",
    "    print(f\"==============================\")\n",
    "    # print(f'features: {features}\\nlearning rate: {lr}\\nEpochs: {epochs}\\nweight decay: {weight_decay}\\nstopping: 0.001\\n')\n",
    "    print(f'features: {svd.features}\\nlearning rate: {svd.lr}\\nEpochs: {svd.epochs}\\nweight decay: {svd.weight_decay}\\nstopping: {svd.stopping}\\n')\n",
    "\n",
    " \n",
    "    svd.features = features\n",
    "    svd.lr = lr\n",
    "    svd.epochs = epochs\n",
    "    svd.weight_decay = weight_decay\n",
    "    svd.mode = mode\n",
    "    svd.stopping = PARAM['stopping']\n",
    " \n",
    "\n",
    "    print(\"Splitted Data\\nTraining...\")\n",
    "    start = time.perf_counter()\n",
    "    result = svd.training()\n",
    "    print('Time used =', time.perf_counter()-start)\n",
    "   \n",
    "    print('Saving Model')\n",
    "    Path(f\"./model_movielens\").mkdir(parents=True, exist_ok=True)\n",
    "    Path(f\"./model_movielens/svdpp\").mkdir(parents=True, exist_ok=True)\n",
    "    Path(f\"./model_movielens/svdpp/model\").mkdir(parents=True, exist_ok=True)\n",
    "    Path(f\"./model_movielens/svdpp/result\").mkdir(parents=True, exist_ok=True)\n",
    "   \n",
    "   \n",
    "    # with open(f'./model_movielens/svdpp/model/{features}_{lr}_{epochs}_{weight_decay}_0.001.pkl', 'wb') as out:\n",
    "    #     pickle.dump(svd, out, pickle.HIGHEST_PROTOCOL)\n",
    "    #     out.close()\n",
    "    with open(f'./model_movielens/svdpp/result/{features}_{lr}_{epochs}_{weight_decay}_0.001.pkl', 'wb') as out:\n",
    "        pickle.dump(result, out, pickle.HIGHEST_PROTOCOL)\n",
    "        out.close()\n",
    "    print(f\"==============================\")\n",
    "    return svd, result"
   ]
  },
  {
   "cell_type": "code",
   "execution_count": 35,
   "metadata": {},
   "outputs": [
    {
     "name": "stdout",
     "output_type": "stream",
     "text": [
      "Training\n",
      "==============================\n",
      "features: 300\n",
      "learning rate: 0.01\n",
      "Epochs: 301\n",
      "weight decay: 0.02\n",
      "stopping: 0.001\n",
      "\n",
      "Splitted Data\n",
      "Training...\n",
      "Epoch :    1  | Train : 0.810  | Valid : 0.826  | Time : 3.27612s\n",
      "Epoch :   11  | Train : 0.340  | Valid : 0.618  | Time : 29.65513s\n",
      "Training stopped:\n",
      "Epoch :   12  | Train Loss : 0.307  | Valid Loss: 0.617  | Test Loss: 0.616\n",
      "Time used = 36.85281370000007\n",
      "Saving Model\n",
      "==============================\n"
     ]
    }
   ],
   "source": [
    "res_svd, result = train_model(PARAM['features'],PARAM['lr'],PARAM['epochs'],PARAM['weight_decay'],PARAM['mode'] ) "
   ]
  },
  {
   "cell_type": "code",
   "execution_count": 38,
   "metadata": {},
   "outputs": [
    {
     "name": "stdout",
     "output_type": "stream",
     "text": [
      "0.3073622620866004\n",
      "0.6174008057565076\n",
      "0.6159091049175298\n",
      "12\n"
     ]
    }
   ],
   "source": [
    "# load result\n",
    "if os.path.isfile(f\"./model_movielens/svdpp/result/{PARAM['features']}_{PARAM['lr']}_{PARAM['epochs']}_{PARAM['weight_decay']}_0.001.pkl\"):\n",
    "  # with open(f\"./model_movielens/svdpp/model/{PARAM['features']}_{PARAM['lr']}_{PARAM['epochs']}_{PARAM['weight_decay']}_0.001.pkl\", 'rb') as inp:\n",
    "  #   svd = pickle.load(inp)\n",
    "  #   inp.close()\n",
    "  with open(f\"./model_movielens/svdpp/result/{PARAM['features']}_{PARAM['lr']}_{PARAM['epochs']}_{PARAM['weight_decay']}_0.001.pkl\", 'rb') as inp:\n",
    "    result = pickle.load(inp)\n",
    "    print(result[0][-1])\n",
    "    print(result[1][-1])\n",
    "    print(result[2])\n",
    "    print(len(result[0]))\n",
    "    inp.close()\n",
    "    "
   ]
  },
  {
   "cell_type": "code",
   "execution_count": 39,
   "metadata": {},
   "outputs": [],
   "source": [
    "from SVDModel import topKPrediction,movieRatePredictionByUserIdMovieId, makePrediction, findThreshold"
   ]
  },
  {
   "cell_type": "markdown",
   "metadata": {},
   "source": [
    "### Definition of Relevant and Recommended\n",
    "\n",
    "* Relevant: True Rating `>=` threshold\n",
    "* Irrelevant: True Rating `<` threshold\n",
    "* Recommended item: Predicted Rating `>=` threshold\n",
    "* Not Recommended item: Predicted Rating `<` threshold"
   ]
  },
  {
   "cell_type": "code",
   "execution_count": 40,
   "metadata": {},
   "outputs": [],
   "source": [
    "userIds, movieIds, actuals, predictions = makePrediction(svd.n_users, svd.n_items, svd.test, \n",
    "                                                         svd.users_ref, svd.movies_ref, svd.mode, \n",
    "                                                         svd._P, svd._Q, svd._mean, svd._bu, svd._bi)\n",
    "\n",
    "predictions = {\n",
    "  'userId':list(userIds),\n",
    "  'movieId':list(movieIds),\n",
    "  'actual':list(actuals),\n",
    "  'prediction':list(predictions)\n",
    "}\n",
    "\n",
    "df = pd.DataFrame(predictions)"
   ]
  },
  {
   "cell_type": "code",
   "execution_count": 41,
   "metadata": {},
   "outputs": [
    {
     "data": {
      "text/html": [
       "<div>\n",
       "<style scoped>\n",
       "    .dataframe tbody tr th:only-of-type {\n",
       "        vertical-align: middle;\n",
       "    }\n",
       "\n",
       "    .dataframe tbody tr th {\n",
       "        vertical-align: top;\n",
       "    }\n",
       "\n",
       "    .dataframe thead th {\n",
       "        text-align: right;\n",
       "    }\n",
       "</style>\n",
       "<table border=\"1\" class=\"dataframe\">\n",
       "  <thead>\n",
       "    <tr style=\"text-align: right;\">\n",
       "      <th></th>\n",
       "      <th>userId</th>\n",
       "      <th>movieId</th>\n",
       "      <th>actual</th>\n",
       "      <th>prediction</th>\n",
       "    </tr>\n",
       "  </thead>\n",
       "  <tbody>\n",
       "    <tr>\n",
       "      <th>0</th>\n",
       "      <td>1</td>\n",
       "      <td>304</td>\n",
       "      <td>5.0</td>\n",
       "      <td>3.962157</td>\n",
       "    </tr>\n",
       "    <tr>\n",
       "      <th>1</th>\n",
       "      <td>1</td>\n",
       "      <td>879</td>\n",
       "      <td>3.5</td>\n",
       "      <td>3.861149</td>\n",
       "    </tr>\n",
       "    <tr>\n",
       "      <th>2</th>\n",
       "      <td>1</td>\n",
       "      <td>1062</td>\n",
       "      <td>4.0</td>\n",
       "      <td>2.992774</td>\n",
       "    </tr>\n",
       "    <tr>\n",
       "      <th>3</th>\n",
       "      <td>1</td>\n",
       "      <td>1187</td>\n",
       "      <td>3.5</td>\n",
       "      <td>4.116692</td>\n",
       "    </tr>\n",
       "    <tr>\n",
       "      <th>4</th>\n",
       "      <td>1</td>\n",
       "      <td>2072</td>\n",
       "      <td>3.5</td>\n",
       "      <td>3.131403</td>\n",
       "    </tr>\n",
       "  </tbody>\n",
       "</table>\n",
       "</div>"
      ],
      "text/plain": [
       "   userId  movieId  actual  prediction\n",
       "0       1      304     5.0    3.962157\n",
       "1       1      879     3.5    3.861149\n",
       "2       1     1062     4.0    2.992774\n",
       "3       1     1187     3.5    4.116692\n",
       "4       1     2072     3.5    3.131403"
      ]
     },
     "execution_count": 41,
     "metadata": {},
     "output_type": "execute_result"
    }
   ],
   "source": [
    "df.head()"
   ]
  },
  {
   "cell_type": "code",
   "execution_count": 42,
   "metadata": {},
   "outputs": [
    {
     "data": {
      "text/html": [
       "<div>\n",
       "<style scoped>\n",
       "    .dataframe tbody tr th:only-of-type {\n",
       "        vertical-align: middle;\n",
       "    }\n",
       "\n",
       "    .dataframe tbody tr th {\n",
       "        vertical-align: top;\n",
       "    }\n",
       "\n",
       "    .dataframe thead th {\n",
       "        text-align: right;\n",
       "    }\n",
       "</style>\n",
       "<table border=\"1\" class=\"dataframe\">\n",
       "  <thead>\n",
       "    <tr style=\"text-align: right;\">\n",
       "      <th></th>\n",
       "      <th>precision</th>\n",
       "      <th>recall</th>\n",
       "      <th>F1</th>\n",
       "    </tr>\n",
       "  </thead>\n",
       "  <tbody>\n",
       "    <tr>\n",
       "      <th>0.0</th>\n",
       "      <td>1.000000</td>\n",
       "      <td>0.999936</td>\n",
       "      <td>0.999968</td>\n",
       "    </tr>\n",
       "    <tr>\n",
       "      <th>0.5</th>\n",
       "      <td>1.000000</td>\n",
       "      <td>0.999476</td>\n",
       "      <td>0.999738</td>\n",
       "    </tr>\n",
       "    <tr>\n",
       "      <th>1.0</th>\n",
       "      <td>0.986665</td>\n",
       "      <td>0.998835</td>\n",
       "      <td>0.992713</td>\n",
       "    </tr>\n",
       "    <tr>\n",
       "      <th>1.5</th>\n",
       "      <td>0.960340</td>\n",
       "      <td>0.997377</td>\n",
       "      <td>0.978508</td>\n",
       "    </tr>\n",
       "    <tr>\n",
       "      <th>2.0</th>\n",
       "      <td>0.955123</td>\n",
       "      <td>0.988638</td>\n",
       "      <td>0.971592</td>\n",
       "    </tr>\n",
       "    <tr>\n",
       "      <th>2.5</th>\n",
       "      <td>0.916562</td>\n",
       "      <td>0.966365</td>\n",
       "      <td>0.940805</td>\n",
       "    </tr>\n",
       "    <tr>\n",
       "      <th>3.0</th>\n",
       "      <td>0.915037</td>\n",
       "      <td>0.887562</td>\n",
       "      <td>0.901090</td>\n",
       "    </tr>\n",
       "    <tr>\n",
       "      <th>3.5</th>\n",
       "      <td>0.832786</td>\n",
       "      <td>0.753581</td>\n",
       "      <td>0.791206</td>\n",
       "    </tr>\n",
       "    <tr>\n",
       "      <th>4.0</th>\n",
       "      <td>0.857994</td>\n",
       "      <td>0.455935</td>\n",
       "      <td>0.595450</td>\n",
       "    </tr>\n",
       "    <tr>\n",
       "      <th>4.5</th>\n",
       "      <td>0.772834</td>\n",
       "      <td>0.204470</td>\n",
       "      <td>0.323382</td>\n",
       "    </tr>\n",
       "    <tr>\n",
       "      <th>5.0</th>\n",
       "      <td>0.862353</td>\n",
       "      <td>0.024466</td>\n",
       "      <td>0.047583</td>\n",
       "    </tr>\n",
       "  </tbody>\n",
       "</table>\n",
       "</div>"
      ],
      "text/plain": [
       "     precision    recall        F1\n",
       "0.0   1.000000  0.999936  0.999968\n",
       "0.5   1.000000  0.999476  0.999738\n",
       "1.0   0.986665  0.998835  0.992713\n",
       "1.5   0.960340  0.997377  0.978508\n",
       "2.0   0.955123  0.988638  0.971592\n",
       "2.5   0.916562  0.966365  0.940805\n",
       "3.0   0.915037  0.887562  0.901090\n",
       "3.5   0.832786  0.753581  0.791206\n",
       "4.0   0.857994  0.455935  0.595450\n",
       "4.5   0.772834  0.204470  0.323382\n",
       "5.0   0.862353  0.024466  0.047583"
      ]
     },
     "execution_count": 42,
     "metadata": {},
     "output_type": "execute_result"
    }
   ],
   "source": [
    "# Find a threshold\n",
    "thresholds = np.arange(0,5.1,0.5)\n",
    "res = {\n",
    "  'precision':[],\n",
    "  'recall':[],\n",
    "  'F1':[]\n",
    "}\n",
    " \n",
    "# from numba import njit, prange\n",
    " \n",
    "for threshold in thresholds:\n",
    "  precision, recall, f1 = findThreshold(df.to_numpy(),threshold)\n",
    "  res['precision'].append(precision)\n",
    "  res['recall'].append(recall)\n",
    "  res['F1'].append(f1)\n",
    "df_res = pd.DataFrame(res, index=thresholds)\n",
    "df_res"
   ]
  },
  {
   "cell_type": "markdown",
   "metadata": {},
   "source": [
    "the optimal threshold = `3`"
   ]
  },
  {
   "cell_type": "markdown",
   "metadata": {},
   "source": [
    "### P @ k"
   ]
  },
  {
   "cell_type": "code",
   "execution_count": 43,
   "metadata": {},
   "outputs": [],
   "source": [
    "from collections import defaultdict\n",
    "user = defaultdict(list)\n",
    "for i, (uid, _, actual, prediction) in df.iterrows():\n",
    "  user[int(uid)].append((prediction, actual))"
   ]
  },
  {
   "cell_type": "code",
   "execution_count": 44,
   "metadata": {},
   "outputs": [],
   "source": [
    "threshold = 3\n",
    "\n",
    "k = range(1,21)\n",
    "stat = {\n",
    "    'mAP':[],\n",
    "    # 'average precision': [],\n",
    "    'average recalls':[],\n",
    "}\n",
    "for i in k:\n",
    "    PatK_byUser = dict()\n",
    "    APatK_byUser = dict()\n",
    "    recalls = dict()\n",
    "    for userId, user_ratings in user.items():\n",
    "        user_ratings.sort(key=lambda x: x[0], reverse=True)\n",
    "        \n",
    "        relevant = [(actual >= threshold) for (_, actual) in user_ratings]\n",
    "        n_relevant = sum(relevant)\n",
    "        \n",
    "        \n",
    "        items = [(prediction >= threshold) for (prediction, _) in user_ratings[:i]]\n",
    "        k_items = sum(items)\n",
    "        \n",
    "        relevant_in_k = [((actual >= threshold) and (prediction >= threshold)) for (prediction, actual) in user_ratings[:i]]\n",
    "        n_relevant_in_k = sum(relevant_in_k)\n",
    "        \n",
    "        #P@K\n",
    "        PatK_byUser[userId] = n_relevant_in_k / k_items if k_items != 0 else 1\n",
    "        #AP@K\n",
    "        APatK_byUser[userId] = 0\n",
    "        \n",
    "        for j,item in enumerate(relevant):\n",
    "            if j >=i:\n",
    "                break\n",
    "            if relevant_in_k[j]:\n",
    "                APatK_byUser[userId] += sum(relevant_in_k[:j+1])/(j+1)\n",
    "        APatK_byUser[userId] = APatK_byUser[userId] / min(n_relevant_in_k, i) if n_relevant_in_k !=0 else 1\n",
    "        \n",
    "        #Recall@K\n",
    "        recalls[userId] = n_relevant_in_k / n_relevant if n_relevant != 0 else 1\n",
    "        \n",
    "    mAP = sum(APatK_byUser.values())/len(APatK_byUser)\n",
    "    stat['mAP'].append(mAP)\n",
    "    # stat['average precision'].append(sum(PatK_byUser.values())/len(PatK_byUser))\n",
    "    stat['average recalls'].append(sum(recalls.values())/len(recalls))"
   ]
  },
  {
   "cell_type": "code",
   "execution_count": 45,
   "metadata": {},
   "outputs": [
    {
     "data": {
      "text/html": [
       "<div>\n",
       "<style scoped>\n",
       "    .dataframe tbody tr th:only-of-type {\n",
       "        vertical-align: middle;\n",
       "    }\n",
       "\n",
       "    .dataframe tbody tr th {\n",
       "        vertical-align: top;\n",
       "    }\n",
       "\n",
       "    .dataframe thead th {\n",
       "        text-align: right;\n",
       "    }\n",
       "</style>\n",
       "<table border=\"1\" class=\"dataframe\">\n",
       "  <thead>\n",
       "    <tr style=\"text-align: right;\">\n",
       "      <th></th>\n",
       "      <th>mAP</th>\n",
       "      <th>average recalls</th>\n",
       "    </tr>\n",
       "  </thead>\n",
       "  <tbody>\n",
       "    <tr>\n",
       "      <th>1</th>\n",
       "      <td>1.000000</td>\n",
       "      <td>0.125834</td>\n",
       "    </tr>\n",
       "    <tr>\n",
       "      <th>2</th>\n",
       "      <td>0.987947</td>\n",
       "      <td>0.231399</td>\n",
       "    </tr>\n",
       "    <tr>\n",
       "      <th>3</th>\n",
       "      <td>0.983074</td>\n",
       "      <td>0.321423</td>\n",
       "    </tr>\n",
       "    <tr>\n",
       "      <th>4</th>\n",
       "      <td>0.980296</td>\n",
       "      <td>0.395888</td>\n",
       "    </tr>\n",
       "    <tr>\n",
       "      <th>5</th>\n",
       "      <td>0.978287</td>\n",
       "      <td>0.456552</td>\n",
       "    </tr>\n",
       "    <tr>\n",
       "      <th>6</th>\n",
       "      <td>0.976741</td>\n",
       "      <td>0.506333</td>\n",
       "    </tr>\n",
       "    <tr>\n",
       "      <th>7</th>\n",
       "      <td>0.975457</td>\n",
       "      <td>0.547057</td>\n",
       "    </tr>\n",
       "    <tr>\n",
       "      <th>8</th>\n",
       "      <td>0.974412</td>\n",
       "      <td>0.580931</td>\n",
       "    </tr>\n",
       "    <tr>\n",
       "      <th>9</th>\n",
       "      <td>0.973504</td>\n",
       "      <td>0.609783</td>\n",
       "    </tr>\n",
       "    <tr>\n",
       "      <th>10</th>\n",
       "      <td>0.972753</td>\n",
       "      <td>0.634452</td>\n",
       "    </tr>\n",
       "    <tr>\n",
       "      <th>11</th>\n",
       "      <td>0.972096</td>\n",
       "      <td>0.655901</td>\n",
       "    </tr>\n",
       "    <tr>\n",
       "      <th>12</th>\n",
       "      <td>0.971526</td>\n",
       "      <td>0.674631</td>\n",
       "    </tr>\n",
       "    <tr>\n",
       "      <th>13</th>\n",
       "      <td>0.971012</td>\n",
       "      <td>0.691246</td>\n",
       "    </tr>\n",
       "    <tr>\n",
       "      <th>14</th>\n",
       "      <td>0.970563</td>\n",
       "      <td>0.705905</td>\n",
       "    </tr>\n",
       "    <tr>\n",
       "      <th>15</th>\n",
       "      <td>0.970166</td>\n",
       "      <td>0.718978</td>\n",
       "    </tr>\n",
       "    <tr>\n",
       "      <th>16</th>\n",
       "      <td>0.969797</td>\n",
       "      <td>0.730798</td>\n",
       "    </tr>\n",
       "    <tr>\n",
       "      <th>17</th>\n",
       "      <td>0.969466</td>\n",
       "      <td>0.741434</td>\n",
       "    </tr>\n",
       "    <tr>\n",
       "      <th>18</th>\n",
       "      <td>0.969160</td>\n",
       "      <td>0.751102</td>\n",
       "    </tr>\n",
       "    <tr>\n",
       "      <th>19</th>\n",
       "      <td>0.968883</td>\n",
       "      <td>0.759966</td>\n",
       "    </tr>\n",
       "    <tr>\n",
       "      <th>20</th>\n",
       "      <td>0.968624</td>\n",
       "      <td>0.768090</td>\n",
       "    </tr>\n",
       "  </tbody>\n",
       "</table>\n",
       "</div>"
      ],
      "text/plain": [
       "         mAP  average recalls\n",
       "1   1.000000         0.125834\n",
       "2   0.987947         0.231399\n",
       "3   0.983074         0.321423\n",
       "4   0.980296         0.395888\n",
       "5   0.978287         0.456552\n",
       "6   0.976741         0.506333\n",
       "7   0.975457         0.547057\n",
       "8   0.974412         0.580931\n",
       "9   0.973504         0.609783\n",
       "10  0.972753         0.634452\n",
       "11  0.972096         0.655901\n",
       "12  0.971526         0.674631\n",
       "13  0.971012         0.691246\n",
       "14  0.970563         0.705905\n",
       "15  0.970166         0.718978\n",
       "16  0.969797         0.730798\n",
       "17  0.969466         0.741434\n",
       "18  0.969160         0.751102\n",
       "19  0.968883         0.759966\n",
       "20  0.968624         0.768090"
      ]
     },
     "execution_count": 45,
     "metadata": {},
     "output_type": "execute_result"
    }
   ],
   "source": [
    "pd.DataFrame(stat,index=k)"
   ]
  },
  {
   "cell_type": "code",
   "execution_count": 46,
   "metadata": {},
   "outputs": [
    {
     "data": {
      "text/plain": [
       "Text(0.5, 1.0, 'mAP@k and average recalls on MovieLens25M')"
      ]
     },
     "execution_count": 46,
     "metadata": {},
     "output_type": "execute_result"
    },
    {
     "data": {
      "image/png": "[encoded data removed]",
      "text/plain": [
       "<Figure size 640x480 with 1 Axes>"
      ]
     },
     "metadata": {},
     "output_type": "display_data"
    }
   ],
   "source": [
    "plt.plot(k,stat['mAP'], label='mAP@k')\n",
    "# plt.plot(k,stat['average precision'], label='average precision@k')\n",
    "plt.plot(k,stat['average recalls'], label='average recalls@k')\n",
    "plt.legend(loc='best', shadow=True, fancybox=True)\n",
    "plt.xlabel('k')\n",
    "plt.title('mAP@k and average recalls on MovieLens25M')"
   ]
  },
  {
   "cell_type": "code",
   "execution_count": 55,
   "metadata": {},
   "outputs": [
    {
     "data": {
      "text/plain": [
       "3.5869951696915194"
      ]
     },
     "execution_count": 55,
     "metadata": {},
     "output_type": "execute_result"
    }
   ],
   "source": [
    "movieRatePredictionByUserIdMovieId(userId=1, movieId=1, model=svd)"
   ]
  },
  {
   "cell_type": "code",
   "execution_count": 56,
   "metadata": {},
   "outputs": [
    {
     "data": {
      "text/plain": [
       "[(7237, 4.634831452293449),\n",
       " (6589, 4.596132483194716),\n",
       " (5905, 4.523866303467823),\n",
       " (293, 4.5192140890281145),\n",
       " (4868, 4.454859090695226),\n",
       " (3846, 4.4538177320255325),\n",
       " (4123, 4.446044939575456),\n",
       " (50, 4.438229738318156),\n",
       " (9835, 4.430874505659712),\n",
       " (2767, 4.422941520166952)]"
      ]
     },
     "execution_count": 56,
     "metadata": {},
     "output_type": "execute_result"
    }
   ],
   "source": [
    "topKPrediction(userId=1, k=10, model=svd)"
   ]
  },
  {
   "cell_type": "code",
   "execution_count": null,
   "metadata": {},
   "outputs": [],
   "source": []
  }
 ],
 "metadata": {
  "kernelspec": {
   "display_name": "Python 3 (ipykernel)",
   "language": "python",
   "name": "python3"
  },
  "language_info": {
   "codemirror_mode": {
    "name": "ipython",
    "version": 3
   },
   "file_extension": ".py",
   "mimetype": "text/x-python",
   "name": "python",
   "nbconvert_exporter": "python",
   "pygments_lexer": "ipython3",
   "version": "3.9.13"
  },
  "vscode": {
   "interpreter": {
    "hash": "97f81897789a786d60d1e1a40b4d52a000e054a5d11d8ebf67d3cf3f94a8e95b"
   }
  }
 },
 "nbformat": 4,
 "nbformat_minor": 4
}
