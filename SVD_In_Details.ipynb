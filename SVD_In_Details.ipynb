{
 "cells": [
  {
   "cell_type": "markdown",
   "metadata": {},
   "source": [
    "# SVD"
   ]
  },
  {
   "cell_type": "markdown",
   "metadata": {},
   "source": [
    "## Import libraries"
   ]
  },
  {
   "cell_type": "code",
   "execution_count": 2,
   "metadata": {},
   "outputs": [],
   "source": [
    "from lib.models import RecommendSystemModel\n",
    "\n",
    "from typing import List, Any, Tuple,Union\n",
    "from numpy.typing import NDArray\n",
    "import pandas as pd\n",
    "import numpy as np\n",
    "\n",
    "import matplotlib.pyplot as plt\n",
    "import seaborn as sns\n",
    "\n",
    "# import tensorflow as tf\n",
    "np.random.seed(3362)"
   ]
  },
  {
   "cell_type": "markdown",
   "metadata": {},
   "source": [
    "## Function to update class in Jupyter Notebook \n",
    "https://stackoverflow.com/questions/45161393/jupyter-split-classes-in-multiple-cells"
   ]
  },
  {
   "cell_type": "code",
   "execution_count": 3,
   "metadata": {},
   "outputs": [],
   "source": [
    "import functools\n",
    "def update_class(\n",
    "    main_class=None, exclude=(\"__module__\", \"__name__\", \"__dict__\", \"__weakref__\")\n",
    "):\n",
    "    \"\"\"Class decorator. Adds all methods and members from the wrapped class to main_class\n",
    "\n",
    "    Args:\n",
    "    - main_class: class to which to append members. Defaults to the class with the same name as the wrapped class\n",
    "    - exclude: black-list of members which should not be copied\n",
    "    \"\"\"\n",
    "\n",
    "    def decorates(main_class, exclude, appended_class):\n",
    "        if main_class is None:\n",
    "            main_class = globals()[appended_class.__name__]\n",
    "        for k, v in appended_class.__dict__.items():\n",
    "            if k not in exclude:\n",
    "                setattr(main_class, k, v)\n",
    "        return main_class\n",
    "\n",
    "    return functools.partial(decorates, main_class, exclude)"
   ]
  },
  {
   "cell_type": "markdown",
   "metadata": {},
   "source": [
    "### Example"
   ]
  },
  {
   "cell_type": "code",
   "execution_count": 4,
   "metadata": {},
   "outputs": [],
   "source": [
    "class MyClass:\n",
    "    def method1(self):\n",
    "        print(\"method1\")\n",
    "me = MyClass()\n"
   ]
  },
  {
   "cell_type": "code",
   "execution_count": 5,
   "metadata": {},
   "outputs": [
    {
     "name": "stdout",
     "output_type": "stream",
     "text": [
      "method1\n",
      "method2\n"
     ]
    }
   ],
   "source": [
    "@update_class()\n",
    "class MyClass:\n",
    "    def method2(self):\n",
    "        print(\"method2\")\n",
    "me.method1()\n",
    "me.method2()"
   ]
  },
  {
   "cell_type": "markdown",
   "metadata": {},
   "source": [
    "## The ML model"
   ]
  },
  {
   "cell_type": "code",
   "execution_count": 6,
   "metadata": {},
   "outputs": [],
   "source": [
    "class SVDModel(RecommendSystemModel):\n",
    "    def __init__(\n",
    "        self,\n",
    "        mode: str = None,\n",
    "        features: int = None,\n",
    "        lr: float = None,\n",
    "        epochs: int = None,\n",
    "        weight_decay: float = None,\n",
    "        stopping: float = None,\n",
    "        momentum: float = None,\n",
    "    ) -> None:\n",
    "        super().__init__()\n",
    "        # Data frame\n",
    "        self.data: pd.DataFrame\n",
    "        # # Training data\n",
    "        self.train: NDArray\n",
    "        # # Validating Data\n",
    "        self.valid: NDArray\n",
    "        self.test: NDArray\n",
    "        # SVD mode\n",
    "        self.mode: str = mode or \"funk\"\n",
    "        # Number of features\n",
    "        self.features: int = features or 5\n",
    "        # Learning rate\n",
    "        self.lr: float = lr or 0.01\n",
    "        # Number of total epochs\n",
    "        self.epochs: int = epochs or 101\n",
    "        # the weight decay\n",
    "        self.weight_decay: float = weight_decay or 0.02\n",
    "        self.stopping: float = stopping or 0.001\n",
    "        self.momentum: float = momentum or 0.0\n",
    "        # Tensor SGD optimizer\n",
    "        # self.optimizer = tf.keras.optimizers.SGD(learning_rate=self.lr, momentum=self.momentum,)\n",
    "\n",
    "        # User latent matrix\n",
    "        self._P: NDArray  # = np.random.rand(self.n_users, features) * 0.1\n",
    "        # Item latent matrix\n",
    "        self._Q: NDArray  # = np.random.rand(self.n_items, features) * 0.1\n",
    "\n"
   ]
  },
  {
   "cell_type": "code",
   "execution_count": 7,
   "metadata": {},
   "outputs": [],
   "source": [
    "@update_class()\n",
    "class SVDModel(RecommendSystemModel):\n",
    "    def split(\n",
    "        self, ratio_train_test: float, ratio_train_valid: float, tensor: bool = False\n",
    "    ) -> None:\n",
    "        userItemMatrix = (\n",
    "            self.data[[\"userId\", \"movieId\", \"rating\"]]\n",
    "            .pivot_table(columns=\"movieId\", index=\"userId\", values=\"rating\")\n",
    "            .fillna(0)\n",
    "        )\n",
    "\n",
    "        for label in range(1, self.n_items):\n",
    "            if label not in userItemMatrix.columns:\n",
    "                userItemMatrix[label] = 0\n",
    "        userItemMatrix = userItemMatrix[sorted(userItemMatrix.columns)].to_numpy()\n",
    "        print(f\"User Item Matrix Shape: {userItemMatrix.shape}\")\n",
    "        print(f\"User Reference length: {self.n_users}\")\n",
    "        print(f\"Item Reference length: {self.n_items}\")\n",
    "\n",
    "        n = len(userItemMatrix)\n",
    "        m = len(userItemMatrix[0])\n",
    "\n",
    "        trainBeforeSplit = userItemMatrix.copy()\n",
    "        trainBeforeSplit.fill(0)\n",
    "        self.train = trainBeforeSplit.copy()\n",
    "        self.valid = trainBeforeSplit.copy()\n",
    "        self.test = trainBeforeSplit.copy()\n",
    "\n",
    "        for i in range(n):\n",
    "            for j in range(m):\n",
    "                if userItemMatrix[i, j]:\n",
    "                    if np.random.binomial(1, ratio_train_test, 1):\n",
    "                        trainBeforeSplit[i, j] = userItemMatrix[i, j]\n",
    "                    else:\n",
    "                        self.test[i, j] = userItemMatrix[i, j]\n",
    "\n",
    "        for i in range(n):\n",
    "            for j in range(m):\n",
    "                if trainBeforeSplit[i, j]:\n",
    "                    if np.random.binomial(1, ratio_train_valid, 1):\n",
    "                        self.train[i, j] = trainBeforeSplit[i, j]\n",
    "                    else:\n",
    "                        self.valid[i, j] = trainBeforeSplit[i, j]"
   ]
  },
  {
   "cell_type": "code",
   "execution_count": 8,
   "metadata": {},
   "outputs": [],
   "source": [
    "@update_class()\n",
    "class SVDModel(RecommendSystemModel):\n",
    "    def data_loader(\n",
    "        self,\n",
    "        path: str = None,\n",
    "        nrows: int = None,\n",
    "        skiprows=None,\n",
    "        data: pd.DataFrame = None,\n",
    "        n_users: int = None,\n",
    "        n_items=None,\n",
    "    ) -> None:\n",
    "        if not path and data.empty:\n",
    "            raise \"Error: one of path or data frame should be provided\"\n",
    "        if data.empty:\n",
    "            self.data = pd.read_csv(\n",
    "                path, low_memory=False, nrows=nrows, skiprows=skiprows\n",
    "            )\n",
    "        elif not path:\n",
    "            self.data = data\n",
    "\n",
    "        # create reference of users and movies\n",
    "        self.users_ref = self.data[\"userId\"].unique()\n",
    "        self.users_ref.sort()\n",
    "        self.movies_ref = self.data[\"movieId\"].unique()\n",
    "        self.movies_ref.sort()\n",
    "\n",
    "        self.n_users = len(self.users_ref)\n",
    "        self.n_items = n_items"
   ]
  },
  {
   "cell_type": "code",
   "execution_count": 9,
   "metadata": {},
   "outputs": [],
   "source": [
    "@update_class()\n",
    "class SVDModel(RecommendSystemModel):\n",
    "    def training(self) -> Tuple[NDArray, NDArray, float, float]:\n",
    "        loss_train = []\n",
    "        loss_valid = []\n",
    "        errors = []\n",
    "\n",
    "        self._P = np.random.rand(self.n_users, self.features) * 0.1\n",
    "        self._Q = np.random.rand(self.n_items, self.features) * 0.1\n",
    "\n",
    "        # for advanced SVD\n",
    "        self._bu = np.zeros(self.n_users)\n",
    "        self._bi = np.zeros(self.n_items)\n",
    "        self.mean = 0  # TODO calculate the mean of rating\n",
    "\n",
    "        # Johnny\n",
    "        for e in range(self.epochs):\n",
    "            for id_user in range(self.n_users):\n",
    "                for id_item in range(self.n_items):\n",
    "                    if self.train[id_user, id_item] > 0:\n",
    "\n",
    "                        predict = self.prediction(id_user, id_item)\n",
    "\n",
    "                        error = self.train[id_user, id_item] - predict\n",
    "                        errors.append(error)\n",
    "\n",
    "                        self.optimize(error, id_user, id_item)\n",
    "            trainLoss = self.loss(self.train)\n",
    "            validLoss = self.loss(self.valid)\n",
    "            loss_train.append(trainLoss)\n",
    "            loss_valid.append(validLoss)\n",
    "            if e % 10 == 0:\n",
    "                print(\n",
    "                    \"Epoch : \",\n",
    "                    \"{:3.0f}\".format(e + 1),\n",
    "                    \" | Train :\",\n",
    "                    \"{:3.3f}\".format(trainLoss),\n",
    "                    \" | Valid :\",\n",
    "                    \"{:3.3f}\".format(validLoss),\n",
    "                )\n",
    "\n",
    "            if e > 1:\n",
    "                if abs(validLoss - trainLoss) < self.stopping:\n",
    "                    break\n",
    "        print(\"Training stopped:\")\n",
    "        print(\n",
    "            \"Epoch : \",\n",
    "            \"{:3.0f}\".format(e + 1),\n",
    "            \" | Train :\",\n",
    "            \"{:3.3f}\".format(trainLoss),\n",
    "            \" | Valid :\",\n",
    "            \"{:3.3f}\".format(validLoss),\n",
    "        )\n",
    "        return loss_train, loss_valid, errors\n"
   ]
  },
  {
   "cell_type": "code",
   "execution_count": 10,
   "metadata": {},
   "outputs": [],
   "source": [
    "@update_class()\n",
    "class SVDModel(RecommendSystemModel):\n",
    "    def prediction(self, u: int, i: int) -> float:\n",
    "        # Woody\n",
    "        # print(P[u: ])\n",
    "        predict = np.dot(self._P[u, : ], self._Q[i, : ])\n",
    "        if self.mode == 'svd++':\n",
    "            predict += self._mean + self._bu[u] + self._bi[i]\n",
    "        return predict"
   ]
  },
  {
   "cell_type": "code",
   "execution_count": 11,
   "metadata": {},
   "outputs": [],
   "source": [
    "@update_class()\n",
    "class SVDModel(RecommendSystemModel):\n",
    "    def loss(self, groundTruthData) -> float:\n",
    "        # Woody\n",
    "        squaredErrors = 0.0\n",
    "        numOfPrediction = 0\n",
    "        for u in range(self.n_users):\n",
    "            for i in range(self.n_items):\n",
    "                if groundTruthData[u, i] > 0:\n",
    "                    squaredErrors += pow(\n",
    "                        groundTruthData[u, i] - self.prediction(u, i), 2\n",
    "                    )\n",
    "                    numOfPrediction += 1\n",
    "        return squaredErrors / numOfPrediction"
   ]
  },
  {
   "cell_type": "code",
   "execution_count": 12,
   "metadata": {},
   "outputs": [],
   "source": [
    "@update_class()\n",
    "class SVDModel(RecommendSystemModel):\n",
    "    def optimize(self, error: float, id_user: int, id_item: int):\n",
    "        # Johnny\n",
    "        self._P[id_user, :] += self.lr * (\n",
    "            error * self._Q[id_item, :] - self.weight_decay * self._P[id_user, :]\n",
    "        )\n",
    "        self._Q[id_item, :] += self.lr * (\n",
    "            error * self._P[id_user, :] - self.weight_decay * self._Q[id_item, :]\n",
    "        )\n"
   ]
  },
  {
   "cell_type": "markdown",
   "metadata": {},
   "source": [
    "# Try with an example"
   ]
  },
  {
   "cell_type": "code",
   "execution_count": 13,
   "metadata": {},
   "outputs": [],
   "source": [
    "# define the paths\n",
    "data_path = './data/ml-latest-small/'\n",
    "df_rating = pd.read_csv(data_path+'ratings.csv')\n",
    "df_movies = pd.read_csv(data_path+'movies.csv')\n",
    "m_movies = df_movies['movieId'].nunique()\n",
    "n_users = df_rating['userId'].nunique()\n",
    "n_ratings = len(df_rating)"
   ]
  },
  {
   "cell_type": "code",
   "execution_count": 14,
   "metadata": {},
   "outputs": [
    {
     "name": "stdout",
     "output_type": "stream",
     "text": [
      "9742\n",
      "610\n",
      "        userId  movieId  rating   timestamp\n",
      "0            1        1     4.0   964982703\n",
      "1            1        3     4.0   964981247\n",
      "2            1        6     4.0   964982224\n",
      "3            1       47     5.0   964983815\n",
      "4            1       50     5.0   964982931\n",
      "...        ...      ...     ...         ...\n",
      "100831     610   166534     4.0  1493848402\n",
      "100832     610   168248     5.0  1493850091\n",
      "100833     610   168250     5.0  1494273047\n",
      "100834     610   168252     5.0  1493846352\n",
      "100835     610   170875     3.0  1493846415\n",
      "\n",
      "[100836 rows x 4 columns]\n",
      "      movieId                                      title  \\\n",
      "0           1                           Toy Story (1995)   \n",
      "1           2                             Jumanji (1995)   \n",
      "2           3                    Grumpier Old Men (1995)   \n",
      "3           4                   Waiting to Exhale (1995)   \n",
      "4           5         Father of the Bride Part II (1995)   \n",
      "...       ...                                        ...   \n",
      "9737   193581  Black Butler: Book of the Atlantic (2017)   \n",
      "9738   193583               No Game No Life: Zero (2017)   \n",
      "9739   193585                               Flint (2017)   \n",
      "9740   193587        Bungo Stray Dogs: Dead Apple (2018)   \n",
      "9741   193609        Andrew Dice Clay: Dice Rules (1991)   \n",
      "\n",
      "                                           genres  \n",
      "0     Adventure|Animation|Children|Comedy|Fantasy  \n",
      "1                      Adventure|Children|Fantasy  \n",
      "2                                  Comedy|Romance  \n",
      "3                            Comedy|Drama|Romance  \n",
      "4                                          Comedy  \n",
      "...                                           ...  \n",
      "9737              Action|Animation|Comedy|Fantasy  \n",
      "9738                     Animation|Comedy|Fantasy  \n",
      "9739                                        Drama  \n",
      "9740                             Action|Animation  \n",
      "9741                                       Comedy  \n",
      "\n",
      "[9742 rows x 3 columns]\n"
     ]
    }
   ],
   "source": [
    "print(m_movies)\n",
    "print(n_users)\n",
    "print(df_rating)\n",
    "print(df_movies)"
   ]
  },
  {
   "cell_type": "code",
   "execution_count": 15,
   "metadata": {},
   "outputs": [
    {
     "data": {
      "text/plain": [
       "193609"
      ]
     },
     "execution_count": 15,
     "metadata": {},
     "output_type": "execute_result"
    }
   ],
   "source": [
    "df_movies['movieId'].max()"
   ]
  },
  {
   "cell_type": "code",
   "execution_count": 16,
   "metadata": {},
   "outputs": [
    {
     "data": {
      "text/plain": [
       "610"
      ]
     },
     "execution_count": 16,
     "metadata": {},
     "output_type": "execute_result"
    }
   ],
   "source": [
    "df_rating['userId'].max()"
   ]
  },
  {
   "cell_type": "code",
   "execution_count": 17,
   "metadata": {},
   "outputs": [],
   "source": [
    "df_movies.insert(1, 'newMovieId', value=range(1,len(df_movies)+1))"
   ]
  },
  {
   "cell_type": "code",
   "execution_count": 18,
   "metadata": {},
   "outputs": [],
   "source": [
    "newMovieIdDict = {}\n",
    "for index, movie in df_movies.iterrows():\n",
    "  newMovieIdDict[movie['movieId']] = movie['newMovieId']"
   ]
  },
  {
   "cell_type": "code",
   "execution_count": 19,
   "metadata": {},
   "outputs": [
    {
     "data": {
      "text/plain": [
       "9739"
      ]
     },
     "execution_count": 19,
     "metadata": {},
     "output_type": "execute_result"
    }
   ],
   "source": [
    "newMovieIdDict[193583]"
   ]
  },
  {
   "cell_type": "code",
   "execution_count": 20,
   "metadata": {},
   "outputs": [],
   "source": [
    "df_rating.replace({\"movieId\": newMovieIdDict}, inplace=True)"
   ]
  },
  {
   "cell_type": "code",
   "execution_count": 21,
   "metadata": {},
   "outputs": [],
   "source": [
    "# for index, rating in df_rating.iterrows():\n",
    "#   if index % 100000 == 0: print('{}/{}'.format(index, len(df_rating)))\n",
    "#   rating['movieId'] = newMovieIdDict[rating['movieId']]"
   ]
  },
  {
   "cell_type": "code",
   "execution_count": 22,
   "metadata": {},
   "outputs": [],
   "source": [
    "# for index, movie in df_movies.iterrows():\n",
    "#   for index, rating in df_rating.iterrows():\n",
    "#     if rating['movieId'] == movie['movieId']:\n",
    "#       rating['movieId'] = index+1"
   ]
  },
  {
   "cell_type": "code",
   "execution_count": 23,
   "metadata": {},
   "outputs": [],
   "source": [
    "# for index, movie in df_movies.iterrows():\n",
    "#   c = df_rating['movieId'].eq(movie['movieId'])\n",
    "#   df_rating.loc[c,'movieId']=index+1"
   ]
  },
  {
   "cell_type": "code",
   "execution_count": 24,
   "metadata": {},
   "outputs": [],
   "source": [
    "# data = np.array(df_rating,dtype=int)\n",
    "# u3 = data[:, 1][data[:, 0] == 3]\n",
    "# print(len(u3))\n",
    "# print(u3)"
   ]
  },
  {
   "cell_type": "code",
   "execution_count": 25,
   "metadata": {},
   "outputs": [
    {
     "name": "stdout",
     "output_type": "stream",
     "text": [
      "<class 'pandas.core.frame.DataFrame'>\n",
      "RangeIndex: 100836 entries, 0 to 100835\n",
      "Data columns (total 4 columns):\n",
      " #   Column     Non-Null Count   Dtype\n",
      "---  ------     --------------   -----\n",
      " 0   userId     100836 non-null  int64\n",
      " 1   movieId    100836 non-null  int64\n",
      " 2   rating     100836 non-null  int64\n",
      " 3   timestamp  100836 non-null  int64\n",
      "dtypes: int64(4)\n",
      "memory usage: 3.1 MB\n"
     ]
    }
   ],
   "source": [
    "df_rating['rating'] = df_rating['rating'].astype(np.int64)\n",
    "df_rating.info()"
   ]
  },
  {
   "cell_type": "code",
   "execution_count": 26,
   "metadata": {},
   "outputs": [
    {
     "data": {
      "text/plain": [
       "False"
      ]
     },
     "execution_count": 26,
     "metadata": {},
     "output_type": "execute_result"
    }
   ],
   "source": [
    "df_rating.empty"
   ]
  },
  {
   "cell_type": "code",
   "execution_count": 39,
   "metadata": {},
   "outputs": [],
   "source": [
    "features = 1\n",
    "lr = 0.01\n",
    "epochs = 11\n",
    "weight_decay = 0.02\n",
    "stopping = 0.001\n",
    "\n",
    "svd = SVDModel(features=features, lr=lr, epochs=epochs, weight_decay=weight_decay, stopping=stopping)"
   ]
  },
  {
   "cell_type": "code",
   "execution_count": 40,
   "metadata": {},
   "outputs": [],
   "source": [
    "svd.data_loader(data=df_rating, n_items = m_movies, n_users=n_users)"
   ]
  },
  {
   "cell_type": "code",
   "execution_count": 41,
   "metadata": {},
   "outputs": [
    {
     "name": "stdout",
     "output_type": "stream",
     "text": [
      "9742\n",
      "{'mode': 'funk', 'features': 1, 'lr': 0.01, 'epochs': 11, 'weight_decay': 0.02, 'stopping': 0.001, 'momentum': 0.0, 'data':         userId  movieId  rating   timestamp\n",
      "0            1        1       4   964982703\n",
      "1            1        3       4   964981247\n",
      "2            1        6       4   964982224\n",
      "3            1       44       5   964983815\n",
      "4            1       47       5   964982931\n",
      "...        ...      ...     ...         ...\n",
      "100831     610     9435       4  1493848402\n",
      "100832     610     9462       5  1493850091\n",
      "100833     610     9463       5  1494273047\n",
      "100834     610     9464       5  1493846352\n",
      "100835     610     9504       3  1493846415\n",
      "\n",
      "[100836 rows x 4 columns], 'users_ref': array([  1,   2,   3,   4,   5,   6,   7,   8,   9,  10,  11,  12,  13,\n",
      "        14,  15,  16,  17,  18,  19,  20,  21,  22,  23,  24,  25,  26,\n",
      "        27,  28,  29,  30,  31,  32,  33,  34,  35,  36,  37,  38,  39,\n",
      "        40,  41,  42,  43,  44,  45,  46,  47,  48,  49,  50,  51,  52,\n",
      "        53,  54,  55,  56,  57,  58,  59,  60,  61,  62,  63,  64,  65,\n",
      "        66,  67,  68,  69,  70,  71,  72,  73,  74,  75,  76,  77,  78,\n",
      "        79,  80,  81,  82,  83,  84,  85,  86,  87,  88,  89,  90,  91,\n",
      "        92,  93,  94,  95,  96,  97,  98,  99, 100, 101, 102, 103, 104,\n",
      "       105, 106, 107, 108, 109, 110, 111, 112, 113, 114, 115, 116, 117,\n",
      "       118, 119, 120, 121, 122, 123, 124, 125, 126, 127, 128, 129, 130,\n",
      "       131, 132, 133, 134, 135, 136, 137, 138, 139, 140, 141, 142, 143,\n",
      "       144, 145, 146, 147, 148, 149, 150, 151, 152, 153, 154, 155, 156,\n",
      "       157, 158, 159, 160, 161, 162, 163, 164, 165, 166, 167, 168, 169,\n",
      "       170, 171, 172, 173, 174, 175, 176, 177, 178, 179, 180, 181, 182,\n",
      "       183, 184, 185, 186, 187, 188, 189, 190, 191, 192, 193, 194, 195,\n",
      "       196, 197, 198, 199, 200, 201, 202, 203, 204, 205, 206, 207, 208,\n",
      "       209, 210, 211, 212, 213, 214, 215, 216, 217, 218, 219, 220, 221,\n",
      "       222, 223, 224, 225, 226, 227, 228, 229, 230, 231, 232, 233, 234,\n",
      "       235, 236, 237, 238, 239, 240, 241, 242, 243, 244, 245, 246, 247,\n",
      "       248, 249, 250, 251, 252, 253, 254, 255, 256, 257, 258, 259, 260,\n",
      "       261, 262, 263, 264, 265, 266, 267, 268, 269, 270, 271, 272, 273,\n",
      "       274, 275, 276, 277, 278, 279, 280, 281, 282, 283, 284, 285, 286,\n",
      "       287, 288, 289, 290, 291, 292, 293, 294, 295, 296, 297, 298, 299,\n",
      "       300, 301, 302, 303, 304, 305, 306, 307, 308, 309, 310, 311, 312,\n",
      "       313, 314, 315, 316, 317, 318, 319, 320, 321, 322, 323, 324, 325,\n",
      "       326, 327, 328, 329, 330, 331, 332, 333, 334, 335, 336, 337, 338,\n",
      "       339, 340, 341, 342, 343, 344, 345, 346, 347, 348, 349, 350, 351,\n",
      "       352, 353, 354, 355, 356, 357, 358, 359, 360, 361, 362, 363, 364,\n",
      "       365, 366, 367, 368, 369, 370, 371, 372, 373, 374, 375, 376, 377,\n",
      "       378, 379, 380, 381, 382, 383, 384, 385, 386, 387, 388, 389, 390,\n",
      "       391, 392, 393, 394, 395, 396, 397, 398, 399, 400, 401, 402, 403,\n",
      "       404, 405, 406, 407, 408, 409, 410, 411, 412, 413, 414, 415, 416,\n",
      "       417, 418, 419, 420, 421, 422, 423, 424, 425, 426, 427, 428, 429,\n",
      "       430, 431, 432, 433, 434, 435, 436, 437, 438, 439, 440, 441, 442,\n",
      "       443, 444, 445, 446, 447, 448, 449, 450, 451, 452, 453, 454, 455,\n",
      "       456, 457, 458, 459, 460, 461, 462, 463, 464, 465, 466, 467, 468,\n",
      "       469, 470, 471, 472, 473, 474, 475, 476, 477, 478, 479, 480, 481,\n",
      "       482, 483, 484, 485, 486, 487, 488, 489, 490, 491, 492, 493, 494,\n",
      "       495, 496, 497, 498, 499, 500, 501, 502, 503, 504, 505, 506, 507,\n",
      "       508, 509, 510, 511, 512, 513, 514, 515, 516, 517, 518, 519, 520,\n",
      "       521, 522, 523, 524, 525, 526, 527, 528, 529, 530, 531, 532, 533,\n",
      "       534, 535, 536, 537, 538, 539, 540, 541, 542, 543, 544, 545, 546,\n",
      "       547, 548, 549, 550, 551, 552, 553, 554, 555, 556, 557, 558, 559,\n",
      "       560, 561, 562, 563, 564, 565, 566, 567, 568, 569, 570, 571, 572,\n",
      "       573, 574, 575, 576, 577, 578, 579, 580, 581, 582, 583, 584, 585,\n",
      "       586, 587, 588, 589, 590, 591, 592, 593, 594, 595, 596, 597, 598,\n",
      "       599, 600, 601, 602, 603, 604, 605, 606, 607, 608, 609, 610]), 'movies_ref': array([   1,    2,    3, ..., 9740, 9741, 9742]), 'n_users': 610, 'n_items': 9742}\n"
     ]
    }
   ],
   "source": [
    "print(svd.n_items)\n",
    "print(svd.__dict__)\n",
    "# svd.n_items = 10"
   ]
  },
  {
   "cell_type": "code",
   "execution_count": 42,
   "metadata": {},
   "outputs": [
    {
     "name": "stdout",
     "output_type": "stream",
     "text": [
      "User Item Matrix Shape: (610, 9742)\n",
      "User Reference length: 610\n",
      "Item Reference length: 9742\n"
     ]
    }
   ],
   "source": [
    "svd.split(0.6,0.8)"
   ]
  },
  {
   "cell_type": "code",
   "execution_count": 43,
   "metadata": {},
   "outputs": [
    {
     "name": "stdout",
     "output_type": "stream",
     "text": [
      "610 9742\n"
     ]
    }
   ],
   "source": [
    "print(len(svd.test), len(svd.test[0]))"
   ]
  },
  {
   "cell_type": "code",
   "execution_count": 44,
   "metadata": {},
   "outputs": [
    {
     "name": "stdout",
     "output_type": "stream",
     "text": [
      "Epoch :    1  | Train : 9.401  | Valid : 9.682\n",
      "Epoch :   11  | Train : 0.736  | Valid : 1.475\n",
      "Training stopped:\n",
      "Epoch :   11  | Train : 0.736  | Valid : 1.475\n"
     ]
    }
   ],
   "source": [
    "loss_train, loss_valid, errors = svd.training()"
   ]
  },
  {
   "cell_type": "code",
   "execution_count": 45,
   "metadata": {},
   "outputs": [
    {
     "data": {
      "image/png": "[encoded data removed]",
      "text/plain": [
       "<Figure size 1200x800 with 1 Axes>"
      ]
     },
     "metadata": {},
     "output_type": "display_data"
    }
   ],
   "source": [
    "x = list(range(len(loss_train)))\n",
    "k=0\n",
    "\n",
    "sns.set(rc={'figure.figsize':(12,8)})\n",
    "sns.set(font_scale = 1.5)\n",
    "\n",
    "plt.plot(x[-k:], loss_train[-k:], 'r', label=\"Train\")\n",
    "plt.plot(x[-k:], loss_valid[-k:], 'g', label=\"Validation\")\n",
    "plt.title('Learning curves')\n",
    "plt.xlabel('Epoch')\n",
    "plt.ylabel('MSE')\n",
    "leg = plt.legend(loc='best', shadow=True, fancybox=True)"
   ]
  }
 ],
 "metadata": {
  "kernelspec": {
   "display_name": "Python 3 (ipykernel)",
   "language": "python",
   "name": "python3"
  },
  "language_info": {
   "codemirror_mode": {
    "name": "ipython",
    "version": 3
   },
   "file_extension": ".py",
   "mimetype": "text/x-python",
   "name": "python",
   "nbconvert_exporter": "python",
   "pygments_lexer": "ipython3",
   "version": "3.9.13"
  },
  "orig_nbformat": 4,
  "vscode": {
   "interpreter": {
    "hash": "700a48a79e01336b565934c39e82c651368cb6d560b25f670fa29b80c90d337c"
   }
  }
 },
 "nbformat": 4,
 "nbformat_minor": 2
}
