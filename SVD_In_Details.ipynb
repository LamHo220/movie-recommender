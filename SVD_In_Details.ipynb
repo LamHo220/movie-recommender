{
 "cells": [
  {
   "cell_type": "markdown",
   "metadata": {},
   "source": [
    "# SVD"
   ]
  },
  {
   "cell_type": "markdown",
   "metadata": {},
   "source": [
    "## Import libraries"
   ]
  },
  {
   "cell_type": "code",
   "execution_count": 1,
   "metadata": {},
   "outputs": [
    {
     "name": "stdout",
     "output_type": "stream",
     "text": [
      "3.7.13 (default, Oct 19 2022, 10:19:43) [MSC v.1916 64 bit (AMD64)]\n",
      "sys.version_info(major=3, minor=7, micro=13, releaselevel='final', serial=0)\n"
     ]
    }
   ],
   "source": [
    "from lib.models import RecommendSystemModel\n",
    "\n",
    "from typing import List, Any, Tuple,Union\n",
    "from numpy.typing import NDArray\n",
    "import pandas as pd\n",
    "import numpy as np\n",
    "\n",
    "import matplotlib.pyplot as plt\n",
    "import seaborn as sns\n",
    "from numba import njit, prange, typed, types\n",
    "\n",
    "# import tensorflow as tf\n",
    "np.random.seed(3362)\n",
    "import sys\n",
    "print(sys.version)\n",
    "print(sys.version_info)\n",
    "import time"
   ]
  },
  {
   "cell_type": "markdown",
   "metadata": {},
   "source": [
    "## Function to update class in Jupyter Notebook \n",
    "https://stackoverflow.com/questions/45161393/jupyter-split-classes-in-multiple-cells"
   ]
  },
  {
   "cell_type": "code",
   "execution_count": 2,
   "metadata": {},
   "outputs": [],
   "source": [
    "import functools\n",
    "def update_class(\n",
    "    main_class=None, exclude=(\"__module__\", \"__name__\", \"__dict__\", \"__weakref__\")\n",
    "):\n",
    "    \"\"\"Class decorator. Adds all methods and members from the wrapped class to main_class\n",
    "\n",
    "    Args:\n",
    "    - main_class: class to which to append members. Defaults to the class with the same name as the wrapped class\n",
    "    - exclude: black-list of members which should not be copied\n",
    "    \"\"\"\n",
    "\n",
    "    def decorates(main_class, exclude, appended_class):\n",
    "        if main_class is None:\n",
    "            main_class = globals()[appended_class.__name__]\n",
    "        for k, v in appended_class.__dict__.items():\n",
    "            if k not in exclude:\n",
    "                setattr(main_class, k, v)\n",
    "        return main_class\n",
    "\n",
    "    return functools.partial(decorates, main_class, exclude)"
   ]
  },
  {
   "cell_type": "markdown",
   "metadata": {},
   "source": [
    "### Example"
   ]
  },
  {
   "cell_type": "code",
   "execution_count": 3,
   "metadata": {},
   "outputs": [],
   "source": [
    "class MyClass:\n",
    "    def method1(self):\n",
    "        print(\"method1\")\n",
    "me = MyClass()\n"
   ]
  },
  {
   "cell_type": "code",
   "execution_count": 4,
   "metadata": {},
   "outputs": [
    {
     "name": "stdout",
     "output_type": "stream",
     "text": [
      "method1\n",
      "method2\n"
     ]
    }
   ],
   "source": [
    "@update_class()\n",
    "class MyClass:\n",
    "    def method2(self):\n",
    "        print(\"method2\")\n",
    "me.method1()\n",
    "me.method2()"
   ]
  },
  {
   "cell_type": "markdown",
   "metadata": {},
   "source": [
    "## The ML model"
   ]
  },
  {
   "cell_type": "code",
   "execution_count": 5,
   "metadata": {},
   "outputs": [],
   "source": [
    "class SVDModel(RecommendSystemModel):\n",
    "    def __init__(\n",
    "        self,\n",
    "        mode: str = None,\n",
    "        features: int = None,\n",
    "        lr: float = None,\n",
    "        epochs: int = None,\n",
    "        weight_decay: float = None,\n",
    "        stopping: float = None,\n",
    "        momentum: float = None,\n",
    "    ) -> None:\n",
    "        super().__init__(mode, features, lr, epochs, weight_decay, stopping, momentum)\n",
    "\n"
   ]
  },
  {
   "cell_type": "code",
   "execution_count": 6,
   "metadata": {},
   "outputs": [],
   "source": [
    "@update_class()\n",
    "class SVDModel(RecommendSystemModel):\n",
    "    def split(\n",
    "        self, ratio_train_test: float, ratio_train_valid: float\n",
    "    ) -> None:\n",
    "        userItemMatrix = (\n",
    "            self.data[[\"userId\", \"movieId\", \"rating\"]]\n",
    "            .pivot_table(columns=\"movieId\", index=\"userId\", values=\"rating\")\n",
    "            .fillna(0)\n",
    "        )\n",
    "        userItemMatrix = userItemMatrix.to_numpy()\n",
    "\n",
    "        print(f\"User Item Matrix Shape: {userItemMatrix.shape}\")\n",
    "        print(f\"User Reference length: {self.n_users}\")\n",
    "        print(f\"Item Reference length: {self.n_items}\")\n",
    "\n",
    "        self.train, self.valid, self.test =  _split(ratio_train_test, ratio_train_valid, userItemMatrix, self.n_users, self.n_items)\n",
    "\n",
    "@njit(parallel=True, fastmath=True)\n",
    "def _split(\n",
    "    ratio_train_test: float, ratio_train_valid: float, userItemMatrix, n_users, n_items):\n",
    "\n",
    "    trainBeforeSplit = userItemMatrix.copy()\n",
    "    trainBeforeSplit.fill(0)\n",
    "\n",
    "    train = trainBeforeSplit.copy()\n",
    "    valid = trainBeforeSplit.copy()\n",
    "    test = trainBeforeSplit.copy()\n",
    "\n",
    "    for i in prange(n_users):\n",
    "        for j in prange(n_items):\n",
    "            if userItemMatrix[i, j]:\n",
    "                if np.random.binomial(1, ratio_train_test, 1):\n",
    "                    if np.random.binomial(1, ratio_train_valid, 1):\n",
    "                        train[i, j] = userItemMatrix[i, j]\n",
    "                    else:\n",
    "                        valid[i, j] = userItemMatrix[i, j]\n",
    "                else:\n",
    "                    test[i, j] = userItemMatrix[i, j]\n",
    "    \n",
    "    return train, valid, test"
   ]
  },
  {
   "cell_type": "code",
   "execution_count": 7,
   "metadata": {},
   "outputs": [],
   "source": [
    "@update_class()\n",
    "class SVDModel(RecommendSystemModel):\n",
    "    def data_loader(\n",
    "        self,\n",
    "        path: str = None,\n",
    "        nrows: int = None,\n",
    "        skiprows=None,\n",
    "        data: pd.DataFrame = None,\n",
    "    ) -> None:\n",
    "        if not path and data.empty:\n",
    "            raise \"Error: one of path or data frame should be provided\"\n",
    "        if data.empty:\n",
    "            self.data = pd.read_csv(\n",
    "                path, low_memory=False, nrows=nrows, skiprows=skiprows\n",
    "            )\n",
    "        elif not path:\n",
    "            self.data = data\n",
    "\n",
    "        # create reference of users and movies\n",
    "        self.users_ref = self.data[\"userId\"].unique()\n",
    "        self.users_ref.sort()\n",
    "        self.movies_ref = self.data[\"movieId\"].unique()\n",
    "        self.movies_ref.sort()\n",
    "\n",
    "        self.n_users = len(self.users_ref)\n",
    "        self.n_items = len(self.movies_ref)"
   ]
  },
  {
   "cell_type": "code",
   "execution_count": 8,
   "metadata": {},
   "outputs": [],
   "source": [
    "\n",
    "@update_class()\n",
    "class SVDModel(RecommendSystemModel):\n",
    "    def train_one_epoch(self):\n",
    "        return _train_one_epoch(\n",
    "            self.n_users,\n",
    "            self.n_items,\n",
    "            self.train,\n",
    "            self._P,\n",
    "            self._Q,\n",
    "            self.mode,\n",
    "            self._mean,\n",
    "            self._bu,\n",
    "            self._bi,\n",
    "            self.lr,\n",
    "            self.weight_decay,\n",
    "        )\n",
    "\n",
    "    def training(self) -> Tuple[NDArray, NDArray, float, float]:\n",
    "        loss_train = []\n",
    "        loss_valid = []\n",
    "        errors = []\n",
    "\n",
    "        self._P = np.random.rand(self.n_users, self.features) * 0.1\n",
    "        self._Q = np.random.rand(self.n_items, self.features) * 0.1\n",
    "        self._bu = np.zeros(self.n_users)\n",
    "        self._bi = np.zeros(self.n_items)\n",
    "        self._mean = 0\n",
    "        if self.mode == \"svd++\":\n",
    "            # for advanced SVD\n",
    "            self._bu = np.zeros(self.n_users)\n",
    "            self._bi = np.zeros(self.n_items)\n",
    "            self._mean = np.mean(self.data[\"rating\"])\n",
    "        # Johnny\n",
    "        tic = time.perf_counter()\n",
    "        for e in range(self.epochs):\n",
    "            error = self.train_one_epoch()\n",
    "            errors.append(error)\n",
    "\n",
    "            trainLoss = self.loss(self.train)\n",
    "            validLoss = self.loss(self.valid)\n",
    "            loss_train.append(trainLoss)\n",
    "            loss_valid.append(validLoss)\n",
    "\n",
    "            if e % 10 == 0:\n",
    "                toc = time.perf_counter()\n",
    "                print(\n",
    "                    \"Epoch : \",\n",
    "                    \"{:3.0f}\".format(e + 1),\n",
    "                    \" | Train :\",\n",
    "                    \"{:3.3f}\".format(trainLoss),\n",
    "                    \" | Valid :\",\n",
    "                    \"{:3.3f}\".format(validLoss),\n",
    "                    \" | Time :\",\n",
    "                    \"{:3.5f}s\".format(toc - tic),\n",
    "                )\n",
    "                tic = time.perf_counter()\n",
    "\n",
    "            if e > 2:\n",
    "                if abs(validLoss - loss_valid[-2]) < self.stopping:\n",
    "                    break\n",
    "        print(\"Training stopped:\")\n",
    "        testLoss = self.loss(self.test)\n",
    "        print(\n",
    "            \"Epoch : \",\n",
    "            \"{:3.0f}\".format(e + 1),\n",
    "            \" | Train Loss :\",\n",
    "            \"{:3.3f}\".format(trainLoss),\n",
    "            \" | Valid Loss:\",\n",
    "            \"{:3.3f}\".format(validLoss),\n",
    "            \" | Test Loss:\",\n",
    "            \"{:3.3f}\".format(testLoss),\n",
    "        )\n",
    "\n",
    "        return loss_train, loss_valid, testLoss, errors\n",
    "    \n",
    "\n",
    "@njit(parallel=True, fastmath=True)\n",
    "def _train_one_epoch(n_users, n_items, train, _P, _Q, mode, _mean, _bu, _bi, lr, weight_decay):\n",
    "    error = 0\n",
    "    for id_user in prange(n_users):\n",
    "        for id_item in prange(n_items):\n",
    "            if train[id_user, id_item] > 0:\n",
    "                # Predict\n",
    "                predict = np.dot(_P[id_user, :], _Q[id_item, :])\n",
    "                if mode == \"svd++\":\n",
    "                    predict += _mean + _bu[id_user] + _bi[id_item]\n",
    "\n",
    "                error = train[id_user, id_item] - predict\n",
    "\n",
    "                if mode == \"svd++\":\n",
    "                    _bu[id_user] += lr * (error - weight_decay * _bu[id_user])\n",
    "                    _bi[id_item] += lr * (error - weight_decay * _bi[id_item])\n",
    "\n",
    "                _P[id_user, :] += lr * (\n",
    "                    error * _Q[id_item, :] - weight_decay * _P[id_user, :]\n",
    "                )\n",
    "                _Q[id_item, :] += lr * (\n",
    "                    error * _P[id_user, :] - weight_decay * _Q[id_item, :]\n",
    "                )\n",
    "\n",
    "    return error\n"
   ]
  },
  {
   "cell_type": "code",
   "execution_count": 9,
   "metadata": {},
   "outputs": [],
   "source": [
    "@update_class()\n",
    "class SVDModel(RecommendSystemModel):\n",
    "    def prediction(self, u: int, i: int) -> float:\n",
    "        # Woody\n",
    "        return _prediction(u, i, self._P, self._Q, self._mean, self._bu, self._bi, self.mode)\n",
    "\n",
    "@njit(parallel=True, fastmath=True)\n",
    "def _prediction( u: int, i: int, _P, _Q, _mean, _bu, _bi, mode):\n",
    "    # Woody\n",
    "    predict = np.dot(_P[u, :], _Q[i, :])\n",
    "    if mode == \"svd++\":\n",
    "        predict += _mean + _bu[u] + _bi[i]\n",
    "    return predict\n"
   ]
  },
  {
   "cell_type": "code",
   "execution_count": 10,
   "metadata": {},
   "outputs": [],
   "source": [
    "@update_class()\n",
    "class SVDModel(RecommendSystemModel):\n",
    "    # Woody\n",
    "    def loss(self, groundTruthData) -> float:\n",
    "        # Woody\n",
    "        return _loss(groundTruthData, self.n_users, self.n_items, self.mode, self._P,self._Q, self._mean, self._bu, self._bi,self.train)\n",
    "\n",
    "@njit(parallel=True, fastmath=True)\n",
    "def _loss(groundTruthData, n_users, n_items,mode,_P,_Q,_mean,_bu,_bi,train,):\n",
    "    squaredErrors = 0.0\n",
    "    numOfPrediction = 0\n",
    "    for u in prange(n_users):\n",
    "        for i in prange(n_items):\n",
    "            if groundTruthData[u, i] > 0:\n",
    "                predict = np.dot(_P[u, :], _Q[i, :])\n",
    "                if mode == \"svd++\":\n",
    "                    predict += _mean + _bu[u] + _bi[i]\n",
    "                squaredErrors += pow(groundTruthData[u, i] - predict, 2)\n",
    "                numOfPrediction += 1\n",
    "    return 0 if numOfPrediction == 0 else squaredErrors / numOfPrediction"
   ]
  },
  {
   "cell_type": "markdown",
   "metadata": {},
   "source": [
    "# Try with an example"
   ]
  },
  {
   "cell_type": "code",
   "execution_count": 11,
   "metadata": {},
   "outputs": [],
   "source": [
    "# define the paths\n",
    "data_path = './data/ml-latest-small/'\n",
    "df_rating = pd.read_csv(data_path+'ratings.csv')\n",
    "df_movies = pd.read_csv(data_path+'movies.csv')\n",
    "m_movies = df_movies['movieId'].nunique()\n",
    "n_users = df_rating['userId'].nunique()\n",
    "n_ratings = len(df_rating)"
   ]
  },
  {
   "cell_type": "code",
   "execution_count": 12,
   "metadata": {},
   "outputs": [
    {
     "name": "stdout",
     "output_type": "stream",
     "text": [
      "9742\n",
      "610\n",
      "        userId  movieId  rating   timestamp\n",
      "0            1        1     4.0   964982703\n",
      "1            1        3     4.0   964981247\n",
      "2            1        6     4.0   964982224\n",
      "3            1       47     5.0   964983815\n",
      "4            1       50     5.0   964982931\n",
      "...        ...      ...     ...         ...\n",
      "100831     610   166534     4.0  1493848402\n",
      "100832     610   168248     5.0  1493850091\n",
      "100833     610   168250     5.0  1494273047\n",
      "100834     610   168252     5.0  1493846352\n",
      "100835     610   170875     3.0  1493846415\n",
      "\n",
      "[100836 rows x 4 columns]\n",
      "      movieId                                      title  \\\n",
      "0           1                           Toy Story (1995)   \n",
      "1           2                             Jumanji (1995)   \n",
      "2           3                    Grumpier Old Men (1995)   \n",
      "3           4                   Waiting to Exhale (1995)   \n",
      "4           5         Father of the Bride Part II (1995)   \n",
      "...       ...                                        ...   \n",
      "9737   193581  Black Butler: Book of the Atlantic (2017)   \n",
      "9738   193583               No Game No Life: Zero (2017)   \n",
      "9739   193585                               Flint (2017)   \n",
      "9740   193587        Bungo Stray Dogs: Dead Apple (2018)   \n",
      "9741   193609        Andrew Dice Clay: Dice Rules (1991)   \n",
      "\n",
      "                                           genres  \n",
      "0     Adventure|Animation|Children|Comedy|Fantasy  \n",
      "1                      Adventure|Children|Fantasy  \n",
      "2                                  Comedy|Romance  \n",
      "3                            Comedy|Drama|Romance  \n",
      "4                                          Comedy  \n",
      "...                                           ...  \n",
      "9737              Action|Animation|Comedy|Fantasy  \n",
      "9738                     Animation|Comedy|Fantasy  \n",
      "9739                                        Drama  \n",
      "9740                             Action|Animation  \n",
      "9741                                       Comedy  \n",
      "\n",
      "[9742 rows x 3 columns]\n"
     ]
    }
   ],
   "source": [
    "print(m_movies)\n",
    "print(n_users)\n",
    "print(df_rating)\n",
    "print(df_movies)"
   ]
  },
  {
   "cell_type": "code",
   "execution_count": 13,
   "metadata": {},
   "outputs": [
    {
     "data": {
      "text/plain": [
       "193609"
      ]
     },
     "execution_count": 13,
     "metadata": {},
     "output_type": "execute_result"
    }
   ],
   "source": [
    "df_movies['movieId'].max()"
   ]
  },
  {
   "cell_type": "code",
   "execution_count": 14,
   "metadata": {},
   "outputs": [
    {
     "data": {
      "text/plain": [
       "610"
      ]
     },
     "execution_count": 14,
     "metadata": {},
     "output_type": "execute_result"
    }
   ],
   "source": [
    "df_rating['userId'].max()"
   ]
  },
  {
   "cell_type": "code",
   "execution_count": 15,
   "metadata": {},
   "outputs": [],
   "source": [
    "df_movies.insert(1, 'newMovieId', value=range(1,len(df_movies)+1))"
   ]
  },
  {
   "cell_type": "code",
   "execution_count": 16,
   "metadata": {},
   "outputs": [],
   "source": [
    "newMovieIdDict = {}\n",
    "for index, movie in df_movies.iterrows():\n",
    "  newMovieIdDict[movie['movieId']] = movie['newMovieId']"
   ]
  },
  {
   "cell_type": "code",
   "execution_count": 17,
   "metadata": {},
   "outputs": [
    {
     "data": {
      "text/plain": [
       "9739"
      ]
     },
     "execution_count": 17,
     "metadata": {},
     "output_type": "execute_result"
    }
   ],
   "source": [
    "newMovieIdDict[193583]"
   ]
  },
  {
   "cell_type": "code",
   "execution_count": 18,
   "metadata": {},
   "outputs": [],
   "source": [
    "df_rating.replace({\"movieId\": newMovieIdDict}, inplace=True)"
   ]
  },
  {
   "cell_type": "code",
   "execution_count": 19,
   "metadata": {},
   "outputs": [],
   "source": [
    "# for index, rating in df_rating.iterrows():\n",
    "#   if index % 100000 == 0: print('{}/{}'.format(index, len(df_rating)))\n",
    "#   rating['movieId'] = newMovieIdDict[rating['movieId']]"
   ]
  },
  {
   "cell_type": "code",
   "execution_count": 20,
   "metadata": {},
   "outputs": [],
   "source": [
    "# for index, movie in df_movies.iterrows():\n",
    "#   for index, rating in df_rating.iterrows():\n",
    "#     if rating['movieId'] == movie['movieId']:\n",
    "#       rating['movieId'] = index+1"
   ]
  },
  {
   "cell_type": "code",
   "execution_count": 21,
   "metadata": {},
   "outputs": [],
   "source": [
    "# for index, movie in df_movies.iterrows():\n",
    "#   c = df_rating['movieId'].eq(movie['movieId'])\n",
    "#   df_rating.loc[c,'movieId']=index+1"
   ]
  },
  {
   "cell_type": "code",
   "execution_count": 22,
   "metadata": {},
   "outputs": [],
   "source": [
    "# data = np.array(df_rating,dtype=int)\n",
    "# u3 = data[:, 1][data[:, 0] == 3]\n",
    "# print(len(u3))\n",
    "# print(u3)"
   ]
  },
  {
   "cell_type": "code",
   "execution_count": 23,
   "metadata": {},
   "outputs": [
    {
     "name": "stdout",
     "output_type": "stream",
     "text": [
      "<class 'pandas.core.frame.DataFrame'>\n",
      "RangeIndex: 100836 entries, 0 to 100835\n",
      "Data columns (total 4 columns):\n",
      " #   Column     Non-Null Count   Dtype\n",
      "---  ------     --------------   -----\n",
      " 0   userId     100836 non-null  int64\n",
      " 1   movieId    100836 non-null  int64\n",
      " 2   rating     100836 non-null  int64\n",
      " 3   timestamp  100836 non-null  int64\n",
      "dtypes: int64(4)\n",
      "memory usage: 3.1 MB\n"
     ]
    }
   ],
   "source": [
    "df_rating['rating'] = df_rating['rating'].astype(np.int64)\n",
    "df_rating.info()"
   ]
  },
  {
   "cell_type": "code",
   "execution_count": 24,
   "metadata": {},
   "outputs": [
    {
     "data": {
      "text/plain": [
       "False"
      ]
     },
     "execution_count": 24,
     "metadata": {},
     "output_type": "execute_result"
    }
   ],
   "source": [
    "df_rating.empty"
   ]
  },
  {
   "cell_type": "code",
   "execution_count": 25,
   "metadata": {},
   "outputs": [],
   "source": [
    "features = 1\n",
    "lr = 0.01\n",
    "epochs = 11\n",
    "weight_decay = 0.02\n",
    "stopping = 0.001\n",
    "\n",
    "svd = SVDModel(features=features, lr=lr, epochs=epochs, weight_decay=weight_decay, stopping=stopping)"
   ]
  },
  {
   "cell_type": "code",
   "execution_count": 26,
   "metadata": {},
   "outputs": [],
   "source": [
    "svd.data_loader(data=df_rating)"
   ]
  },
  {
   "cell_type": "code",
   "execution_count": 27,
   "metadata": {},
   "outputs": [
    {
     "name": "stdout",
     "output_type": "stream",
     "text": [
      "User Item Matrix Shape: (610, 9724)\n",
      "User Reference length: 610\n",
      "Item Reference length: 9724\n"
     ]
    }
   ],
   "source": [
    "svd.split(0.6,0.8)"
   ]
  },
  {
   "cell_type": "code",
   "execution_count": 28,
   "metadata": {},
   "outputs": [
    {
     "name": "stdout",
     "output_type": "stream",
     "text": [
      "610 9724\n"
     ]
    }
   ],
   "source": [
    "print(len(svd.test), len(svd.test[0]))"
   ]
  },
  {
   "cell_type": "code",
   "execution_count": 30,
   "metadata": {},
   "outputs": [
    {
     "name": "stdout",
     "output_type": "stream",
     "text": [
      "Epoch :    1  | Train : 9.498  | Valid : 9.756  | Time : 0.03104s\n",
      "Epoch :   11  | Train : 0.748  | Valid : 1.471  | Time : 0.29275s\n",
      "Training stopped:\n",
      "Epoch :   11  | Train Loss : 0.748  | Valid Loss: 1.471  | Test Loss: 1.477\n",
      "0.3299993999999913s\n"
     ]
    }
   ],
   "source": [
    "tic = time.perf_counter()\n",
    "loss_train, loss_valid, testLoss, errors= svd.training()\n",
    "toc = time.perf_counter()\n",
    "print(f'{toc-tic}s')"
   ]
  },
  {
   "cell_type": "code",
   "execution_count": 31,
   "metadata": {},
   "outputs": [
    {
     "data": {
      "image/png": "[encoded data removed]",
      "text/plain": [
       "<Figure size 1200x800 with 1 Axes>"
      ]
     },
     "metadata": {},
     "output_type": "display_data"
    }
   ],
   "source": [
    "x = list(range(len(loss_train)))\n",
    "k=0\n",
    "\n",
    "sns.set(rc={'figure.figsize':(12,8)})\n",
    "sns.set(font_scale = 1.5)\n",
    "\n",
    "plt.plot(x[-k:], loss_train[-k:], 'r', label=\"Train\")\n",
    "plt.plot(x[-k:], loss_valid[-k:], 'g', label=\"Validation\")\n",
    "plt.title('Learning curves')\n",
    "plt.xlabel('Epoch')\n",
    "plt.ylabel('MSE')\n",
    "leg = plt.legend(loc='best', shadow=True, fancybox=True)"
   ]
  }
 ],
 "metadata": {
  "kernelspec": {
   "display_name": "Python 3 (ipykernel)",
   "language": "python",
   "name": "python3"
  },
  "language_info": {
   "codemirror_mode": {
    "name": "ipython",
    "version": 3
   },
   "file_extension": ".py",
   "mimetype": "text/x-python",
   "name": "python",
   "nbconvert_exporter": "python",
   "pygments_lexer": "ipython3",
   "version": "3.7.13"
  },
  "vscode": {
   "interpreter": {
    "hash": "700a48a79e01336b565934c39e82c651368cb6d560b25f670fa29b80c90d337c"
   }
  }
 },
 "nbformat": 4,
 "nbformat_minor": 2
}
