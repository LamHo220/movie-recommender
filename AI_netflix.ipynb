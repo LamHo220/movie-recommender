{
 "cells": [
  {
   "cell_type": "code",
   "execution_count": 1,
   "metadata": {},
   "outputs": [],
   "source": [
    "from SVDModel import SVDModel\n",
    "import pandas as pd\n",
    "import numpy as np\n",
    "import seaborn as sns\n",
    "import matplotlib.pyplot as plt\n",
    "import time\n",
    "from joblib import Parallel, delayed\n",
    "import pickle\n",
    "import os.path\n",
    "from pathlib import Path\n",
    "\n",
    "np.random.seed(3362)"
   ]
  },
  {
   "cell_type": "code",
   "execution_count": 2,
   "metadata": {},
   "outputs": [],
   "source": [
    "PARAM = dict()\n",
    "PARAM['features'] = 3\n",
    "PARAM['lr'] = 0.01\n",
    "PARAM['epochs'] = 501\n",
    "PARAM['weight_decay'] = 0.02\n",
    "PARAM['stopping'] = 0.001\n",
    "PARAM['mode'] = 'svd++'"
   ]
  },
  {
   "cell_type": "code",
   "execution_count": 3,
   "metadata": {},
   "outputs": [
    {
     "name": "stdout",
     "output_type": "stream",
     "text": [
      "(65536, 4)\n",
      "(17770, 3)\n"
     ]
    }
   ],
   "source": [
    "names = ['userId','rating','timestamp','movieId']\n",
    "df_netflix = pd.read_csv('data/NetflixPrize/'+'data_1.txt', names=names, low_memory=False)\n",
    "df_netflix_2 = pd.read_csv('data/NetflixPrize/'+'data_2.txt', names=names, low_memory=False)\n",
    "df_netflix_3 = pd.read_csv('data/NetflixPrize/'+'data_3.txt', names=names, low_memory=False)\n",
    "df_netflix_4 = pd.read_csv('data/NetflixPrize/'+'data_4.txt', names=names, low_memory=False)\n",
    "df_netflix = pd.concat([df_netflix,df_netflix_2,df_netflix_3,df_netflix_4], names=names)\n",
    "df_netflix['movieId'] = df_netflix['movieId'].fillna(method='ffill')\n",
    "df_netflix.dropna(inplace=True)\n",
    "df_netflix['rating'] = df_netflix['rating'].astype(np.int8)\n",
    "df_netflix['movieId'] = df_netflix['movieId'].astype(np.int16)\n",
    "df_netflix['userId'] = df_netflix['userId'].astype(np.int32)\n",
    "df_netflix['timestamp'] = pd.to_datetime(df_netflix['timestamp']).view(dtype=np.int64) // 10 ** 9\n",
    "df_movies = pd.read_csv('data/NetflixPrize/'+'movie_titles.csv',\n",
    "                        encoding='latin-1',\n",
    "                        names=['movieId','release_year','title'],\n",
    "                        usecols=range(3))\n",
    "NETFLIX = {\n",
    "  'ratings': df_netflix[['userId','movieId','rating','timestamp']].sample(2**16),\n",
    "  'movies': df_movies,\n",
    "  'm_movies': df_netflix['movieId'].nunique(),\n",
    "  'n_users': df_netflix['userId'].nunique(),\n",
    "  'n_ratings': len(df_netflix)\n",
    "}\n",
    "print(NETFLIX['ratings'].shape)\n",
    "print(NETFLIX['movies'].shape)"
   ]
  },
  {
   "cell_type": "code",
   "execution_count": 4,
   "metadata": {},
   "outputs": [
    {
     "name": "stdout",
     "output_type": "stream",
     "text": [
      "Creating SVD Model\n",
      "Created\n",
      "Loading Data\n",
      "Loaded Data\n",
      "Spliting Data\n",
      "User Item Matrix Shape: (54794, 7938)\n",
      "User Reference length: 54794\n",
      "Item Reference length: 7938\n",
      "Splitted Data\n"
     ]
    }
   ],
   "source": [
    "print('Creating SVD Model')\n",
    "svd = SVDModel()\n",
    "print(\"Created\\nLoading Data\")\n",
    "svd.data_loader(data=NETFLIX['ratings'],\n",
    "                n_items = NETFLIX['m_movies'],\n",
    "                n_users= NETFLIX['n_users'])\n",
    "print(\"Loaded Data\\nSpliting Data\")\n",
    "svd.split(0.8,0.8)\n",
    "print(\"Splitted Data\")"
   ]
  },
  {
   "cell_type": "code",
   "execution_count": 5,
   "metadata": {},
   "outputs": [],
   "source": [
    "def train_model(features, lr, epochs, weight_decay, mode):\n",
    "    print(\"Training\")\n",
    "    # if os.path.isfile(f'./model_netflix/svdpp/result/{features}_{lr}_{epochs}_{weight_decay}_0.001.pkl'):\n",
    "    #     return\n",
    "    print(f\"==============================\")\n",
    "    print(f'features: {features}\\nlearning rate: {lr}\\nEpochs: {epochs}\\nweight decay: {weight_decay}\\nstopping: 0.001\\n')\n",
    " \n",
    "    svd.features = features\n",
    "    svd.lr = lr\n",
    "    svd.epochs = epochs\n",
    "    svd.weight_decay = weight_decay\n",
    "    svd.mode = mode\n",
    "    svd.stopping = PARAM['stopping']\n",
    " \n",
    "\n",
    "    print(\"Splitted Data\\nTraining...\")\n",
    "    start = time.perf_counter()\n",
    "    result = svd.training()\n",
    "    print('Time used =', time.perf_counter()-start)\n",
    "   \n",
    "    print('Saving Model')\n",
    "    Path(f\"./model_netflix\").mkdir(parents=True, exist_ok=True)\n",
    "    Path(f\"./model_netflix/svdpp\").mkdir(parents=True, exist_ok=True)\n",
    "    Path(f\"./model_netflix/svdpp/model\").mkdir(parents=True, exist_ok=True)\n",
    "    Path(f\"./model_netflix/svdpp/result\").mkdir(parents=True, exist_ok=True)\n",
    "   \n",
    "   \n",
    "    # with open(f'./model_netflix/svdpp/model/{features}_{lr}_{epochs}_{weight_decay}_0.001.pkl', 'wb') as out:\n",
    "    #     pickle.dump(svd, out, pickle.HIGHEST_PROTOCOL)\n",
    "    #     out.close()\n",
    "    with open(f'./model_netflix/svdpp/result/{features}_{lr}_{epochs}_{weight_decay}_0.001.pkl', 'wb') as out:\n",
    "        pickle.dump(result, out, pickle.HIGHEST_PROTOCOL)\n",
    "        out.close()\n",
    "    print(f\"==============================\")\n",
    "    return svd, result"
   ]
  },
  {
   "cell_type": "code",
   "execution_count": 6,
   "metadata": {},
   "outputs": [
    {
     "name": "stdout",
     "output_type": "stream",
     "text": [
      "Training\n",
      "==============================\n",
      "features: 3\n",
      "learning rate: 0.01\n",
      "Epochs: 501\n",
      "weight decay: 0.02\n",
      "stopping: 0.001\n",
      "\n",
      "Splitted Data\n",
      "Training...\n",
      "Epoch :    1  | Train : 1.092  | Valid : 1.130  | Time : 19.27749s\n",
      "Training stopped:\n",
      "Epoch :    9  | Train Loss : 0.822  | Valid Loss: 1.087  | Test Loss: 1.090\n",
      "Time used = 37.46388730000001\n",
      "Saving Model\n",
      "==============================\n"
     ]
    }
   ],
   "source": [
    "res_svd, result = train_model(PARAM['features'],PARAM['lr'],PARAM['epochs'],PARAM['weight_decay'],PARAM['mode'] ) "
   ]
  },
  {
   "cell_type": "code",
   "execution_count": 7,
   "metadata": {},
   "outputs": [
    {
     "name": "stdout",
     "output_type": "stream",
     "text": [
      "0.8218441387917512\n",
      "1.0870115404557084\n",
      "1.090053962630309\n",
      "9\n"
     ]
    }
   ],
   "source": [
    "# load result\n",
    "if os.path.isfile(f\"./model_netflix/svdpp/result/{PARAM['features']}_{PARAM['lr']}_{PARAM['epochs']}_{PARAM['weight_decay']}_0.001.pkl\"):\n",
    "  # with open(f\"./model_netflix/svdpp/model/{PARAM['features']}_{PARAM['lr']}_{PARAM['epochs']}_{PARAM['weight_decay']}_0.001.pkl\", 'rb') as inp:\n",
    "  #   svd = pickle.load(inp)\n",
    "  #   inp.close()\n",
    "  with open(f\"./model_netflix/svdpp/result/{PARAM['features']}_{PARAM['lr']}_{PARAM['epochs']}_{PARAM['weight_decay']}_0.001.pkl\", 'rb') as inp:\n",
    "    result = pickle.load(inp)\n",
    "    print(result[0][-1])\n",
    "    print(result[1][-1])\n",
    "    print(result[2])\n",
    "    print(len(result[0]))\n",
    "    inp.close()\n",
    "    "
   ]
  },
  {
   "cell_type": "code",
   "execution_count": 8,
   "metadata": {},
   "outputs": [],
   "source": [
    "from SVDModel import topKPrediction,movieRatePredictionByUserIdMovieId"
   ]
  },
  {
   "cell_type": "markdown",
   "metadata": {},
   "source": [
    "### Definition of Relevant and Recommended\n",
    "\n",
    "* Relevant: True Rating `>=` threshold\n",
    "* Irrelevant: True Rating `<` threshold\n",
    "* Recommended item: Predicted Rating `>=` threshold\n",
    "* Not Recommended item: Predicted Rating `<` threshold"
   ]
  },
  {
   "cell_type": "code",
   "execution_count": 9,
   "metadata": {},
   "outputs": [],
   "source": [
    "predictions = {\n",
    "  'userId':[],\n",
    "  'movieId':[],\n",
    "  'actual':[],\n",
    "  'prediction':[]\n",
    "}\n",
    "for i,(userId,movieId, actual,_) in svd.data.iterrows():\n",
    "    # print(svd.test[i,j])\n",
    "    prediction = movieRatePredictionByUserIdMovieId(userId=userId,movieId=movieId,model=svd)\n",
    "    predictions['userId'].append(userId)\n",
    "    predictions['movieId'].append(movieId)\n",
    "    predictions['actual'].append(actual)\n",
    "    predictions['prediction'].append(prediction)\n"
   ]
  },
  {
   "cell_type": "code",
   "execution_count": 10,
   "metadata": {},
   "outputs": [],
   "source": [
    "df = pd.DataFrame(predictions)"
   ]
  },
  {
   "cell_type": "code",
   "execution_count": 11,
   "metadata": {},
   "outputs": [
    {
     "data": {
      "text/html": [
       "<div>\n",
       "<style scoped>\n",
       "    .dataframe tbody tr th:only-of-type {\n",
       "        vertical-align: middle;\n",
       "    }\n",
       "\n",
       "    .dataframe tbody tr th {\n",
       "        vertical-align: top;\n",
       "    }\n",
       "\n",
       "    .dataframe thead th {\n",
       "        text-align: right;\n",
       "    }\n",
       "</style>\n",
       "<table border=\"1\" class=\"dataframe\">\n",
       "  <thead>\n",
       "    <tr style=\"text-align: right;\">\n",
       "      <th></th>\n",
       "      <th>userId</th>\n",
       "      <th>movieId</th>\n",
       "      <th>actual</th>\n",
       "      <th>prediction</th>\n",
       "    </tr>\n",
       "  </thead>\n",
       "  <tbody>\n",
       "    <tr>\n",
       "      <th>0</th>\n",
       "      <td>2572942</td>\n",
       "      <td>16997</td>\n",
       "      <td>2</td>\n",
       "      <td>3.755091</td>\n",
       "    </tr>\n",
       "    <tr>\n",
       "      <th>1</th>\n",
       "      <td>856444</td>\n",
       "      <td>483</td>\n",
       "      <td>4</td>\n",
       "      <td>3.630530</td>\n",
       "    </tr>\n",
       "    <tr>\n",
       "      <th>2</th>\n",
       "      <td>2368112</td>\n",
       "      <td>13636</td>\n",
       "      <td>5</td>\n",
       "      <td>4.054302</td>\n",
       "    </tr>\n",
       "    <tr>\n",
       "      <th>3</th>\n",
       "      <td>1084697</td>\n",
       "      <td>5181</td>\n",
       "      <td>2</td>\n",
       "      <td>3.477181</td>\n",
       "    </tr>\n",
       "    <tr>\n",
       "      <th>4</th>\n",
       "      <td>17287</td>\n",
       "      <td>14670</td>\n",
       "      <td>2</td>\n",
       "      <td>3.835695</td>\n",
       "    </tr>\n",
       "  </tbody>\n",
       "</table>\n",
       "</div>"
      ],
      "text/plain": [
       "    userId  movieId  actual  prediction\n",
       "0  2572942    16997       2    3.755091\n",
       "1   856444      483       4    3.630530\n",
       "2  2368112    13636       5    4.054302\n",
       "3  1084697     5181       2    3.477181\n",
       "4    17287    14670       2    3.835695"
      ]
     },
     "execution_count": 11,
     "metadata": {},
     "output_type": "execute_result"
    }
   ],
   "source": [
    "df.head()"
   ]
  },
  {
   "cell_type": "code",
   "execution_count": 12,
   "metadata": {},
   "outputs": [
    {
     "data": {
      "text/html": [
       "<div>\n",
       "<style scoped>\n",
       "    .dataframe tbody tr th:only-of-type {\n",
       "        vertical-align: middle;\n",
       "    }\n",
       "\n",
       "    .dataframe tbody tr th {\n",
       "        vertical-align: top;\n",
       "    }\n",
       "\n",
       "    .dataframe thead th {\n",
       "        text-align: right;\n",
       "    }\n",
       "</style>\n",
       "<table border=\"1\" class=\"dataframe\">\n",
       "  <thead>\n",
       "    <tr style=\"text-align: right;\">\n",
       "      <th></th>\n",
       "      <th>precision</th>\n",
       "      <th>recall</th>\n",
       "    </tr>\n",
       "  </thead>\n",
       "  <tbody>\n",
       "    <tr>\n",
       "      <th>0.0</th>\n",
       "      <td>1.000000</td>\n",
       "      <td>1.000000</td>\n",
       "    </tr>\n",
       "    <tr>\n",
       "      <th>0.5</th>\n",
       "      <td>1.000000</td>\n",
       "      <td>1.000000</td>\n",
       "    </tr>\n",
       "    <tr>\n",
       "      <th>1.0</th>\n",
       "      <td>1.000000</td>\n",
       "      <td>1.000000</td>\n",
       "    </tr>\n",
       "    <tr>\n",
       "      <th>1.5</th>\n",
       "      <td>0.953781</td>\n",
       "      <td>1.000000</td>\n",
       "    </tr>\n",
       "    <tr>\n",
       "      <th>2.0</th>\n",
       "      <td>0.953781</td>\n",
       "      <td>1.000000</td>\n",
       "    </tr>\n",
       "    <tr>\n",
       "      <th>2.5</th>\n",
       "      <td>0.853201</td>\n",
       "      <td>1.000000</td>\n",
       "    </tr>\n",
       "    <tr>\n",
       "      <th>3.0</th>\n",
       "      <td>0.865612</td>\n",
       "      <td>0.988175</td>\n",
       "    </tr>\n",
       "    <tr>\n",
       "      <th>3.5</th>\n",
       "      <td>0.699110</td>\n",
       "      <td>0.834877</td>\n",
       "    </tr>\n",
       "    <tr>\n",
       "      <th>4.0</th>\n",
       "      <td>0.878146</td>\n",
       "      <td>0.205500</td>\n",
       "    </tr>\n",
       "    <tr>\n",
       "      <th>4.5</th>\n",
       "      <td>0.828996</td>\n",
       "      <td>0.029542</td>\n",
       "    </tr>\n",
       "    <tr>\n",
       "      <th>5.0</th>\n",
       "      <td>0.000000</td>\n",
       "      <td>0.000000</td>\n",
       "    </tr>\n",
       "  </tbody>\n",
       "</table>\n",
       "</div>"
      ],
      "text/plain": [
       "     precision    recall\n",
       "0.0   1.000000  1.000000\n",
       "0.5   1.000000  1.000000\n",
       "1.0   1.000000  1.000000\n",
       "1.5   0.953781  1.000000\n",
       "2.0   0.953781  1.000000\n",
       "2.5   0.853201  1.000000\n",
       "3.0   0.865612  0.988175\n",
       "3.5   0.699110  0.834877\n",
       "4.0   0.878146  0.205500\n",
       "4.5   0.828996  0.029542\n",
       "5.0   0.000000  0.000000"
      ]
     },
     "execution_count": 12,
     "metadata": {},
     "output_type": "execute_result"
    }
   ],
   "source": [
    "# Find a threshold\n",
    "thresholds = np.arange(0,5.1,0.5)\n",
    "res = {\n",
    "  'precision':[],\n",
    "  'recall':[],\n",
    "}\n",
    "\n",
    "from numba import njit, prange\n",
    " \n",
    "@njit\n",
    "def _g(df, threshold):\n",
    "  true_positive = 0\n",
    "  true_negative = 0\n",
    "  false_positive = 0\n",
    "  false_negative = 0\n",
    "  precision = 0\n",
    "  recall = 0\n",
    "  for i in prange(len(df)):\n",
    "    _,_,actual,prediction = df[i]\n",
    "    if actual >= threshold:\n",
    "      if prediction >= threshold:\n",
    "        true_positive+=1\n",
    "      else:\n",
    "        false_negative+=1\n",
    "    else:\n",
    "      if prediction >= threshold:\n",
    "        false_positive+=1\n",
    "      else:\n",
    "        true_negative+=1\n",
    "  precision = true_positive / (true_positive + false_positive) if true_positive + false_positive!=0 else 0\n",
    "  recall = true_positive / (true_positive + false_negative) if true_positive + false_negative!=0 else 0\n",
    "  return precision,recall\n",
    "\n",
    "for threshold in thresholds:\n",
    "  precision, recall = _g(df.to_numpy(),threshold)\n",
    "  res['precision'].append(precision)\n",
    "  res['recall'].append(recall)\n",
    "df_res = pd.DataFrame(res, index=thresholds)\n",
    "df_res\n"
   ]
  },
  {
   "cell_type": "markdown",
   "metadata": {},
   "source": [
    "the optimal threshold = `3.0`"
   ]
  },
  {
   "cell_type": "code",
   "execution_count": 13,
   "metadata": {},
   "outputs": [],
   "source": [
    "from collections import defaultdict\n",
    "\n",
    "user = defaultdict(list)\n",
    "for i, (uid, _, actual, prediction) in df.iterrows():\n",
    "  user[int(uid)].append((actual, prediction))\n"
   ]
  },
  {
   "cell_type": "code",
   "execution_count": 14,
   "metadata": {},
   "outputs": [],
   "source": [
    "k = range(1,11)\n",
    "stat = {\n",
    "    'mAP':[],\n",
    "    'average recalls':[]\n",
    "}\n",
    "\n",
    "for i in k:\n",
    "    PatK_byUser = dict()\n",
    "    APatK_byUser = dict()\n",
    "    recalls = dict()\n",
    "    for userId, user_ratings in user.items():\n",
    "        user_ratings.sort(key=lambda x: x[0], reverse=True)\n",
    "        \n",
    "        relevant = [(actual >= 3) for (actual,_) in user_ratings]\n",
    "        n_relevant = sum(relevant)\n",
    "        \n",
    "        \n",
    "        items = [(prediction >= 3) for (_,prediction) in user_ratings[:i]]\n",
    "        k_items = sum(items)\n",
    "        \n",
    "        relevant_in_k = [((actual >= 3) and (prediction >= 3)) for (actual, prediction) in user_ratings[:i]]\n",
    "        n_relevant_in_k = sum(relevant_in_k)\n",
    "        \n",
    "        #P@K\n",
    "        PatK_byUser[userId] = n_relevant_in_k / k_items if k_items != 0 else 1\n",
    "        \n",
    "        #AP@K\n",
    "        APatK_byUser[userId] = 0\n",
    "        \n",
    "        for j,item in enumerate(relevant):\n",
    "            if j >=i:\n",
    "                break\n",
    "            APatK_byUser[userId] += relevant_in_k[j]/(j+1)\n",
    "        APatK_byUser[userId] = APatK_byUser[userId] / n_relevant_in_k if n_relevant_in_k !=0 else 1\n",
    "        \n",
    "        #Recall@K\n",
    "        recalls[userId] = n_relevant_in_k / n_relevant if n_relevant != 0 else 1\n",
    "        \n",
    "    mAP = sum(APatK_byUser.values())/len(APatK_byUser)\n",
    "    stat['mAP'].append(mAP)\n",
    "    stat['average recalls'].append(sum(recalls.values())/len(recalls))"
   ]
  },
  {
   "cell_type": "code",
   "execution_count": 15,
   "metadata": {},
   "outputs": [
    {
     "data": {
      "text/html": [
       "<div>\n",
       "<style scoped>\n",
       "    .dataframe tbody tr th:only-of-type {\n",
       "        vertical-align: middle;\n",
       "    }\n",
       "\n",
       "    .dataframe tbody tr th {\n",
       "        vertical-align: top;\n",
       "    }\n",
       "\n",
       "    .dataframe thead th {\n",
       "        text-align: right;\n",
       "    }\n",
       "</style>\n",
       "<table border=\"1\" class=\"dataframe\">\n",
       "  <thead>\n",
       "    <tr style=\"text-align: right;\">\n",
       "      <th></th>\n",
       "      <th>mAP</th>\n",
       "      <th>average recalls</th>\n",
       "    </tr>\n",
       "  </thead>\n",
       "  <tbody>\n",
       "    <tr>\n",
       "      <th>1</th>\n",
       "      <td>1.000000</td>\n",
       "      <td>0.926968</td>\n",
       "    </tr>\n",
       "    <tr>\n",
       "      <th>2</th>\n",
       "      <td>0.970316</td>\n",
       "      <td>0.982309</td>\n",
       "    </tr>\n",
       "    <tr>\n",
       "      <th>3</th>\n",
       "      <td>0.967527</td>\n",
       "      <td>0.988542</td>\n",
       "    </tr>\n",
       "    <tr>\n",
       "      <th>4</th>\n",
       "      <td>0.967218</td>\n",
       "      <td>0.989328</td>\n",
       "    </tr>\n",
       "    <tr>\n",
       "      <th>5</th>\n",
       "      <td>0.967169</td>\n",
       "      <td>0.989471</td>\n",
       "    </tr>\n",
       "    <tr>\n",
       "      <th>6</th>\n",
       "      <td>0.967159</td>\n",
       "      <td>0.989498</td>\n",
       "    </tr>\n",
       "    <tr>\n",
       "      <th>7</th>\n",
       "      <td>0.967155</td>\n",
       "      <td>0.989512</td>\n",
       "    </tr>\n",
       "    <tr>\n",
       "      <th>8</th>\n",
       "      <td>0.967153</td>\n",
       "      <td>0.989518</td>\n",
       "    </tr>\n",
       "    <tr>\n",
       "      <th>9</th>\n",
       "      <td>0.967153</td>\n",
       "      <td>0.989520</td>\n",
       "    </tr>\n",
       "    <tr>\n",
       "      <th>10</th>\n",
       "      <td>0.967153</td>\n",
       "      <td>0.989521</td>\n",
       "    </tr>\n",
       "  </tbody>\n",
       "</table>\n",
       "</div>"
      ],
      "text/plain": [
       "         mAP  average recalls\n",
       "1   1.000000         0.926968\n",
       "2   0.970316         0.982309\n",
       "3   0.967527         0.988542\n",
       "4   0.967218         0.989328\n",
       "5   0.967169         0.989471\n",
       "6   0.967159         0.989498\n",
       "7   0.967155         0.989512\n",
       "8   0.967153         0.989518\n",
       "9   0.967153         0.989520\n",
       "10  0.967153         0.989521"
      ]
     },
     "execution_count": 15,
     "metadata": {},
     "output_type": "execute_result"
    }
   ],
   "source": [
    "pd.DataFrame(stat,index=k)"
   ]
  },
  {
   "cell_type": "code",
   "execution_count": 16,
   "metadata": {},
   "outputs": [
    {
     "data": {
      "text/plain": [
       "[<matplotlib.lines.Line2D at 0x17806c73b08>]"
      ]
     },
     "execution_count": 16,
     "metadata": {},
     "output_type": "execute_result"
    },
    {
     "data": {
      "image/png": "[encoded data removed]",
      "text/plain": [
       "<Figure size 640x480 with 1 Axes>"
      ]
     },
     "metadata": {},
     "output_type": "display_data"
    }
   ],
   "source": [
    "plt.plot(k,stat['mAP'])\n",
    "plt.plot(k,stat['average recalls'])"
   ]
  }
 ],
 "metadata": {
  "kernelspec": {
   "display_name": "Python 3 (ipykernel)",
   "language": "python",
   "name": "python3"
  },
  "language_info": {
   "codemirror_mode": {
    "name": "ipython",
    "version": 3
   },
   "file_extension": ".py",
   "mimetype": "text/x-python",
   "name": "python",
   "nbconvert_exporter": "python",
   "pygments_lexer": "ipython3",
   "version": "3.7.13"
  }
 },
 "nbformat": 4,
 "nbformat_minor": 2
}
